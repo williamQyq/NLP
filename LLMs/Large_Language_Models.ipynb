{
  "nbformat": 4,
  "nbformat_minor": 0,
  "metadata": {
    "colab": {
      "provenance": [],
      "gpuType": "A100"
    },
    "kernelspec": {
      "name": "python3",
      "display_name": "Python 3"
    },
    "language_info": {
      "name": "python"
    },
    "accelerator": "GPU",
    "widgets": {
      "application/vnd.jupyter.widget-state+json": {
        "14e25f0e489c46f2aa86e463628fa59f": {
          "model_module": "@jupyter-widgets/controls",
          "model_name": "HBoxModel",
          "model_module_version": "1.5.0",
          "state": {
            "_dom_classes": [],
            "_model_module": "@jupyter-widgets/controls",
            "_model_module_version": "1.5.0",
            "_model_name": "HBoxModel",
            "_view_count": null,
            "_view_module": "@jupyter-widgets/controls",
            "_view_module_version": "1.5.0",
            "_view_name": "HBoxView",
            "box_style": "",
            "children": [
              "IPY_MODEL_454326afeafc4055ada836b79d8ba8e0",
              "IPY_MODEL_85a6cb2f311d4634974d6217ba49a70e",
              "IPY_MODEL_3c362e4acb554a0aa1489932eb1b39a1"
            ],
            "layout": "IPY_MODEL_9a9a1ad016414f54a4a887b599f519de"
          }
        },
        "454326afeafc4055ada836b79d8ba8e0": {
          "model_module": "@jupyter-widgets/controls",
          "model_name": "HTMLModel",
          "model_module_version": "1.5.0",
          "state": {
            "_dom_classes": [],
            "_model_module": "@jupyter-widgets/controls",
            "_model_module_version": "1.5.0",
            "_model_name": "HTMLModel",
            "_view_count": null,
            "_view_module": "@jupyter-widgets/controls",
            "_view_module_version": "1.5.0",
            "_view_name": "HTMLView",
            "description": "",
            "description_tooltip": null,
            "layout": "IPY_MODEL_17d1d6fd3eaf401ab07ef3c7b0445719",
            "placeholder": "​",
            "style": "IPY_MODEL_7f6cdc31ca194169958ccbb8ec344017",
            "value": "Map: 100%"
          }
        },
        "85a6cb2f311d4634974d6217ba49a70e": {
          "model_module": "@jupyter-widgets/controls",
          "model_name": "FloatProgressModel",
          "model_module_version": "1.5.0",
          "state": {
            "_dom_classes": [],
            "_model_module": "@jupyter-widgets/controls",
            "_model_module_version": "1.5.0",
            "_model_name": "FloatProgressModel",
            "_view_count": null,
            "_view_module": "@jupyter-widgets/controls",
            "_view_module_version": "1.5.0",
            "_view_name": "ProgressView",
            "bar_style": "success",
            "description": "",
            "description_tooltip": null,
            "layout": "IPY_MODEL_82c1b129c1f1488dbd10b2292d9c5c30",
            "max": 14732,
            "min": 0,
            "orientation": "horizontal",
            "style": "IPY_MODEL_6efc9d7fac32410b8e72c78c2b29f5c1",
            "value": 14732
          }
        },
        "3c362e4acb554a0aa1489932eb1b39a1": {
          "model_module": "@jupyter-widgets/controls",
          "model_name": "HTMLModel",
          "model_module_version": "1.5.0",
          "state": {
            "_dom_classes": [],
            "_model_module": "@jupyter-widgets/controls",
            "_model_module_version": "1.5.0",
            "_model_name": "HTMLModel",
            "_view_count": null,
            "_view_module": "@jupyter-widgets/controls",
            "_view_module_version": "1.5.0",
            "_view_name": "HTMLView",
            "description": "",
            "description_tooltip": null,
            "layout": "IPY_MODEL_af84bf36d2744e4682556ebbfed208a1",
            "placeholder": "​",
            "style": "IPY_MODEL_06664d54082c47d390958cd87f7b5d86",
            "value": " 14732/14732 [00:16&lt;00:00, 1390.62 examples/s]"
          }
        },
        "9a9a1ad016414f54a4a887b599f519de": {
          "model_module": "@jupyter-widgets/base",
          "model_name": "LayoutModel",
          "model_module_version": "1.2.0",
          "state": {
            "_model_module": "@jupyter-widgets/base",
            "_model_module_version": "1.2.0",
            "_model_name": "LayoutModel",
            "_view_count": null,
            "_view_module": "@jupyter-widgets/base",
            "_view_module_version": "1.2.0",
            "_view_name": "LayoutView",
            "align_content": null,
            "align_items": null,
            "align_self": null,
            "border": null,
            "bottom": null,
            "display": null,
            "flex": null,
            "flex_flow": null,
            "grid_area": null,
            "grid_auto_columns": null,
            "grid_auto_flow": null,
            "grid_auto_rows": null,
            "grid_column": null,
            "grid_gap": null,
            "grid_row": null,
            "grid_template_areas": null,
            "grid_template_columns": null,
            "grid_template_rows": null,
            "height": null,
            "justify_content": null,
            "justify_items": null,
            "left": null,
            "margin": null,
            "max_height": null,
            "max_width": null,
            "min_height": null,
            "min_width": null,
            "object_fit": null,
            "object_position": null,
            "order": null,
            "overflow": null,
            "overflow_x": null,
            "overflow_y": null,
            "padding": null,
            "right": null,
            "top": null,
            "visibility": null,
            "width": null
          }
        },
        "17d1d6fd3eaf401ab07ef3c7b0445719": {
          "model_module": "@jupyter-widgets/base",
          "model_name": "LayoutModel",
          "model_module_version": "1.2.0",
          "state": {
            "_model_module": "@jupyter-widgets/base",
            "_model_module_version": "1.2.0",
            "_model_name": "LayoutModel",
            "_view_count": null,
            "_view_module": "@jupyter-widgets/base",
            "_view_module_version": "1.2.0",
            "_view_name": "LayoutView",
            "align_content": null,
            "align_items": null,
            "align_self": null,
            "border": null,
            "bottom": null,
            "display": null,
            "flex": null,
            "flex_flow": null,
            "grid_area": null,
            "grid_auto_columns": null,
            "grid_auto_flow": null,
            "grid_auto_rows": null,
            "grid_column": null,
            "grid_gap": null,
            "grid_row": null,
            "grid_template_areas": null,
            "grid_template_columns": null,
            "grid_template_rows": null,
            "height": null,
            "justify_content": null,
            "justify_items": null,
            "left": null,
            "margin": null,
            "max_height": null,
            "max_width": null,
            "min_height": null,
            "min_width": null,
            "object_fit": null,
            "object_position": null,
            "order": null,
            "overflow": null,
            "overflow_x": null,
            "overflow_y": null,
            "padding": null,
            "right": null,
            "top": null,
            "visibility": null,
            "width": null
          }
        },
        "7f6cdc31ca194169958ccbb8ec344017": {
          "model_module": "@jupyter-widgets/controls",
          "model_name": "DescriptionStyleModel",
          "model_module_version": "1.5.0",
          "state": {
            "_model_module": "@jupyter-widgets/controls",
            "_model_module_version": "1.5.0",
            "_model_name": "DescriptionStyleModel",
            "_view_count": null,
            "_view_module": "@jupyter-widgets/base",
            "_view_module_version": "1.2.0",
            "_view_name": "StyleView",
            "description_width": ""
          }
        },
        "82c1b129c1f1488dbd10b2292d9c5c30": {
          "model_module": "@jupyter-widgets/base",
          "model_name": "LayoutModel",
          "model_module_version": "1.2.0",
          "state": {
            "_model_module": "@jupyter-widgets/base",
            "_model_module_version": "1.2.0",
            "_model_name": "LayoutModel",
            "_view_count": null,
            "_view_module": "@jupyter-widgets/base",
            "_view_module_version": "1.2.0",
            "_view_name": "LayoutView",
            "align_content": null,
            "align_items": null,
            "align_self": null,
            "border": null,
            "bottom": null,
            "display": null,
            "flex": null,
            "flex_flow": null,
            "grid_area": null,
            "grid_auto_columns": null,
            "grid_auto_flow": null,
            "grid_auto_rows": null,
            "grid_column": null,
            "grid_gap": null,
            "grid_row": null,
            "grid_template_areas": null,
            "grid_template_columns": null,
            "grid_template_rows": null,
            "height": null,
            "justify_content": null,
            "justify_items": null,
            "left": null,
            "margin": null,
            "max_height": null,
            "max_width": null,
            "min_height": null,
            "min_width": null,
            "object_fit": null,
            "object_position": null,
            "order": null,
            "overflow": null,
            "overflow_x": null,
            "overflow_y": null,
            "padding": null,
            "right": null,
            "top": null,
            "visibility": null,
            "width": null
          }
        },
        "6efc9d7fac32410b8e72c78c2b29f5c1": {
          "model_module": "@jupyter-widgets/controls",
          "model_name": "ProgressStyleModel",
          "model_module_version": "1.5.0",
          "state": {
            "_model_module": "@jupyter-widgets/controls",
            "_model_module_version": "1.5.0",
            "_model_name": "ProgressStyleModel",
            "_view_count": null,
            "_view_module": "@jupyter-widgets/base",
            "_view_module_version": "1.2.0",
            "_view_name": "StyleView",
            "bar_color": null,
            "description_width": ""
          }
        },
        "af84bf36d2744e4682556ebbfed208a1": {
          "model_module": "@jupyter-widgets/base",
          "model_name": "LayoutModel",
          "model_module_version": "1.2.0",
          "state": {
            "_model_module": "@jupyter-widgets/base",
            "_model_module_version": "1.2.0",
            "_model_name": "LayoutModel",
            "_view_count": null,
            "_view_module": "@jupyter-widgets/base",
            "_view_module_version": "1.2.0",
            "_view_name": "LayoutView",
            "align_content": null,
            "align_items": null,
            "align_self": null,
            "border": null,
            "bottom": null,
            "display": null,
            "flex": null,
            "flex_flow": null,
            "grid_area": null,
            "grid_auto_columns": null,
            "grid_auto_flow": null,
            "grid_auto_rows": null,
            "grid_column": null,
            "grid_gap": null,
            "grid_row": null,
            "grid_template_areas": null,
            "grid_template_columns": null,
            "grid_template_rows": null,
            "height": null,
            "justify_content": null,
            "justify_items": null,
            "left": null,
            "margin": null,
            "max_height": null,
            "max_width": null,
            "min_height": null,
            "min_width": null,
            "object_fit": null,
            "object_position": null,
            "order": null,
            "overflow": null,
            "overflow_x": null,
            "overflow_y": null,
            "padding": null,
            "right": null,
            "top": null,
            "visibility": null,
            "width": null
          }
        },
        "06664d54082c47d390958cd87f7b5d86": {
          "model_module": "@jupyter-widgets/controls",
          "model_name": "DescriptionStyleModel",
          "model_module_version": "1.5.0",
          "state": {
            "_model_module": "@jupyter-widgets/controls",
            "_model_module_version": "1.5.0",
            "_model_name": "DescriptionStyleModel",
            "_view_count": null,
            "_view_module": "@jupyter-widgets/base",
            "_view_module_version": "1.2.0",
            "_view_name": "StyleView",
            "description_width": ""
          }
        },
        "cb6f854d64534246b6a2a3af0ea35c02": {
          "model_module": "@jupyter-widgets/controls",
          "model_name": "HBoxModel",
          "model_module_version": "1.5.0",
          "state": {
            "_dom_classes": [],
            "_model_module": "@jupyter-widgets/controls",
            "_model_module_version": "1.5.0",
            "_model_name": "HBoxModel",
            "_view_count": null,
            "_view_module": "@jupyter-widgets/controls",
            "_view_module_version": "1.5.0",
            "_view_name": "HBoxView",
            "box_style": "",
            "children": [
              "IPY_MODEL_d76d8946cf754da09f5d0a937db1aedd",
              "IPY_MODEL_05d604732db344308ffb68e46cf6e8fc",
              "IPY_MODEL_4abd19e22b734c72a78b78b5ef07fe50"
            ],
            "layout": "IPY_MODEL_c8ffbd35d4f54757854718d3c22462d2"
          }
        },
        "d76d8946cf754da09f5d0a937db1aedd": {
          "model_module": "@jupyter-widgets/controls",
          "model_name": "HTMLModel",
          "model_module_version": "1.5.0",
          "state": {
            "_dom_classes": [],
            "_model_module": "@jupyter-widgets/controls",
            "_model_module_version": "1.5.0",
            "_model_name": "HTMLModel",
            "_view_count": null,
            "_view_module": "@jupyter-widgets/controls",
            "_view_module_version": "1.5.0",
            "_view_name": "HTMLView",
            "description": "",
            "description_tooltip": null,
            "layout": "IPY_MODEL_d9b6a7f7f1584ca8b31d959c07fe4dde",
            "placeholder": "​",
            "style": "IPY_MODEL_c08be65cd2594b6f8e6ef700549fe81d",
            "value": "Map: 100%"
          }
        },
        "05d604732db344308ffb68e46cf6e8fc": {
          "model_module": "@jupyter-widgets/controls",
          "model_name": "FloatProgressModel",
          "model_module_version": "1.5.0",
          "state": {
            "_dom_classes": [],
            "_model_module": "@jupyter-widgets/controls",
            "_model_module_version": "1.5.0",
            "_model_name": "FloatProgressModel",
            "_view_count": null,
            "_view_module": "@jupyter-widgets/controls",
            "_view_module_version": "1.5.0",
            "_view_name": "ProgressView",
            "bar_style": "success",
            "description": "",
            "description_tooltip": null,
            "layout": "IPY_MODEL_20653d930462404bb00ba8fb0c540bdd",
            "max": 819,
            "min": 0,
            "orientation": "horizontal",
            "style": "IPY_MODEL_e8c43ad7f962467f89231287512d8738",
            "value": 819
          }
        },
        "4abd19e22b734c72a78b78b5ef07fe50": {
          "model_module": "@jupyter-widgets/controls",
          "model_name": "HTMLModel",
          "model_module_version": "1.5.0",
          "state": {
            "_dom_classes": [],
            "_model_module": "@jupyter-widgets/controls",
            "_model_module_version": "1.5.0",
            "_model_name": "HTMLModel",
            "_view_count": null,
            "_view_module": "@jupyter-widgets/controls",
            "_view_module_version": "1.5.0",
            "_view_name": "HTMLView",
            "description": "",
            "description_tooltip": null,
            "layout": "IPY_MODEL_41c9152b96794c7c91edfb202b4a5a81",
            "placeholder": "​",
            "style": "IPY_MODEL_39c19d5fdd774eb69829ddea65a26d39",
            "value": " 819/819 [00:00&lt;00:00, 1440.64 examples/s]"
          }
        },
        "c8ffbd35d4f54757854718d3c22462d2": {
          "model_module": "@jupyter-widgets/base",
          "model_name": "LayoutModel",
          "model_module_version": "1.2.0",
          "state": {
            "_model_module": "@jupyter-widgets/base",
            "_model_module_version": "1.2.0",
            "_model_name": "LayoutModel",
            "_view_count": null,
            "_view_module": "@jupyter-widgets/base",
            "_view_module_version": "1.2.0",
            "_view_name": "LayoutView",
            "align_content": null,
            "align_items": null,
            "align_self": null,
            "border": null,
            "bottom": null,
            "display": null,
            "flex": null,
            "flex_flow": null,
            "grid_area": null,
            "grid_auto_columns": null,
            "grid_auto_flow": null,
            "grid_auto_rows": null,
            "grid_column": null,
            "grid_gap": null,
            "grid_row": null,
            "grid_template_areas": null,
            "grid_template_columns": null,
            "grid_template_rows": null,
            "height": null,
            "justify_content": null,
            "justify_items": null,
            "left": null,
            "margin": null,
            "max_height": null,
            "max_width": null,
            "min_height": null,
            "min_width": null,
            "object_fit": null,
            "object_position": null,
            "order": null,
            "overflow": null,
            "overflow_x": null,
            "overflow_y": null,
            "padding": null,
            "right": null,
            "top": null,
            "visibility": null,
            "width": null
          }
        },
        "d9b6a7f7f1584ca8b31d959c07fe4dde": {
          "model_module": "@jupyter-widgets/base",
          "model_name": "LayoutModel",
          "model_module_version": "1.2.0",
          "state": {
            "_model_module": "@jupyter-widgets/base",
            "_model_module_version": "1.2.0",
            "_model_name": "LayoutModel",
            "_view_count": null,
            "_view_module": "@jupyter-widgets/base",
            "_view_module_version": "1.2.0",
            "_view_name": "LayoutView",
            "align_content": null,
            "align_items": null,
            "align_self": null,
            "border": null,
            "bottom": null,
            "display": null,
            "flex": null,
            "flex_flow": null,
            "grid_area": null,
            "grid_auto_columns": null,
            "grid_auto_flow": null,
            "grid_auto_rows": null,
            "grid_column": null,
            "grid_gap": null,
            "grid_row": null,
            "grid_template_areas": null,
            "grid_template_columns": null,
            "grid_template_rows": null,
            "height": null,
            "justify_content": null,
            "justify_items": null,
            "left": null,
            "margin": null,
            "max_height": null,
            "max_width": null,
            "min_height": null,
            "min_width": null,
            "object_fit": null,
            "object_position": null,
            "order": null,
            "overflow": null,
            "overflow_x": null,
            "overflow_y": null,
            "padding": null,
            "right": null,
            "top": null,
            "visibility": null,
            "width": null
          }
        },
        "c08be65cd2594b6f8e6ef700549fe81d": {
          "model_module": "@jupyter-widgets/controls",
          "model_name": "DescriptionStyleModel",
          "model_module_version": "1.5.0",
          "state": {
            "_model_module": "@jupyter-widgets/controls",
            "_model_module_version": "1.5.0",
            "_model_name": "DescriptionStyleModel",
            "_view_count": null,
            "_view_module": "@jupyter-widgets/base",
            "_view_module_version": "1.2.0",
            "_view_name": "StyleView",
            "description_width": ""
          }
        },
        "20653d930462404bb00ba8fb0c540bdd": {
          "model_module": "@jupyter-widgets/base",
          "model_name": "LayoutModel",
          "model_module_version": "1.2.0",
          "state": {
            "_model_module": "@jupyter-widgets/base",
            "_model_module_version": "1.2.0",
            "_model_name": "LayoutModel",
            "_view_count": null,
            "_view_module": "@jupyter-widgets/base",
            "_view_module_version": "1.2.0",
            "_view_name": "LayoutView",
            "align_content": null,
            "align_items": null,
            "align_self": null,
            "border": null,
            "bottom": null,
            "display": null,
            "flex": null,
            "flex_flow": null,
            "grid_area": null,
            "grid_auto_columns": null,
            "grid_auto_flow": null,
            "grid_auto_rows": null,
            "grid_column": null,
            "grid_gap": null,
            "grid_row": null,
            "grid_template_areas": null,
            "grid_template_columns": null,
            "grid_template_rows": null,
            "height": null,
            "justify_content": null,
            "justify_items": null,
            "left": null,
            "margin": null,
            "max_height": null,
            "max_width": null,
            "min_height": null,
            "min_width": null,
            "object_fit": null,
            "object_position": null,
            "order": null,
            "overflow": null,
            "overflow_x": null,
            "overflow_y": null,
            "padding": null,
            "right": null,
            "top": null,
            "visibility": null,
            "width": null
          }
        },
        "e8c43ad7f962467f89231287512d8738": {
          "model_module": "@jupyter-widgets/controls",
          "model_name": "ProgressStyleModel",
          "model_module_version": "1.5.0",
          "state": {
            "_model_module": "@jupyter-widgets/controls",
            "_model_module_version": "1.5.0",
            "_model_name": "ProgressStyleModel",
            "_view_count": null,
            "_view_module": "@jupyter-widgets/base",
            "_view_module_version": "1.2.0",
            "_view_name": "StyleView",
            "bar_color": null,
            "description_width": ""
          }
        },
        "41c9152b96794c7c91edfb202b4a5a81": {
          "model_module": "@jupyter-widgets/base",
          "model_name": "LayoutModel",
          "model_module_version": "1.2.0",
          "state": {
            "_model_module": "@jupyter-widgets/base",
            "_model_module_version": "1.2.0",
            "_model_name": "LayoutModel",
            "_view_count": null,
            "_view_module": "@jupyter-widgets/base",
            "_view_module_version": "1.2.0",
            "_view_name": "LayoutView",
            "align_content": null,
            "align_items": null,
            "align_self": null,
            "border": null,
            "bottom": null,
            "display": null,
            "flex": null,
            "flex_flow": null,
            "grid_area": null,
            "grid_auto_columns": null,
            "grid_auto_flow": null,
            "grid_auto_rows": null,
            "grid_column": null,
            "grid_gap": null,
            "grid_row": null,
            "grid_template_areas": null,
            "grid_template_columns": null,
            "grid_template_rows": null,
            "height": null,
            "justify_content": null,
            "justify_items": null,
            "left": null,
            "margin": null,
            "max_height": null,
            "max_width": null,
            "min_height": null,
            "min_width": null,
            "object_fit": null,
            "object_position": null,
            "order": null,
            "overflow": null,
            "overflow_x": null,
            "overflow_y": null,
            "padding": null,
            "right": null,
            "top": null,
            "visibility": null,
            "width": null
          }
        },
        "39c19d5fdd774eb69829ddea65a26d39": {
          "model_module": "@jupyter-widgets/controls",
          "model_name": "DescriptionStyleModel",
          "model_module_version": "1.5.0",
          "state": {
            "_model_module": "@jupyter-widgets/controls",
            "_model_module_version": "1.5.0",
            "_model_name": "DescriptionStyleModel",
            "_view_count": null,
            "_view_module": "@jupyter-widgets/base",
            "_view_module_version": "1.2.0",
            "_view_name": "StyleView",
            "description_width": ""
          }
        },
        "91bd2c90e6554cc094ada3d824731666": {
          "model_module": "@jupyter-widgets/controls",
          "model_name": "HBoxModel",
          "model_module_version": "1.5.0",
          "state": {
            "_dom_classes": [],
            "_model_module": "@jupyter-widgets/controls",
            "_model_module_version": "1.5.0",
            "_model_name": "HBoxModel",
            "_view_count": null,
            "_view_module": "@jupyter-widgets/controls",
            "_view_module_version": "1.5.0",
            "_view_name": "HBoxView",
            "box_style": "",
            "children": [
              "IPY_MODEL_ced00fb104af434fb4520af765ac4f35",
              "IPY_MODEL_e2c0a6fff23a4abd851bd8e432f87ef1",
              "IPY_MODEL_0450723a6b0042e4872bd2d524cc4f56"
            ],
            "layout": "IPY_MODEL_614a136918e2406d9b54920588c89299"
          }
        },
        "ced00fb104af434fb4520af765ac4f35": {
          "model_module": "@jupyter-widgets/controls",
          "model_name": "HTMLModel",
          "model_module_version": "1.5.0",
          "state": {
            "_dom_classes": [],
            "_model_module": "@jupyter-widgets/controls",
            "_model_module_version": "1.5.0",
            "_model_name": "HTMLModel",
            "_view_count": null,
            "_view_module": "@jupyter-widgets/controls",
            "_view_module_version": "1.5.0",
            "_view_name": "HTMLView",
            "description": "",
            "description_tooltip": null,
            "layout": "IPY_MODEL_8aa1ac9a96d74b7daaa3e211cc6e95c1",
            "placeholder": "​",
            "style": "IPY_MODEL_0b45a65b391e48cf9d47ddb40e2b6c8a",
            "value": "Map: 100%"
          }
        },
        "e2c0a6fff23a4abd851bd8e432f87ef1": {
          "model_module": "@jupyter-widgets/controls",
          "model_name": "FloatProgressModel",
          "model_module_version": "1.5.0",
          "state": {
            "_dom_classes": [],
            "_model_module": "@jupyter-widgets/controls",
            "_model_module_version": "1.5.0",
            "_model_name": "FloatProgressModel",
            "_view_count": null,
            "_view_module": "@jupyter-widgets/controls",
            "_view_module_version": "1.5.0",
            "_view_name": "ProgressView",
            "bar_style": "success",
            "description": "",
            "description_tooltip": null,
            "layout": "IPY_MODEL_d9465a5802ac4ff8b6830d7947b36e64",
            "max": 818,
            "min": 0,
            "orientation": "horizontal",
            "style": "IPY_MODEL_a5b5927bbf734ae2aa8f59b8e3adaaa0",
            "value": 818
          }
        },
        "0450723a6b0042e4872bd2d524cc4f56": {
          "model_module": "@jupyter-widgets/controls",
          "model_name": "HTMLModel",
          "model_module_version": "1.5.0",
          "state": {
            "_dom_classes": [],
            "_model_module": "@jupyter-widgets/controls",
            "_model_module_version": "1.5.0",
            "_model_name": "HTMLModel",
            "_view_count": null,
            "_view_module": "@jupyter-widgets/controls",
            "_view_module_version": "1.5.0",
            "_view_name": "HTMLView",
            "description": "",
            "description_tooltip": null,
            "layout": "IPY_MODEL_9fa15c946b3d489db59a22d6f9d8ae77",
            "placeholder": "​",
            "style": "IPY_MODEL_7769a0eb00944eb8944bc7e9667c7301",
            "value": " 818/818 [00:00&lt;00:00, 983.15 examples/s]"
          }
        },
        "614a136918e2406d9b54920588c89299": {
          "model_module": "@jupyter-widgets/base",
          "model_name": "LayoutModel",
          "model_module_version": "1.2.0",
          "state": {
            "_model_module": "@jupyter-widgets/base",
            "_model_module_version": "1.2.0",
            "_model_name": "LayoutModel",
            "_view_count": null,
            "_view_module": "@jupyter-widgets/base",
            "_view_module_version": "1.2.0",
            "_view_name": "LayoutView",
            "align_content": null,
            "align_items": null,
            "align_self": null,
            "border": null,
            "bottom": null,
            "display": null,
            "flex": null,
            "flex_flow": null,
            "grid_area": null,
            "grid_auto_columns": null,
            "grid_auto_flow": null,
            "grid_auto_rows": null,
            "grid_column": null,
            "grid_gap": null,
            "grid_row": null,
            "grid_template_areas": null,
            "grid_template_columns": null,
            "grid_template_rows": null,
            "height": null,
            "justify_content": null,
            "justify_items": null,
            "left": null,
            "margin": null,
            "max_height": null,
            "max_width": null,
            "min_height": null,
            "min_width": null,
            "object_fit": null,
            "object_position": null,
            "order": null,
            "overflow": null,
            "overflow_x": null,
            "overflow_y": null,
            "padding": null,
            "right": null,
            "top": null,
            "visibility": null,
            "width": null
          }
        },
        "8aa1ac9a96d74b7daaa3e211cc6e95c1": {
          "model_module": "@jupyter-widgets/base",
          "model_name": "LayoutModel",
          "model_module_version": "1.2.0",
          "state": {
            "_model_module": "@jupyter-widgets/base",
            "_model_module_version": "1.2.0",
            "_model_name": "LayoutModel",
            "_view_count": null,
            "_view_module": "@jupyter-widgets/base",
            "_view_module_version": "1.2.0",
            "_view_name": "LayoutView",
            "align_content": null,
            "align_items": null,
            "align_self": null,
            "border": null,
            "bottom": null,
            "display": null,
            "flex": null,
            "flex_flow": null,
            "grid_area": null,
            "grid_auto_columns": null,
            "grid_auto_flow": null,
            "grid_auto_rows": null,
            "grid_column": null,
            "grid_gap": null,
            "grid_row": null,
            "grid_template_areas": null,
            "grid_template_columns": null,
            "grid_template_rows": null,
            "height": null,
            "justify_content": null,
            "justify_items": null,
            "left": null,
            "margin": null,
            "max_height": null,
            "max_width": null,
            "min_height": null,
            "min_width": null,
            "object_fit": null,
            "object_position": null,
            "order": null,
            "overflow": null,
            "overflow_x": null,
            "overflow_y": null,
            "padding": null,
            "right": null,
            "top": null,
            "visibility": null,
            "width": null
          }
        },
        "0b45a65b391e48cf9d47ddb40e2b6c8a": {
          "model_module": "@jupyter-widgets/controls",
          "model_name": "DescriptionStyleModel",
          "model_module_version": "1.5.0",
          "state": {
            "_model_module": "@jupyter-widgets/controls",
            "_model_module_version": "1.5.0",
            "_model_name": "DescriptionStyleModel",
            "_view_count": null,
            "_view_module": "@jupyter-widgets/base",
            "_view_module_version": "1.2.0",
            "_view_name": "StyleView",
            "description_width": ""
          }
        },
        "d9465a5802ac4ff8b6830d7947b36e64": {
          "model_module": "@jupyter-widgets/base",
          "model_name": "LayoutModel",
          "model_module_version": "1.2.0",
          "state": {
            "_model_module": "@jupyter-widgets/base",
            "_model_module_version": "1.2.0",
            "_model_name": "LayoutModel",
            "_view_count": null,
            "_view_module": "@jupyter-widgets/base",
            "_view_module_version": "1.2.0",
            "_view_name": "LayoutView",
            "align_content": null,
            "align_items": null,
            "align_self": null,
            "border": null,
            "bottom": null,
            "display": null,
            "flex": null,
            "flex_flow": null,
            "grid_area": null,
            "grid_auto_columns": null,
            "grid_auto_flow": null,
            "grid_auto_rows": null,
            "grid_column": null,
            "grid_gap": null,
            "grid_row": null,
            "grid_template_areas": null,
            "grid_template_columns": null,
            "grid_template_rows": null,
            "height": null,
            "justify_content": null,
            "justify_items": null,
            "left": null,
            "margin": null,
            "max_height": null,
            "max_width": null,
            "min_height": null,
            "min_width": null,
            "object_fit": null,
            "object_position": null,
            "order": null,
            "overflow": null,
            "overflow_x": null,
            "overflow_y": null,
            "padding": null,
            "right": null,
            "top": null,
            "visibility": null,
            "width": null
          }
        },
        "a5b5927bbf734ae2aa8f59b8e3adaaa0": {
          "model_module": "@jupyter-widgets/controls",
          "model_name": "ProgressStyleModel",
          "model_module_version": "1.5.0",
          "state": {
            "_model_module": "@jupyter-widgets/controls",
            "_model_module_version": "1.5.0",
            "_model_name": "ProgressStyleModel",
            "_view_count": null,
            "_view_module": "@jupyter-widgets/base",
            "_view_module_version": "1.2.0",
            "_view_name": "StyleView",
            "bar_color": null,
            "description_width": ""
          }
        },
        "9fa15c946b3d489db59a22d6f9d8ae77": {
          "model_module": "@jupyter-widgets/base",
          "model_name": "LayoutModel",
          "model_module_version": "1.2.0",
          "state": {
            "_model_module": "@jupyter-widgets/base",
            "_model_module_version": "1.2.0",
            "_model_name": "LayoutModel",
            "_view_count": null,
            "_view_module": "@jupyter-widgets/base",
            "_view_module_version": "1.2.0",
            "_view_name": "LayoutView",
            "align_content": null,
            "align_items": null,
            "align_self": null,
            "border": null,
            "bottom": null,
            "display": null,
            "flex": null,
            "flex_flow": null,
            "grid_area": null,
            "grid_auto_columns": null,
            "grid_auto_flow": null,
            "grid_auto_rows": null,
            "grid_column": null,
            "grid_gap": null,
            "grid_row": null,
            "grid_template_areas": null,
            "grid_template_columns": null,
            "grid_template_rows": null,
            "height": null,
            "justify_content": null,
            "justify_items": null,
            "left": null,
            "margin": null,
            "max_height": null,
            "max_width": null,
            "min_height": null,
            "min_width": null,
            "object_fit": null,
            "object_position": null,
            "order": null,
            "overflow": null,
            "overflow_x": null,
            "overflow_y": null,
            "padding": null,
            "right": null,
            "top": null,
            "visibility": null,
            "width": null
          }
        },
        "7769a0eb00944eb8944bc7e9667c7301": {
          "model_module": "@jupyter-widgets/controls",
          "model_name": "DescriptionStyleModel",
          "model_module_version": "1.5.0",
          "state": {
            "_model_module": "@jupyter-widgets/controls",
            "_model_module_version": "1.5.0",
            "_model_name": "DescriptionStyleModel",
            "_view_count": null,
            "_view_module": "@jupyter-widgets/base",
            "_view_module_version": "1.2.0",
            "_view_name": "StyleView",
            "description_width": ""
          }
        },
        "9d211b74e94e4c54892a245f81f40973": {
          "model_module": "@jupyter-widgets/controls",
          "model_name": "HBoxModel",
          "model_module_version": "1.5.0",
          "state": {
            "_dom_classes": [],
            "_model_module": "@jupyter-widgets/controls",
            "_model_module_version": "1.5.0",
            "_model_name": "HBoxModel",
            "_view_count": null,
            "_view_module": "@jupyter-widgets/controls",
            "_view_module_version": "1.5.0",
            "_view_name": "HBoxView",
            "box_style": "",
            "children": [
              "IPY_MODEL_292045c53dde49d2b8acde45f433a6e3",
              "IPY_MODEL_92f8cb8031ae4288adb4cd5d1e71cf8d",
              "IPY_MODEL_463be4ae48dd44599182a728335c42ae"
            ],
            "layout": "IPY_MODEL_0eab241268a3496aa433827bae6689a6"
          }
        },
        "292045c53dde49d2b8acde45f433a6e3": {
          "model_module": "@jupyter-widgets/controls",
          "model_name": "HTMLModel",
          "model_module_version": "1.5.0",
          "state": {
            "_dom_classes": [],
            "_model_module": "@jupyter-widgets/controls",
            "_model_module_version": "1.5.0",
            "_model_name": "HTMLModel",
            "_view_count": null,
            "_view_module": "@jupyter-widgets/controls",
            "_view_module_version": "1.5.0",
            "_view_name": "HTMLView",
            "description": "",
            "description_tooltip": null,
            "layout": "IPY_MODEL_b13a5597b452475aa742a52174f18dd9",
            "placeholder": "​",
            "style": "IPY_MODEL_89a96a6f41574dfe813f66ad61c2b9f7",
            "value": "Map: 100%"
          }
        },
        "92f8cb8031ae4288adb4cd5d1e71cf8d": {
          "model_module": "@jupyter-widgets/controls",
          "model_name": "FloatProgressModel",
          "model_module_version": "1.5.0",
          "state": {
            "_dom_classes": [],
            "_model_module": "@jupyter-widgets/controls",
            "_model_module_version": "1.5.0",
            "_model_name": "FloatProgressModel",
            "_view_count": null,
            "_view_module": "@jupyter-widgets/controls",
            "_view_module_version": "1.5.0",
            "_view_name": "ProgressView",
            "bar_style": "success",
            "description": "",
            "description_tooltip": null,
            "layout": "IPY_MODEL_d0a6901c554f432b823e1bf5f4147dc3",
            "max": 818,
            "min": 0,
            "orientation": "horizontal",
            "style": "IPY_MODEL_45f2e785cf4d4c1ba17282fa7039f583",
            "value": 818
          }
        },
        "463be4ae48dd44599182a728335c42ae": {
          "model_module": "@jupyter-widgets/controls",
          "model_name": "HTMLModel",
          "model_module_version": "1.5.0",
          "state": {
            "_dom_classes": [],
            "_model_module": "@jupyter-widgets/controls",
            "_model_module_version": "1.5.0",
            "_model_name": "HTMLModel",
            "_view_count": null,
            "_view_module": "@jupyter-widgets/controls",
            "_view_module_version": "1.5.0",
            "_view_name": "HTMLView",
            "description": "",
            "description_tooltip": null,
            "layout": "IPY_MODEL_5c96c219d18642409d5f12430107a670",
            "placeholder": "​",
            "style": "IPY_MODEL_625b71c8f95e47ea9baa509645f88dee",
            "value": " 818/818 [00:00&lt;00:00, 3431.61 examples/s]"
          }
        },
        "0eab241268a3496aa433827bae6689a6": {
          "model_module": "@jupyter-widgets/base",
          "model_name": "LayoutModel",
          "model_module_version": "1.2.0",
          "state": {
            "_model_module": "@jupyter-widgets/base",
            "_model_module_version": "1.2.0",
            "_model_name": "LayoutModel",
            "_view_count": null,
            "_view_module": "@jupyter-widgets/base",
            "_view_module_version": "1.2.0",
            "_view_name": "LayoutView",
            "align_content": null,
            "align_items": null,
            "align_self": null,
            "border": null,
            "bottom": null,
            "display": null,
            "flex": null,
            "flex_flow": null,
            "grid_area": null,
            "grid_auto_columns": null,
            "grid_auto_flow": null,
            "grid_auto_rows": null,
            "grid_column": null,
            "grid_gap": null,
            "grid_row": null,
            "grid_template_areas": null,
            "grid_template_columns": null,
            "grid_template_rows": null,
            "height": null,
            "justify_content": null,
            "justify_items": null,
            "left": null,
            "margin": null,
            "max_height": null,
            "max_width": null,
            "min_height": null,
            "min_width": null,
            "object_fit": null,
            "object_position": null,
            "order": null,
            "overflow": null,
            "overflow_x": null,
            "overflow_y": null,
            "padding": null,
            "right": null,
            "top": null,
            "visibility": null,
            "width": null
          }
        },
        "b13a5597b452475aa742a52174f18dd9": {
          "model_module": "@jupyter-widgets/base",
          "model_name": "LayoutModel",
          "model_module_version": "1.2.0",
          "state": {
            "_model_module": "@jupyter-widgets/base",
            "_model_module_version": "1.2.0",
            "_model_name": "LayoutModel",
            "_view_count": null,
            "_view_module": "@jupyter-widgets/base",
            "_view_module_version": "1.2.0",
            "_view_name": "LayoutView",
            "align_content": null,
            "align_items": null,
            "align_self": null,
            "border": null,
            "bottom": null,
            "display": null,
            "flex": null,
            "flex_flow": null,
            "grid_area": null,
            "grid_auto_columns": null,
            "grid_auto_flow": null,
            "grid_auto_rows": null,
            "grid_column": null,
            "grid_gap": null,
            "grid_row": null,
            "grid_template_areas": null,
            "grid_template_columns": null,
            "grid_template_rows": null,
            "height": null,
            "justify_content": null,
            "justify_items": null,
            "left": null,
            "margin": null,
            "max_height": null,
            "max_width": null,
            "min_height": null,
            "min_width": null,
            "object_fit": null,
            "object_position": null,
            "order": null,
            "overflow": null,
            "overflow_x": null,
            "overflow_y": null,
            "padding": null,
            "right": null,
            "top": null,
            "visibility": null,
            "width": null
          }
        },
        "89a96a6f41574dfe813f66ad61c2b9f7": {
          "model_module": "@jupyter-widgets/controls",
          "model_name": "DescriptionStyleModel",
          "model_module_version": "1.5.0",
          "state": {
            "_model_module": "@jupyter-widgets/controls",
            "_model_module_version": "1.5.0",
            "_model_name": "DescriptionStyleModel",
            "_view_count": null,
            "_view_module": "@jupyter-widgets/base",
            "_view_module_version": "1.2.0",
            "_view_name": "StyleView",
            "description_width": ""
          }
        },
        "d0a6901c554f432b823e1bf5f4147dc3": {
          "model_module": "@jupyter-widgets/base",
          "model_name": "LayoutModel",
          "model_module_version": "1.2.0",
          "state": {
            "_model_module": "@jupyter-widgets/base",
            "_model_module_version": "1.2.0",
            "_model_name": "LayoutModel",
            "_view_count": null,
            "_view_module": "@jupyter-widgets/base",
            "_view_module_version": "1.2.0",
            "_view_name": "LayoutView",
            "align_content": null,
            "align_items": null,
            "align_self": null,
            "border": null,
            "bottom": null,
            "display": null,
            "flex": null,
            "flex_flow": null,
            "grid_area": null,
            "grid_auto_columns": null,
            "grid_auto_flow": null,
            "grid_auto_rows": null,
            "grid_column": null,
            "grid_gap": null,
            "grid_row": null,
            "grid_template_areas": null,
            "grid_template_columns": null,
            "grid_template_rows": null,
            "height": null,
            "justify_content": null,
            "justify_items": null,
            "left": null,
            "margin": null,
            "max_height": null,
            "max_width": null,
            "min_height": null,
            "min_width": null,
            "object_fit": null,
            "object_position": null,
            "order": null,
            "overflow": null,
            "overflow_x": null,
            "overflow_y": null,
            "padding": null,
            "right": null,
            "top": null,
            "visibility": null,
            "width": null
          }
        },
        "45f2e785cf4d4c1ba17282fa7039f583": {
          "model_module": "@jupyter-widgets/controls",
          "model_name": "ProgressStyleModel",
          "model_module_version": "1.5.0",
          "state": {
            "_model_module": "@jupyter-widgets/controls",
            "_model_module_version": "1.5.0",
            "_model_name": "ProgressStyleModel",
            "_view_count": null,
            "_view_module": "@jupyter-widgets/base",
            "_view_module_version": "1.2.0",
            "_view_name": "StyleView",
            "bar_color": null,
            "description_width": ""
          }
        },
        "5c96c219d18642409d5f12430107a670": {
          "model_module": "@jupyter-widgets/base",
          "model_name": "LayoutModel",
          "model_module_version": "1.2.0",
          "state": {
            "_model_module": "@jupyter-widgets/base",
            "_model_module_version": "1.2.0",
            "_model_name": "LayoutModel",
            "_view_count": null,
            "_view_module": "@jupyter-widgets/base",
            "_view_module_version": "1.2.0",
            "_view_name": "LayoutView",
            "align_content": null,
            "align_items": null,
            "align_self": null,
            "border": null,
            "bottom": null,
            "display": null,
            "flex": null,
            "flex_flow": null,
            "grid_area": null,
            "grid_auto_columns": null,
            "grid_auto_flow": null,
            "grid_auto_rows": null,
            "grid_column": null,
            "grid_gap": null,
            "grid_row": null,
            "grid_template_areas": null,
            "grid_template_columns": null,
            "grid_template_rows": null,
            "height": null,
            "justify_content": null,
            "justify_items": null,
            "left": null,
            "margin": null,
            "max_height": null,
            "max_width": null,
            "min_height": null,
            "min_width": null,
            "object_fit": null,
            "object_position": null,
            "order": null,
            "overflow": null,
            "overflow_x": null,
            "overflow_y": null,
            "padding": null,
            "right": null,
            "top": null,
            "visibility": null,
            "width": null
          }
        },
        "625b71c8f95e47ea9baa509645f88dee": {
          "model_module": "@jupyter-widgets/controls",
          "model_name": "DescriptionStyleModel",
          "model_module_version": "1.5.0",
          "state": {
            "_model_module": "@jupyter-widgets/controls",
            "_model_module_version": "1.5.0",
            "_model_name": "DescriptionStyleModel",
            "_view_count": null,
            "_view_module": "@jupyter-widgets/base",
            "_view_module_version": "1.2.0",
            "_view_name": "StyleView",
            "description_width": ""
          }
        }
      }
    }
  },
  "cells": [
    {
      "cell_type": "markdown",
      "source": [
        "DS 5983: Large Language Models (Summer 2024)  \n",
        "Dr. Roi Yehoshua  \n",
        "Student name: Yuqing Qiao  \n",
        "July 1, 2024  \n",
        "PA3: Hugging Face Transformers"
      ],
      "metadata": {
        "id": "D_UDWnAfuNLu"
      }
    },
    {
      "cell_type": "markdown",
      "source": [
        "## 1. Exploratory Data Analysis:"
      ],
      "metadata": {
        "id": "BP1M5OW-joOE"
      }
    },
    {
      "cell_type": "markdown",
      "source": [
        "> (a) Conduct an initial exploration of the SAMSum dataset to gain insights into the\n",
        "characteristics of the dialogues and summaries."
      ],
      "metadata": {
        "id": "trRDH4Mfj2Ro"
      }
    },
    {
      "cell_type": "code",
      "source": [
        "!pip install datasets evaluate rouge_score py7zr --quiet\n",
        "!pip install transformers -U --quiet\n",
        "!pip install accelerate -U --quiet"
      ],
      "metadata": {
        "id": "O5vmFsP1jkqX"
      },
      "execution_count": null,
      "outputs": []
    },
    {
      "cell_type": "code",
      "source": [
        "from datasets import load_dataset\n",
        "\n",
        "dataset = load_dataset(\"samsum\",trust_remote_code=True)"
      ],
      "metadata": {
        "colab": {
          "base_uri": "https://localhost:8080/"
        },
        "id": "W4d1B-tTj7qB",
        "outputId": "0f6dd356-e0bc-41fd-af69-7d16df3e7da4"
      },
      "execution_count": 2,
      "outputs": [
        {
          "output_type": "stream",
          "name": "stderr",
          "text": [
            "/usr/local/lib/python3.10/dist-packages/huggingface_hub/utils/_token.py:89: UserWarning: \n",
            "The secret `HF_TOKEN` does not exist in your Colab secrets.\n",
            "To authenticate with the Hugging Face Hub, create a token in your settings tab (https://huggingface.co/settings/tokens), set it as secret in your Google Colab and restart your session.\n",
            "You will be able to reuse this secret in all of your notebooks.\n",
            "Please note that authentication is recommended but still optional to access public models or datasets.\n",
            "  warnings.warn(\n"
          ]
        }
      ]
    },
    {
      "cell_type": "code",
      "source": [
        "print(dataset)"
      ],
      "metadata": {
        "colab": {
          "base_uri": "https://localhost:8080/"
        },
        "id": "W3YpwuRXjQEE",
        "outputId": "5392ed89-a777-4c4d-b73f-12ed852f8726"
      },
      "execution_count": 3,
      "outputs": [
        {
          "output_type": "stream",
          "name": "stdout",
          "text": [
            "DatasetDict({\n",
            "    train: Dataset({\n",
            "        features: ['id', 'dialogue', 'summary'],\n",
            "        num_rows: 14732\n",
            "    })\n",
            "    test: Dataset({\n",
            "        features: ['id', 'dialogue', 'summary'],\n",
            "        num_rows: 819\n",
            "    })\n",
            "    validation: Dataset({\n",
            "        features: ['id', 'dialogue', 'summary'],\n",
            "        num_rows: 818\n",
            "    })\n",
            "})\n"
          ]
        }
      ]
    },
    {
      "cell_type": "code",
      "source": [
        "from pprint import pprint\n",
        "pprint(dataset['train'][:2])"
      ],
      "metadata": {
        "colab": {
          "base_uri": "https://localhost:8080/"
        },
        "id": "437bgAd3jOCM",
        "outputId": "9cf884e5-249a-4caa-a033-47bc47b7188f"
      },
      "execution_count": 3,
      "outputs": [
        {
          "output_type": "stream",
          "name": "stdout",
          "text": [
            "{'dialogue': ['Amanda: I baked  cookies. Do you want some?\\r\\n'\n",
            "              'Jerry: Sure!\\r\\n'\n",
            "              \"Amanda: I'll bring you tomorrow :-)\",\n",
            "              'Olivia: Who are you voting for in this election? \\r\\n'\n",
            "              'Oliver: Liberals as always.\\r\\n'\n",
            "              'Olivia: Me too!!\\r\\n'\n",
            "              'Oliver: Great'],\n",
            " 'id': ['13818513', '13728867'],\n",
            " 'summary': ['Amanda baked cookies and will bring Jerry some tomorrow.',\n",
            "             'Olivia and Olivier are voting for liberals in this election. ']}\n"
          ]
        }
      ]
    },
    {
      "cell_type": "markdown",
      "source": [
        "> (b) Plot the Length Distribution of Dialogues and Summaries in the Training Set"
      ],
      "metadata": {
        "id": "Iny6Cq7wlOk3"
      }
    },
    {
      "cell_type": "code",
      "source": [
        "import re\n",
        "import string\n",
        "import nltk\n",
        "nltk.download('punkt')\n",
        "from nltk.tokenize import word_tokenize"
      ],
      "metadata": {
        "colab": {
          "base_uri": "https://localhost:8080/"
        },
        "id": "WasPr49hjsc7",
        "outputId": "e8b171b7-4442-46f3-8da8-f704c216342f"
      },
      "execution_count": 4,
      "outputs": [
        {
          "output_type": "stream",
          "name": "stderr",
          "text": [
            "[nltk_data] Downloading package punkt to /root/nltk_data...\n",
            "[nltk_data]   Unzipping tokenizers/punkt.zip.\n"
          ]
        }
      ]
    },
    {
      "cell_type": "code",
      "source": [
        "def clean_text(text):\n",
        "    text = text.lower()\n",
        "    text = re.sub(r'[^a-zA-Z\\s]', '', text)   # Remove non-alphanumeric characters\n",
        "    text = \"\".join([char for char in text if char not in string.punctuation])\n",
        "    return word_tokenize(text)\n",
        "\n",
        "def batch_clean_text(batch):\n",
        "    batch['dialogue'] = [clean_text(dialogue) for dialogue in batch['dialogue']]\n",
        "    batch['summary'] = [clean_text(summary) for summary in batch['summary']]\n",
        "    return batch"
      ],
      "metadata": {
        "id": "6d7jqBe9h14C"
      },
      "execution_count": 7,
      "outputs": []
    },
    {
      "cell_type": "code",
      "source": [
        "updated_ds = dataset.map(batch_clean_text,batched=True)"
      ],
      "metadata": {
        "colab": {
          "base_uri": "https://localhost:8080/",
          "height": 113,
          "referenced_widgets": [
            "14e25f0e489c46f2aa86e463628fa59f",
            "454326afeafc4055ada836b79d8ba8e0",
            "85a6cb2f311d4634974d6217ba49a70e",
            "3c362e4acb554a0aa1489932eb1b39a1",
            "9a9a1ad016414f54a4a887b599f519de",
            "17d1d6fd3eaf401ab07ef3c7b0445719",
            "7f6cdc31ca194169958ccbb8ec344017",
            "82c1b129c1f1488dbd10b2292d9c5c30",
            "6efc9d7fac32410b8e72c78c2b29f5c1",
            "af84bf36d2744e4682556ebbfed208a1",
            "06664d54082c47d390958cd87f7b5d86",
            "cb6f854d64534246b6a2a3af0ea35c02",
            "d76d8946cf754da09f5d0a937db1aedd",
            "05d604732db344308ffb68e46cf6e8fc",
            "4abd19e22b734c72a78b78b5ef07fe50",
            "c8ffbd35d4f54757854718d3c22462d2",
            "d9b6a7f7f1584ca8b31d959c07fe4dde",
            "c08be65cd2594b6f8e6ef700549fe81d",
            "20653d930462404bb00ba8fb0c540bdd",
            "e8c43ad7f962467f89231287512d8738",
            "41c9152b96794c7c91edfb202b4a5a81",
            "39c19d5fdd774eb69829ddea65a26d39",
            "91bd2c90e6554cc094ada3d824731666",
            "ced00fb104af434fb4520af765ac4f35",
            "e2c0a6fff23a4abd851bd8e432f87ef1",
            "0450723a6b0042e4872bd2d524cc4f56",
            "614a136918e2406d9b54920588c89299",
            "8aa1ac9a96d74b7daaa3e211cc6e95c1",
            "0b45a65b391e48cf9d47ddb40e2b6c8a",
            "d9465a5802ac4ff8b6830d7947b36e64",
            "a5b5927bbf734ae2aa8f59b8e3adaaa0",
            "9fa15c946b3d489db59a22d6f9d8ae77",
            "7769a0eb00944eb8944bc7e9667c7301"
          ]
        },
        "id": "Pur1KlCgh5ht",
        "outputId": "e2a5706c-09ae-4638-fb46-49a0ffb68645"
      },
      "execution_count": 10,
      "outputs": [
        {
          "output_type": "display_data",
          "data": {
            "text/plain": [
              "Map:   0%|          | 0/14732 [00:00<?, ? examples/s]"
            ],
            "application/vnd.jupyter.widget-view+json": {
              "version_major": 2,
              "version_minor": 0,
              "model_id": "14e25f0e489c46f2aa86e463628fa59f"
            }
          },
          "metadata": {}
        },
        {
          "output_type": "display_data",
          "data": {
            "text/plain": [
              "Map:   0%|          | 0/819 [00:00<?, ? examples/s]"
            ],
            "application/vnd.jupyter.widget-view+json": {
              "version_major": 2,
              "version_minor": 0,
              "model_id": "cb6f854d64534246b6a2a3af0ea35c02"
            }
          },
          "metadata": {}
        },
        {
          "output_type": "display_data",
          "data": {
            "text/plain": [
              "Map:   0%|          | 0/818 [00:00<?, ? examples/s]"
            ],
            "application/vnd.jupyter.widget-view+json": {
              "version_major": 2,
              "version_minor": 0,
              "model_id": "91bd2c90e6554cc094ada3d824731666"
            }
          },
          "metadata": {}
        }
      ]
    },
    {
      "cell_type": "code",
      "source": [
        "import pandas as pd\n",
        "# Set the format to pandas\n",
        "dataset.set_format(\"pandas\")\n",
        "# Extract the train dataset and display the first few rows\n",
        "df = dataset[\"train\"][:]\n",
        "df.head()\n"
      ],
      "metadata": {
        "colab": {
          "base_uri": "https://localhost:8080/",
          "height": 293
        },
        "id": "vvjtv-nGlBue",
        "outputId": "733b5384-f854-4d94-df84-a6d1fb8ea346"
      },
      "execution_count": 30,
      "outputs": [
        {
          "output_type": "execute_result",
          "data": {
            "text/plain": [
              "         id                                           dialogue  \\\n",
              "0  13818513  Amanda: I baked  cookies. Do you want some?\\r\\...   \n",
              "1  13728867  Olivia: Who are you voting for in this electio...   \n",
              "2  13681000  Tim: Hi, what's up?\\r\\nKim: Bad mood tbh, I wa...   \n",
              "3  13730747  Edward: Rachel, I think I'm in ove with Bella....   \n",
              "4  13728094  Sam: hey  overheard rick say something\\r\\nSam:...   \n",
              "\n",
              "                                             summary  \n",
              "0  Amanda baked cookies and will bring Jerry some...  \n",
              "1  Olivia and Olivier are voting for liberals in ...  \n",
              "2  Kim may try the pomodoro technique recommended...  \n",
              "3  Edward thinks he is in love with Bella. Rachel...  \n",
              "4  Sam is confused, because he overheard Rick com...  "
            ],
            "text/html": [
              "\n",
              "  <div id=\"df-cac8502f-34d5-4292-bcd7-721d0f05f0aa\" class=\"colab-df-container\">\n",
              "    <div>\n",
              "<style scoped>\n",
              "    .dataframe tbody tr th:only-of-type {\n",
              "        vertical-align: middle;\n",
              "    }\n",
              "\n",
              "    .dataframe tbody tr th {\n",
              "        vertical-align: top;\n",
              "    }\n",
              "\n",
              "    .dataframe thead th {\n",
              "        text-align: right;\n",
              "    }\n",
              "</style>\n",
              "<table border=\"1\" class=\"dataframe\">\n",
              "  <thead>\n",
              "    <tr style=\"text-align: right;\">\n",
              "      <th></th>\n",
              "      <th>id</th>\n",
              "      <th>dialogue</th>\n",
              "      <th>summary</th>\n",
              "    </tr>\n",
              "  </thead>\n",
              "  <tbody>\n",
              "    <tr>\n",
              "      <th>0</th>\n",
              "      <td>13818513</td>\n",
              "      <td>Amanda: I baked  cookies. Do you want some?\\r\\...</td>\n",
              "      <td>Amanda baked cookies and will bring Jerry some...</td>\n",
              "    </tr>\n",
              "    <tr>\n",
              "      <th>1</th>\n",
              "      <td>13728867</td>\n",
              "      <td>Olivia: Who are you voting for in this electio...</td>\n",
              "      <td>Olivia and Olivier are voting for liberals in ...</td>\n",
              "    </tr>\n",
              "    <tr>\n",
              "      <th>2</th>\n",
              "      <td>13681000</td>\n",
              "      <td>Tim: Hi, what's up?\\r\\nKim: Bad mood tbh, I wa...</td>\n",
              "      <td>Kim may try the pomodoro technique recommended...</td>\n",
              "    </tr>\n",
              "    <tr>\n",
              "      <th>3</th>\n",
              "      <td>13730747</td>\n",
              "      <td>Edward: Rachel, I think I'm in ove with Bella....</td>\n",
              "      <td>Edward thinks he is in love with Bella. Rachel...</td>\n",
              "    </tr>\n",
              "    <tr>\n",
              "      <th>4</th>\n",
              "      <td>13728094</td>\n",
              "      <td>Sam: hey  overheard rick say something\\r\\nSam:...</td>\n",
              "      <td>Sam is confused, because he overheard Rick com...</td>\n",
              "    </tr>\n",
              "  </tbody>\n",
              "</table>\n",
              "</div>\n",
              "    <div class=\"colab-df-buttons\">\n",
              "\n",
              "  <div class=\"colab-df-container\">\n",
              "    <button class=\"colab-df-convert\" onclick=\"convertToInteractive('df-cac8502f-34d5-4292-bcd7-721d0f05f0aa')\"\n",
              "            title=\"Convert this dataframe to an interactive table.\"\n",
              "            style=\"display:none;\">\n",
              "\n",
              "  <svg xmlns=\"http://www.w3.org/2000/svg\" height=\"24px\" viewBox=\"0 -960 960 960\">\n",
              "    <path d=\"M120-120v-720h720v720H120Zm60-500h600v-160H180v160Zm220 220h160v-160H400v160Zm0 220h160v-160H400v160ZM180-400h160v-160H180v160Zm440 0h160v-160H620v160ZM180-180h160v-160H180v160Zm440 0h160v-160H620v160Z\"/>\n",
              "  </svg>\n",
              "    </button>\n",
              "\n",
              "  <style>\n",
              "    .colab-df-container {\n",
              "      display:flex;\n",
              "      gap: 12px;\n",
              "    }\n",
              "\n",
              "    .colab-df-convert {\n",
              "      background-color: #E8F0FE;\n",
              "      border: none;\n",
              "      border-radius: 50%;\n",
              "      cursor: pointer;\n",
              "      display: none;\n",
              "      fill: #1967D2;\n",
              "      height: 32px;\n",
              "      padding: 0 0 0 0;\n",
              "      width: 32px;\n",
              "    }\n",
              "\n",
              "    .colab-df-convert:hover {\n",
              "      background-color: #E2EBFA;\n",
              "      box-shadow: 0px 1px 2px rgba(60, 64, 67, 0.3), 0px 1px 3px 1px rgba(60, 64, 67, 0.15);\n",
              "      fill: #174EA6;\n",
              "    }\n",
              "\n",
              "    .colab-df-buttons div {\n",
              "      margin-bottom: 4px;\n",
              "    }\n",
              "\n",
              "    [theme=dark] .colab-df-convert {\n",
              "      background-color: #3B4455;\n",
              "      fill: #D2E3FC;\n",
              "    }\n",
              "\n",
              "    [theme=dark] .colab-df-convert:hover {\n",
              "      background-color: #434B5C;\n",
              "      box-shadow: 0px 1px 3px 1px rgba(0, 0, 0, 0.15);\n",
              "      filter: drop-shadow(0px 1px 2px rgba(0, 0, 0, 0.3));\n",
              "      fill: #FFFFFF;\n",
              "    }\n",
              "  </style>\n",
              "\n",
              "    <script>\n",
              "      const buttonEl =\n",
              "        document.querySelector('#df-cac8502f-34d5-4292-bcd7-721d0f05f0aa button.colab-df-convert');\n",
              "      buttonEl.style.display =\n",
              "        google.colab.kernel.accessAllowed ? 'block' : 'none';\n",
              "\n",
              "      async function convertToInteractive(key) {\n",
              "        const element = document.querySelector('#df-cac8502f-34d5-4292-bcd7-721d0f05f0aa');\n",
              "        const dataTable =\n",
              "          await google.colab.kernel.invokeFunction('convertToInteractive',\n",
              "                                                    [key], {});\n",
              "        if (!dataTable) return;\n",
              "\n",
              "        const docLinkHtml = 'Like what you see? Visit the ' +\n",
              "          '<a target=\"_blank\" href=https://colab.research.google.com/notebooks/data_table.ipynb>data table notebook</a>'\n",
              "          + ' to learn more about interactive tables.';\n",
              "        element.innerHTML = '';\n",
              "        dataTable['output_type'] = 'display_data';\n",
              "        await google.colab.output.renderOutput(dataTable, element);\n",
              "        const docLink = document.createElement('div');\n",
              "        docLink.innerHTML = docLinkHtml;\n",
              "        element.appendChild(docLink);\n",
              "      }\n",
              "    </script>\n",
              "  </div>\n",
              "\n",
              "\n",
              "<div id=\"df-68649938-7705-4c32-9cfa-e6f3ccd8f309\">\n",
              "  <button class=\"colab-df-quickchart\" onclick=\"quickchart('df-68649938-7705-4c32-9cfa-e6f3ccd8f309')\"\n",
              "            title=\"Suggest charts\"\n",
              "            style=\"display:none;\">\n",
              "\n",
              "<svg xmlns=\"http://www.w3.org/2000/svg\" height=\"24px\"viewBox=\"0 0 24 24\"\n",
              "     width=\"24px\">\n",
              "    <g>\n",
              "        <path d=\"M19 3H5c-1.1 0-2 .9-2 2v14c0 1.1.9 2 2 2h14c1.1 0 2-.9 2-2V5c0-1.1-.9-2-2-2zM9 17H7v-7h2v7zm4 0h-2V7h2v10zm4 0h-2v-4h2v4z\"/>\n",
              "    </g>\n",
              "</svg>\n",
              "  </button>\n",
              "\n",
              "<style>\n",
              "  .colab-df-quickchart {\n",
              "      --bg-color: #E8F0FE;\n",
              "      --fill-color: #1967D2;\n",
              "      --hover-bg-color: #E2EBFA;\n",
              "      --hover-fill-color: #174EA6;\n",
              "      --disabled-fill-color: #AAA;\n",
              "      --disabled-bg-color: #DDD;\n",
              "  }\n",
              "\n",
              "  [theme=dark] .colab-df-quickchart {\n",
              "      --bg-color: #3B4455;\n",
              "      --fill-color: #D2E3FC;\n",
              "      --hover-bg-color: #434B5C;\n",
              "      --hover-fill-color: #FFFFFF;\n",
              "      --disabled-bg-color: #3B4455;\n",
              "      --disabled-fill-color: #666;\n",
              "  }\n",
              "\n",
              "  .colab-df-quickchart {\n",
              "    background-color: var(--bg-color);\n",
              "    border: none;\n",
              "    border-radius: 50%;\n",
              "    cursor: pointer;\n",
              "    display: none;\n",
              "    fill: var(--fill-color);\n",
              "    height: 32px;\n",
              "    padding: 0;\n",
              "    width: 32px;\n",
              "  }\n",
              "\n",
              "  .colab-df-quickchart:hover {\n",
              "    background-color: var(--hover-bg-color);\n",
              "    box-shadow: 0 1px 2px rgba(60, 64, 67, 0.3), 0 1px 3px 1px rgba(60, 64, 67, 0.15);\n",
              "    fill: var(--button-hover-fill-color);\n",
              "  }\n",
              "\n",
              "  .colab-df-quickchart-complete:disabled,\n",
              "  .colab-df-quickchart-complete:disabled:hover {\n",
              "    background-color: var(--disabled-bg-color);\n",
              "    fill: var(--disabled-fill-color);\n",
              "    box-shadow: none;\n",
              "  }\n",
              "\n",
              "  .colab-df-spinner {\n",
              "    border: 2px solid var(--fill-color);\n",
              "    border-color: transparent;\n",
              "    border-bottom-color: var(--fill-color);\n",
              "    animation:\n",
              "      spin 1s steps(1) infinite;\n",
              "  }\n",
              "\n",
              "  @keyframes spin {\n",
              "    0% {\n",
              "      border-color: transparent;\n",
              "      border-bottom-color: var(--fill-color);\n",
              "      border-left-color: var(--fill-color);\n",
              "    }\n",
              "    20% {\n",
              "      border-color: transparent;\n",
              "      border-left-color: var(--fill-color);\n",
              "      border-top-color: var(--fill-color);\n",
              "    }\n",
              "    30% {\n",
              "      border-color: transparent;\n",
              "      border-left-color: var(--fill-color);\n",
              "      border-top-color: var(--fill-color);\n",
              "      border-right-color: var(--fill-color);\n",
              "    }\n",
              "    40% {\n",
              "      border-color: transparent;\n",
              "      border-right-color: var(--fill-color);\n",
              "      border-top-color: var(--fill-color);\n",
              "    }\n",
              "    60% {\n",
              "      border-color: transparent;\n",
              "      border-right-color: var(--fill-color);\n",
              "    }\n",
              "    80% {\n",
              "      border-color: transparent;\n",
              "      border-right-color: var(--fill-color);\n",
              "      border-bottom-color: var(--fill-color);\n",
              "    }\n",
              "    90% {\n",
              "      border-color: transparent;\n",
              "      border-bottom-color: var(--fill-color);\n",
              "    }\n",
              "  }\n",
              "</style>\n",
              "\n",
              "  <script>\n",
              "    async function quickchart(key) {\n",
              "      const quickchartButtonEl =\n",
              "        document.querySelector('#' + key + ' button');\n",
              "      quickchartButtonEl.disabled = true;  // To prevent multiple clicks.\n",
              "      quickchartButtonEl.classList.add('colab-df-spinner');\n",
              "      try {\n",
              "        const charts = await google.colab.kernel.invokeFunction(\n",
              "            'suggestCharts', [key], {});\n",
              "      } catch (error) {\n",
              "        console.error('Error during call to suggestCharts:', error);\n",
              "      }\n",
              "      quickchartButtonEl.classList.remove('colab-df-spinner');\n",
              "      quickchartButtonEl.classList.add('colab-df-quickchart-complete');\n",
              "    }\n",
              "    (() => {\n",
              "      let quickchartButtonEl =\n",
              "        document.querySelector('#df-68649938-7705-4c32-9cfa-e6f3ccd8f309 button');\n",
              "      quickchartButtonEl.style.display =\n",
              "        google.colab.kernel.accessAllowed ? 'block' : 'none';\n",
              "    })();\n",
              "  </script>\n",
              "</div>\n",
              "\n",
              "    </div>\n",
              "  </div>\n"
            ],
            "application/vnd.google.colaboratory.intrinsic+json": {
              "type": "dataframe",
              "variable_name": "df",
              "summary": "{\n  \"name\": \"df\",\n  \"rows\": 14732,\n  \"fields\": [\n    {\n      \"column\": \"id\",\n      \"properties\": {\n        \"dtype\": \"string\",\n        \"num_unique_values\": 14732,\n        \"samples\": [\n          \"13811908\",\n          \"13716431\",\n          \"13810214\"\n        ],\n        \"semantic_type\": \"\",\n        \"description\": \"\"\n      }\n    },\n    {\n      \"column\": \"dialogue\",\n      \"properties\": {\n        \"dtype\": \"string\",\n        \"num_unique_values\": 14265,\n        \"samples\": [\n          \"Charles: <file_other>\\r\\nCharles: It seems that the govt decided to fuck us even harder\\r\\nCharles: Every year prices go up\\r\\nCharles: Maybe raising taxes is a source of pleasure for those so called 'politicians'?\\r\\nMike: Dude...\\r\\nMike: I don't mind people interested in kinky stuff\\r\\nMike: But have never expected such political perversion in my own country\\r\\nCharles: Neither have I. It makes me think\\r\\nCharles: That wouldn't be a big deal if only the earnings would go up as well\\r\\nCharles: No wonder people resort to going abroad\\r\\nMike: Actually I've been considering working somewhere abroad lately\\r\\nMike: I've been looking for a job since May here and there's a few offers available\\r\\nMike: Mainly physical, hard work...\\r\\nCharles: This system sucks!\\r\\nCharles: You're wasting the best years of your life on education, then it turns out there's no job for you in your profession...\\r\\nMike: Yeah, it's true. But complaining rarely changes anything\\r\\nMike: It's better to take some action\\r\\nMike: Going abroad is not that bad, I think I'll give it a try. Wanna join me?\\r\\nCharles: And where would you like to go?\\r\\nMike: The Netherlands for starters, the perspectives are decent and it'd be a chance to visit Amsterdam, the city of freedom! :D\\r\\nCharles: Damn, you're pulling me in!\\r\\nCharles: And actually... besides earning some money it can serve as a good adventure\\r\\nMike: So? R U in?\\r\\nCharles: Give me a few days, I'll ask around and let you know soon\\r\\nMike: Fine, remember that I'm going anyway :p\\r\\nCharles: Sure, I feel I've already decided too! :D\\r\\nCharles: Talk to you soon\\r\\nMike: All right\",\n          \"Finn: I heard that Britney got expelled.\\r\\nTerry: why?\\r\\nOswald: what for?\\r\\nFinn: you know her general behavior\\r\\nOswald: and she's absent a lot\\r\\nFinn: so yeah, that accumulated kinda, but now she's been accused of making that blue graffiti that popped up 3 days ago\\r\\nTerry: I was wondering if this might have anything to do with that graffiti\\r\\nFinn: apparently it does\\r\\nOswald: you think she did it?\\r\\nFinn: who knows? She certainly likes to draw\\r\\nTerry: maybe they just needed an excuse to finally kick her out\\r\\nFinn: maybe\\r\\nOswald: too bad, though, I kinda liked her\\r\\nFinn: liked her liked her? ;)\\r\\nOswald: no, ofc not, but she's pretty cool\\r\\nFinn: true that\",\n          \"Darren: Look! 10am!\\r\\nFrank: Whoa! They're awesome knockers.\\r\\nDarren: Stop staring or she'll notice us! LOL\"\n        ],\n        \"semantic_type\": \"\",\n        \"description\": \"\"\n      }\n    },\n    {\n      \"column\": \"summary\",\n      \"properties\": {\n        \"dtype\": \"string\",\n        \"num_unique_values\": 14730,\n        \"samples\": [\n          \"Violet sent Claire Austin's article.\",\n          \"Michael, Tom and Chris tease Mark because he has a new girlfriend.\",\n          \"Leo just had a very good time with his parents in Spain. Granny will be happy if he came round and told her about his holidays. He could also see flowers blooming in her and Daddy's garden.\"\n        ],\n        \"semantic_type\": \"\",\n        \"description\": \"\"\n      }\n    }\n  ]\n}"
            }
          },
          "metadata": {},
          "execution_count": 30
        }
      ]
    },
    {
      "cell_type": "code",
      "source": [
        "import matplotlib.pyplot as plt\n",
        "\n",
        "# Extract tokenized dialogues and summaries from the training set\n",
        "dialogues = [len(sample[\"dialogue\"]) for sample in updated_ds[\"train\"]]\n",
        "summaries = [len(sample[\"summary\"]) for sample in updated_ds[\"train\"]]\n",
        "\n",
        "# Plot the length distribution\n",
        "plt.figure(figsize=(14, 7))\n",
        "\n",
        "plt.subplot(1, 2, 1)\n",
        "plt.hist(dialogues, bins=30, color='blue')\n",
        "plt.title('Length Distribution of Dialogues')\n",
        "plt.xlabel('Number of Words')\n",
        "plt.ylabel('Frequency')\n",
        "\n",
        "plt.subplot(1, 2, 2)\n",
        "plt.hist(summaries, bins=30, color='green')\n",
        "plt.title('Length Distribution of Summaries')\n",
        "plt.xlabel('Number of Words')\n",
        "plt.ylabel('Frequency')\n",
        "\n",
        "plt.show()\n"
      ],
      "metadata": {
        "colab": {
          "base_uri": "https://localhost:8080/",
          "height": 399
        },
        "id": "KpD8a511lrf4",
        "outputId": "d430605b-27fd-4784-ae42-1c6b1c39e2bf"
      },
      "execution_count": 11,
      "outputs": [
        {
          "output_type": "display_data",
          "data": {
            "text/plain": [
              "<Figure size 1400x700 with 2 Axes>"
            ],
            "image/png": "[encoded data removed]"
          },
          "metadata": {}
        }
      ]
    },
    {
      "cell_type": "markdown",
      "source": [
        "> (c) Display the 20 most common words in the dialogues and their frequencies."
      ],
      "metadata": {
        "id": "9cEXn0fKnjQ8"
      }
    },
    {
      "cell_type": "code",
      "source": [
        "from collections import Counter\n",
        "\n",
        "tokens = [token for dialogue in updated_ds[\"train\"][\"dialogue\"] for token in dialogue]\n",
        "# most common 20 words\n",
        "freq = Counter(tokens)\n",
        "most_common = freq.most_common(20)\n",
        "\n",
        "for word, freq in most_common:\n",
        "    print(f'{word}: {freq}')\n",
        "\n",
        "\n",
        "del updated_ds\n",
        "del df"
      ],
      "metadata": {
        "colab": {
          "base_uri": "https://localhost:8080/"
        },
        "id": "UWxIEh_bvXmv",
        "outputId": "89528ea8-107e-408f-f827-1cbcf2598f56"
      },
      "execution_count": 38,
      "outputs": [
        {
          "output_type": "stream",
          "name": "stdout",
          "text": [
            "i: 44151\n",
            "you: 39082\n",
            "the: 31569\n",
            "to: 29204\n",
            "a: 22279\n",
            "it: 20404\n",
            "and: 17728\n",
            "for: 11987\n",
            "in: 11563\n",
            "is: 11339\n",
            "that: 10885\n",
            "have: 10781\n",
            "of: 10770\n",
            "so: 10481\n",
            "me: 10240\n",
            "but: 10197\n",
            "im: 9497\n",
            "be: 9174\n",
            "what: 8676\n",
            "we: 8652\n"
          ]
        }
      ]
    },
    {
      "cell_type": "markdown",
      "source": [
        "## 3. Inference with Pre-trained Models:"
      ],
      "metadata": {
        "id": "FnLk7WK4y2mv"
      }
    },
    {
      "cell_type": "markdown",
      "source": [
        "> (a) Choose at least three pre-trained summarization models from the Hugging Face\n",
        "model hub, such as facebook/bart-large-cnn or t5-large."
      ],
      "metadata": {
        "id": "6VCiLkddzPgT"
      }
    },
    {
      "cell_type": "code",
      "source": [
        "from transformers import AutoTokenizer, AutoModelForSeq2SeqLM\n",
        "\n",
        "# Load the models and tokenizers\n",
        "models = {\n",
        "    \"BART\": {\n",
        "        \"model\": AutoModelForSeq2SeqLM.from_pretrained(\"facebook/bart-large-cnn\"),\n",
        "        \"tokenizer\": AutoTokenizer.from_pretrained(\"facebook/bart-large-cnn\")\n",
        "    },\n",
        "    \"T5\": {\n",
        "        \"model\": AutoModelForSeq2SeqLM.from_pretrained(\"t5-large\"),\n",
        "        \"tokenizer\": AutoTokenizer.from_pretrained(\"t5-large\")\n",
        "    },\n",
        "    \"PEGASUS\": {\n",
        "        \"model\": AutoModelForSeq2SeqLM.from_pretrained(\"google/pegasus-xsum\"),\n",
        "        \"tokenizer\": AutoTokenizer.from_pretrained(\"google/pegasus-xsum\")\n",
        "    }\n",
        "}\n"
      ],
      "metadata": {
        "colab": {
          "base_uri": "https://localhost:8080/"
        },
        "id": "h1wBUwbgzYXs",
        "outputId": "1e00911c-15ab-41fa-c870-50a15a5495d8"
      },
      "execution_count": 12,
      "outputs": [
        {
          "output_type": "stream",
          "name": "stderr",
          "text": [
            "/usr/local/lib/python3.10/dist-packages/huggingface_hub/file_download.py:1132: FutureWarning: `resume_download` is deprecated and will be removed in version 1.0.0. Downloads always resume when possible. If you want to force a new download, use `force_download=True`.\n",
            "  warnings.warn(\n",
            "Some weights of PegasusForConditionalGeneration were not initialized from the model checkpoint at google/pegasus-xsum and are newly initialized: ['model.decoder.embed_positions.weight', 'model.encoder.embed_positions.weight']\n",
            "You should probably TRAIN this model on a down-stream task to be able to use it for predictions and inference.\n"
          ]
        }
      ]
    },
    {
      "cell_type": "markdown",
      "source": [
        "> (b) Use the models to generate summaries for a few randomly selected dialogues. Analyze the quality of these summaries: Are they coherent? Do they capture the essential points in the conversation?"
      ],
      "metadata": {
        "id": "c5mAUVuTzSar"
      }
    },
    {
      "cell_type": "code",
      "source": [
        "import torch\n",
        "from transformers import pipeline\n",
        "import evaluate\n",
        "\n",
        "# Set the number of samples\n",
        "n_samples = 3\n",
        "# Select random dialogues\n",
        "sample_dialogues = dataset['test'].shuffle(seed=42).select(range(n_samples))\n",
        "\n",
        "# Create summarizer pipelines for each model\n",
        "device = 0 if torch.cuda.is_available() else -1\n",
        "summarizers = {model_name: pipeline(\"summarization\", model=models[model_name]['model'], tokenizer=models[model_name]['tokenizer'], device=device) for model_name in models}\n",
        "\n",
        "# Function to generate summary\n",
        "def generate_summary(dialogue, model_name):\n",
        "    summarizer = summarizers[model_name]\n",
        "    output = summarizer(dialogue)\n",
        "    generated_summary = output[0]['summary_text']\n",
        "    return generated_summary\n",
        "\n",
        "# Generate summaries\n",
        "summaries = {model_name: [] for model_name in models}\n",
        "\n",
        "for dialogue in sample_dialogues:\n",
        "    for model_name in models:\n",
        "        summaries[model_name].append(generate_summary(dialogue['dialogue'], model_name))\n",
        "\n",
        "# Display the summaries\n",
        "for i, dialogue in enumerate(sample_dialogues):\n",
        "    print(f\"Dialogue {i+1}:\\n{dialogue['dialogue']}\\n\")\n",
        "    for model_name in models:\n",
        "        print(f\"{model_name} Summary:\\n{summaries[model_name][i]}\\n\")\n",
        "    print(\"=\"*50)\n",
        "\n"
      ],
      "metadata": {
        "colab": {
          "base_uri": "https://localhost:8080/"
        },
        "id": "2GdrqluKzfvz",
        "outputId": "103cf608-970f-4fd8-9e21-b395876a7caa"
      },
      "execution_count": 21,
      "outputs": [
        {
          "output_type": "stream",
          "name": "stderr",
          "text": [
            "Your max_length is set to 142, but your input_length is only 69. Since this is a summarization task, where outputs shorter than the input are typically wanted, you might consider decreasing max_length manually, e.g. summarizer('...', max_length=34)\n",
            "Your max_length is set to 200, but your input_length is only 58. Since this is a summarization task, where outputs shorter than the input are typically wanted, you might consider decreasing max_length manually, e.g. summarizer('...', max_length=29)\n",
            "Your max_length is set to 64, but your input_length is only 53. Since this is a summarization task, where outputs shorter than the input are typically wanted, you might consider decreasing max_length manually, e.g. summarizer('...', max_length=26)\n",
            "Your max_length is set to 142, but your input_length is only 109. Since this is a summarization task, where outputs shorter than the input are typically wanted, you might consider decreasing max_length manually, e.g. summarizer('...', max_length=54)\n",
            "Your max_length is set to 200, but your input_length is only 113. Since this is a summarization task, where outputs shorter than the input are typically wanted, you might consider decreasing max_length manually, e.g. summarizer('...', max_length=56)\n",
            "Your max_length is set to 142, but your input_length is only 92. Since this is a summarization task, where outputs shorter than the input are typically wanted, you might consider decreasing max_length manually, e.g. summarizer('...', max_length=46)\n",
            "Your max_length is set to 200, but your input_length is only 89. Since this is a summarization task, where outputs shorter than the input are typically wanted, you might consider decreasing max_length manually, e.g. summarizer('...', max_length=44)\n"
          ]
        },
        {
          "output_type": "stream",
          "name": "stdout",
          "text": [
            "Dialogue 1:\n",
            "Claire: <file_photo>\r\n",
            "Kim: Looks delicious...\r\n",
            "Linda: No way... Look what I'm cooking right now:\r\n",
            "Linda: <file_photo>\r\n",
            "Claire: hahahaha \r\n",
            "Kim: Curry dream team\r\n",
            "Claire: Enjoy your dinner :*\n",
            "\n",
            "BART Summary:\n",
            "Linda: No way... Look what I'm cooking right now. Claire: hahahaha   Kim: Curry dream team. Linda: What's for dinner? Claire: Curry. Kim: Looks delicious... Linda: Curry! Claire: Enjoy your dinner :*\n",
            "\n",
            "T5 Summary:\n",
            "Linda: 'look what i'm cooking right now: no way... ... look what I'm preparing right now'\n",
            "\n",
            "PEGASUS Summary:\n",
            "Claire:\n",
            "\n",
            "==================================================\n",
            "Dialogue 2:\n",
            "Alyssa: Have you seen Fergie’s national anthem? Illuminati does a great job.\r\n",
            "Derek: This is not normal. I saw it last week…\r\n",
            "Alyssa: What do you think about it?\r\n",
            "Derek: I can fart bright stripes and bright stars better then she sings.\r\n",
            "Alyssa: The best part is that she acts like she nailed it. But at least it's funny in a good way.\r\n",
            "Derek: It is 😂\n",
            "\n",
            "BART Summary:\n",
            "Alyssa: Have you seen Fergie’s national anthem? Illuminati does a great job. Derek: I can fart bright stripes and bright stars better then she sings. But at least it's funny in a good way, Alyssa says. The best part is that she acts like she nailed it, Derek adds.\n",
            "\n",
            "T5 Summary:\n",
            "Derek: i can fart bright stripes and bright stars better then she sings . but at least it's funny in a good way .\n",
            "\n",
            "PEGASUS Summary:\n",
            "In case you missed it, here are some highlights from the Super Bowl:\n",
            "\n",
            "==================================================\n",
            "Dialogue 3:\n",
            "Ann: Hi, is the laptop still available?\r\n",
            "Josh: Yes it is\r\n",
            "Ann: I can pay 200 dollars\r\n",
            "Josh: The price is 250 and it's non-negotiable\r\n",
            "Ann: Do you have a bag for it? Some other accessories?\r\n",
            "Josh: I have a bag and a small usb mouse\r\n",
            "Ann: Sounds good, I'll take it, where can I pick it up?\n",
            "\n",
            "BART Summary:\n",
            "Ann: Hi, is the laptop still available? Josh: Yes it is. Ann: I can pay 200 dollars for it. Josh: The price is 250 and it's non-negotiable.Ann: Sounds good, I'll take it, where can I pick it up?\n",
            "\n",
            "T5 Summary:\n",
            "the price is 250 dollars and it's non-negotiable . do you have a bag and a small usb mouse?\n",
            "\n",
            "PEGASUS Summary:\n",
            "Ann: Hi, is the laptop still available Josh: Hi, is the laptop still available Ann: Hi, is the laptop still available Ann: Hi, is the laptop still available Ann: Hi, is the laptop still available Ann: Hi, is the laptop still available Ann: Hi, is the laptop still\n",
            "\n",
            "==================================================\n"
          ]
        }
      ]
    },
    {
      "cell_type": "code",
      "source": [
        "# Evaluate with ROUGE scores\n",
        "rouge = evaluate.load(\"rouge\")\n",
        "\n",
        "for model_name in models:\n",
        "    rouge_metric = evaluate.load(\"rouge\")\n",
        "    for i, dialogue in enumerate(sample_dialogues):\n",
        "        generated_summary = summaries[model_name][i]\n",
        "        reference_summary = dialogue['summary']\n",
        "        rouge_metric.add_batch(predictions=[generated_summary], references=[reference_summary])\n",
        "    rouge_score = rouge_metric.compute()\n",
        "    print(f\"{model_name} ROUGE Scores:\")\n",
        "    pprint(rouge_score)\n",
        "    print(\"=\"*50)"
      ],
      "metadata": {
        "colab": {
          "base_uri": "https://localhost:8080/"
        },
        "id": "EMaWUNkjq9pm",
        "outputId": "26eba372-5643-47f1-b225-a59a2c33dd9d"
      },
      "execution_count": 25,
      "outputs": [
        {
          "output_type": "stream",
          "name": "stdout",
          "text": [
            "BART ROUGE Scores:\n",
            "{'rouge1': 0.2939873801723092,\n",
            " 'rouge2': 0.05911221395092362,\n",
            " 'rougeL': 0.20667622254580756,\n",
            " 'rougeLsum': 0.20667622254580756}\n",
            "==================================================\n",
            "T5 ROUGE Scores:\n",
            "{'rouge1': 0.15527065527065528,\n",
            " 'rouge2': 0.01550387596899225,\n",
            " 'rougeL': 0.12564102564102564,\n",
            " 'rougeLsum': 0.12564102564102564}\n",
            "==================================================\n",
            "PEGASUS ROUGE Scores:\n",
            "{'rouge1': 0.1379697927643133,\n",
            " 'rouge2': 0.0,\n",
            " 'rougeL': 0.13796979276431331,\n",
            " 'rougeLsum': 0.13796979276431331}\n",
            "==================================================\n"
          ]
        }
      ]
    },
    {
      "cell_type": "markdown",
      "source": [
        "### Conclution\n",
        "3 dialogues is tested. All models perform poorly on the second dialogues, which could be due to an issue with the dataset's intention. Although the ROUGE scores show that BART produces better summarizations, I think T5 produces better results. Therefore, human evaluation is still needed.\n",
        "\n",
        "> BART:  \n",
        "Strengths: BART captures key phrases from the dialogues effectively.\n",
        "Weaknesses: It struggles to understand the overall content, leading to summaries that are often disjointed and lack coherence. It generally does not perform well on dialogues.  \n",
        "\n",
        "> T5:  \n",
        "Strengths: T5 produces coherent and structured summaries, effectively capturing the essential points of the dialogues.  \n",
        "Weaknesses: While generally concise, T5 may sometimes omit minor details.  \n",
        "\n",
        "> PEGASUS:  \n",
        "Strengths: PEGASUS leverages pre-trained knowledge, which can sometimes enhance the informativeness of the summaries.\n",
        "Weaknesses: It often introduces extraneous information not present in the original dialogues, resulting in summaries that lack coherence and relevance to the specific conversation.\n"
      ],
      "metadata": {
        "id": "t-PqJ7lY1GgW"
      }
    },
    {
      "cell_type": "markdown",
      "source": [
        "## 4. Fine-Tuning:  \n",
        "> (a) Choose one of the pre-trained summarization models from the previous part."
      ],
      "metadata": {
        "id": "6iZL8uPUMx4-"
      }
    },
    {
      "cell_type": "code",
      "source": [
        "import torch\n",
        "from transformers import AutoTokenizer, AutoModelForSeq2SeqLM\n",
        "from datasets import load_dataset\n"
      ],
      "metadata": {
        "id": "4VdlLrnp47XH"
      },
      "execution_count": 1,
      "outputs": []
    },
    {
      "cell_type": "code",
      "source": [
        "# torch.cuda.empty_cache()"
      ],
      "metadata": {
        "id": "iIpOlcGCB2pe"
      },
      "execution_count": 34,
      "outputs": []
    },
    {
      "cell_type": "code",
      "source": [
        "device = torch.device(\"cuda\" if torch.cuda.is_available() else \"cpu\")\n",
        "model_name = \"facebook/bart-large-cnn\"\n",
        "dataset = load_dataset(\"samsum\",trust_remote_code=True)\n",
        "\n",
        "# Load the tokenizer and model\n",
        "tokenizer = AutoTokenizer.from_pretrained(model_name)\n",
        "model = AutoModelForSeq2SeqLM.from_pretrained(model_name).to(device)\n"
      ],
      "metadata": {
        "colab": {
          "base_uri": "https://localhost:8080/"
        },
        "id": "G1r5obcp0CgY",
        "outputId": "097aa4c7-978c-4b0c-caef-f0902f6b2ee8"
      },
      "execution_count": 2,
      "outputs": [
        {
          "output_type": "stream",
          "name": "stderr",
          "text": [
            "/usr/local/lib/python3.10/dist-packages/huggingface_hub/utils/_token.py:89: UserWarning: \n",
            "The secret `HF_TOKEN` does not exist in your Colab secrets.\n",
            "To authenticate with the Hugging Face Hub, create a token in your settings tab (https://huggingface.co/settings/tokens), set it as secret in your Google Colab and restart your session.\n",
            "You will be able to reuse this secret in all of your notebooks.\n",
            "Please note that authentication is recommended but still optional to access public models or datasets.\n",
            "  warnings.warn(\n"
          ]
        }
      ]
    },
    {
      "cell_type": "code",
      "source": [
        "import psutil\n",
        "# Process.memory_info is expressed in bytes, so convert to megabytes\n",
        "print(f'RAM used: {psutil. Process().memory_info().rss / (1024**2):.2f} MB')"
      ],
      "metadata": {
        "colab": {
          "base_uri": "https://localhost:8080/"
        },
        "id": "WN90IKQ-Ksvt",
        "outputId": "25d4ba86-39aa-4516-fd7f-f02a28568df0"
      },
      "execution_count": 3,
      "outputs": [
        {
          "output_type": "stream",
          "name": "stdout",
          "text": [
            "RAM used: 2037.37 MB\n"
          ]
        }
      ]
    },
    {
      "cell_type": "markdown",
      "source": [
        "> (b) Preprocess the dataset to fit it to the input format required by the chosen model,\n",
        "which may include tokenizing the dialogues and their summaries."
      ],
      "metadata": {
        "id": "gWaoA4r8CvnY"
      }
    },
    {
      "cell_type": "code",
      "source": [
        "# Tokenization function\n",
        "def preprocess_function(examples):\n",
        "    inputs = examples['dialogue']\n",
        "    targets = examples['summary']\n",
        "    model_inputs = tokenizer(inputs, max_length=256, truncation=True, padding=\"max_length\")\n",
        "\n",
        "    # Tokenize the summaries\n",
        "    with tokenizer.as_target_tokenizer():\n",
        "        labels = tokenizer(targets, max_length=128, truncation=True, padding=\"max_length\")\n",
        "\n",
        "    model_inputs[\"labels\"] = labels[\"input_ids\"]\n",
        "    return model_inputs\n",
        "\n",
        "# Apply the preprocessing to the dataset with batch processing\n",
        "tokenized_datasets = dataset.map(preprocess_function, batched=True, remove_columns=[\"dialogue\", \"summary\"])\n",
        "\n",
        "# Print a sample to verify\n",
        "print(tokenized_datasets['train'][0])\n"
      ],
      "metadata": {
        "colab": {
          "base_uri": "https://localhost:8080/",
          "height": 121,
          "referenced_widgets": [
            "9d211b74e94e4c54892a245f81f40973",
            "292045c53dde49d2b8acde45f433a6e3",
            "92f8cb8031ae4288adb4cd5d1e71cf8d",
            "463be4ae48dd44599182a728335c42ae",
            "0eab241268a3496aa433827bae6689a6",
            "b13a5597b452475aa742a52174f18dd9",
            "89a96a6f41574dfe813f66ad61c2b9f7",
            "d0a6901c554f432b823e1bf5f4147dc3",
            "45f2e785cf4d4c1ba17282fa7039f583",
            "5c96c219d18642409d5f12430107a670",
            "625b71c8f95e47ea9baa509645f88dee"
          ]
        },
        "id": "oS3yBnynDMth",
        "outputId": "89a479b2-735b-4cbd-a49c-daa8b108af03"
      },
      "execution_count": 3,
      "outputs": [
        {
          "output_type": "display_data",
          "data": {
            "text/plain": [
              "Map:   0%|          | 0/818 [00:00<?, ? examples/s]"
            ],
            "application/vnd.jupyter.widget-view+json": {
              "version_major": 2,
              "version_minor": 0,
              "model_id": "9d211b74e94e4c54892a245f81f40973"
            }
          },
          "metadata": {}
        },
        {
          "output_type": "stream",
          "name": "stdout",
          "text": [
            "{'id': '13818513', 'input_ids': [0, 10127, 5219, 35, 38, 17241, 1437, 15269, 4, 1832, 47, 236, 103, 116, 50121, 50118, 39237, 35, 9136, 328, 50121, 50118, 10127, 5219, 35, 38, 581, 836, 47, 3859, 48433, 2, 1, 1, 1, 1, 1, 1, 1, 1, 1, 1, 1, 1, 1, 1, 1, 1, 1, 1, 1, 1, 1, 1, 1, 1, 1, 1, 1, 1, 1, 1, 1, 1, 1, 1, 1, 1, 1, 1, 1, 1, 1, 1, 1, 1, 1, 1, 1, 1, 1, 1, 1, 1, 1, 1, 1, 1, 1, 1, 1, 1, 1, 1, 1, 1, 1, 1, 1, 1, 1, 1, 1, 1, 1, 1, 1, 1, 1, 1, 1, 1, 1, 1, 1, 1, 1, 1, 1, 1, 1, 1, 1, 1, 1, 1, 1, 1, 1, 1, 1, 1, 1, 1, 1, 1, 1, 1, 1, 1, 1, 1, 1, 1, 1, 1, 1, 1, 1, 1, 1, 1, 1, 1, 1, 1, 1, 1, 1, 1, 1, 1, 1, 1, 1, 1, 1, 1, 1, 1, 1, 1, 1, 1, 1, 1, 1, 1, 1, 1, 1, 1, 1, 1, 1, 1, 1, 1, 1, 1, 1, 1, 1, 1, 1, 1, 1, 1, 1, 1, 1, 1, 1, 1, 1, 1, 1, 1, 1, 1, 1, 1, 1, 1, 1, 1, 1, 1, 1, 1, 1, 1, 1, 1, 1, 1, 1, 1, 1, 1, 1, 1, 1, 1, 1, 1, 1, 1, 1, 1, 1, 1, 1, 1, 1, 1, 1, 1, 1, 1, 1, 1, 1, 1, 1, 1], 'attention_mask': [1, 1, 1, 1, 1, 1, 1, 1, 1, 1, 1, 1, 1, 1, 1, 1, 1, 1, 1, 1, 1, 1, 1, 1, 1, 1, 1, 1, 1, 1, 1, 1, 0, 0, 0, 0, 0, 0, 0, 0, 0, 0, 0, 0, 0, 0, 0, 0, 0, 0, 0, 0, 0, 0, 0, 0, 0, 0, 0, 0, 0, 0, 0, 0, 0, 0, 0, 0, 0, 0, 0, 0, 0, 0, 0, 0, 0, 0, 0, 0, 0, 0, 0, 0, 0, 0, 0, 0, 0, 0, 0, 0, 0, 0, 0, 0, 0, 0, 0, 0, 0, 0, 0, 0, 0, 0, 0, 0, 0, 0, 0, 0, 0, 0, 0, 0, 0, 0, 0, 0, 0, 0, 0, 0, 0, 0, 0, 0, 0, 0, 0, 0, 0, 0, 0, 0, 0, 0, 0, 0, 0, 0, 0, 0, 0, 0, 0, 0, 0, 0, 0, 0, 0, 0, 0, 0, 0, 0, 0, 0, 0, 0, 0, 0, 0, 0, 0, 0, 0, 0, 0, 0, 0, 0, 0, 0, 0, 0, 0, 0, 0, 0, 0, 0, 0, 0, 0, 0, 0, 0, 0, 0, 0, 0, 0, 0, 0, 0, 0, 0, 0, 0, 0, 0, 0, 0, 0, 0, 0, 0, 0, 0, 0, 0, 0, 0, 0, 0, 0, 0, 0, 0, 0, 0, 0, 0, 0, 0, 0, 0, 0, 0, 0, 0, 0, 0, 0, 0, 0, 0, 0, 0, 0, 0, 0, 0, 0, 0, 0, 0, 0, 0, 0, 0, 0, 0], 'labels': [0, 10127, 5219, 17241, 15269, 8, 40, 836, 6509, 103, 3859, 4, 2, 1, 1, 1, 1, 1, 1, 1, 1, 1, 1, 1, 1, 1, 1, 1, 1, 1, 1, 1, 1, 1, 1, 1, 1, 1, 1, 1, 1, 1, 1, 1, 1, 1, 1, 1, 1, 1, 1, 1, 1, 1, 1, 1, 1, 1, 1, 1, 1, 1, 1, 1, 1, 1, 1, 1, 1, 1, 1, 1, 1, 1, 1, 1, 1, 1, 1, 1, 1, 1, 1, 1, 1, 1, 1, 1, 1, 1, 1, 1, 1, 1, 1, 1, 1, 1, 1, 1, 1, 1, 1, 1, 1, 1, 1, 1, 1, 1, 1, 1, 1, 1, 1, 1, 1, 1, 1, 1, 1, 1, 1, 1, 1, 1, 1, 1]}\n"
          ]
        },
        {
          "output_type": "stream",
          "name": "stderr",
          "text": [
            "/usr/local/lib/python3.10/dist-packages/transformers/tokenization_utils_base.py:4016: UserWarning: `as_target_tokenizer` is deprecated and will be removed in v5 of Transformers. You can tokenize your labels by using the argument `text_target` of the regular `__call__` method (either in the same call as your input texts if you use the same keyword arguments, or in a separate call.\n",
            "  warnings.warn(\n"
          ]
        }
      ]
    },
    {
      "cell_type": "markdown",
      "source": [
        "> (c) Train the model on the SAMSum corpus, monitoring its performance on the vali-\n",
        "dation set, and adjust the hyperparameters as needed."
      ],
      "metadata": {
        "id": "kgVOZz-2EblN"
      }
    },
    {
      "cell_type": "code",
      "source": [
        "from transformers import AutoModelForSeq2SeqLM, AutoTokenizer, Seq2SeqTrainingArguments, Seq2SeqTrainer\n",
        "import evaluate\n",
        "\n",
        "finetuned_model_name = f'{model_name}-finetuned-samsum'\n",
        "batch_size = 16\n",
        "\n",
        "# Define training arguments\n",
        "training_args = Seq2SeqTrainingArguments(\n",
        "    output_dir=finetuned_model_name,\n",
        "    num_train_epochs=2,\n",
        "    per_device_train_batch_size=batch_size,\n",
        "    per_device_eval_batch_size=batch_size,\n",
        "    evaluation_strategy='epoch',\n",
        "    save_strategy='epoch',\n",
        "    fp16=True,\n",
        "    predict_with_generate=True,\n",
        "    # logging_dir='./logs',\n",
        "    # logging_steps=10,\n",
        ")"
      ],
      "metadata": {
        "colab": {
          "base_uri": "https://localhost:8080/"
        },
        "id": "k126pVZK3Ry2",
        "outputId": "dc01aef8-7c79-47a0-d8e4-d7e0a5b017b0"
      },
      "execution_count": 4,
      "outputs": [
        {
          "output_type": "stream",
          "name": "stderr",
          "text": [
            "/usr/local/lib/python3.10/dist-packages/transformers/training_args.py:1494: FutureWarning: `evaluation_strategy` is deprecated and will be removed in version 4.46 of 🤗 Transformers. Use `eval_strategy` instead\n",
            "  warnings.warn(\n"
          ]
        }
      ]
    },
    {
      "cell_type": "markdown",
      "source": [
        "> (d)Employ appropriate metrics for evaluating summarization quality, such as ROUGE\n",
        "scores, which compare the generated summaries against the reference summaries."
      ],
      "metadata": {
        "id": "eQDdHJYcE7K7"
      }
    },
    {
      "cell_type": "code",
      "source": [
        "# Load the ROUGE metric\n",
        "rouge = evaluate.load(\"rouge\")\n",
        "\n",
        "# Define a compute metrics function using ROUGE\n",
        "def compute_metrics(eval_pred):\n",
        "    predictions, labels = eval_pred\n",
        "    decoded_preds = tokenizer.batch_decode(predictions, skip_special_tokens=True)\n",
        "    decoded_labels = tokenizer.batch_decode(labels, skip_special_tokens=True)\n",
        "\n",
        "    # Compute ROUGE scores\n",
        "    result = rouge.compute(predictions=decoded_preds, references=decoded_labels, use_stemmer=True)\n",
        "\n",
        "    return result\n",
        "\n",
        "# Create a Seq2SeqTrainer\n",
        "trainer = Seq2SeqTrainer(\n",
        "    model=model,\n",
        "    args=training_args,\n",
        "    train_dataset=tokenized_datasets[\"train\"],\n",
        "    eval_dataset=tokenized_datasets[\"validation\"],\n",
        "    tokenizer=tokenizer,\n",
        "    compute_metrics=compute_metrics,\n",
        ")\n"
      ],
      "metadata": {
        "id": "Himbp-5REWcu"
      },
      "execution_count": 5,
      "outputs": []
    },
    {
      "cell_type": "markdown",
      "source": [
        "### Metrics Before training BART"
      ],
      "metadata": {
        "id": "K4ra_tK52rPB"
      }
    },
    {
      "cell_type": "code",
      "source": [
        "torch.cuda.empty_cache()"
      ],
      "metadata": {
        "id": "Wb0H7MTDD3eM"
      },
      "execution_count": 39,
      "outputs": []
    },
    {
      "cell_type": "code",
      "source": [
        "# before training evaluation\n",
        "preds_output= trainer.predict(tokenized_datasets[\"test\"])\n",
        "preds_output.metrics"
      ],
      "metadata": {
        "colab": {
          "base_uri": "https://localhost:8080/",
          "height": 156
        },
        "id": "BJRmPPUv2f9O",
        "outputId": "3e20ffdf-0969-45c9-8657-b7015345f12a"
      },
      "execution_count": 15,
      "outputs": [
        {
          "output_type": "display_data",
          "data": {
            "text/plain": [
              "<IPython.core.display.HTML object>"
            ],
            "text/html": []
          },
          "metadata": {}
        },
        {
          "output_type": "execute_result",
          "data": {
            "text/plain": [
              "{'test_loss': 10.231649398803711,\n",
              " 'test_rouge1': 0.3065360867349508,\n",
              " 'test_rouge2': 0.10186119578990031,\n",
              " 'test_rougeL': 0.23021281721512687,\n",
              " 'test_rougeLsum': 0.2303120985093354,\n",
              " 'test_runtime': 268.5939,\n",
              " 'test_samples_per_second': 3.049,\n",
              " 'test_steps_per_second': 0.097}"
            ]
          },
          "metadata": {},
          "execution_count": 15
        }
      ]
    },
    {
      "cell_type": "code",
      "source": [
        "# Train the model\n",
        "trainer.train()"
      ],
      "metadata": {
        "colab": {
          "base_uri": "https://localhost:8080/",
          "height": 332
        },
        "id": "1XgL-gxJ2esJ",
        "outputId": "c1e792f9-88b0-4624-a429-f5d38730f235"
      },
      "execution_count": 6,
      "outputs": [
        {
          "output_type": "display_data",
          "data": {
            "text/plain": [
              "<IPython.core.display.HTML object>"
            ],
            "text/html": [
              "\n",
              "    <div>\n",
              "      \n",
              "      <progress value='1842' max='1842' style='width:300px; height:20px; vertical-align: middle;'></progress>\n",
              "      [1842/1842 20:17, Epoch 2/2]\n",
              "    </div>\n",
              "    <table border=\"1\" class=\"dataframe\">\n",
              "  <thead>\n",
              " <tr style=\"text-align: left;\">\n",
              "      <th>Epoch</th>\n",
              "      <th>Training Loss</th>\n",
              "      <th>Validation Loss</th>\n",
              "      <th>Rouge1</th>\n",
              "      <th>Rouge2</th>\n",
              "      <th>Rougel</th>\n",
              "      <th>Rougelsum</th>\n",
              "    </tr>\n",
              "  </thead>\n",
              "  <tbody>\n",
              "    <tr>\n",
              "      <td>1</td>\n",
              "      <td>0.577000</td>\n",
              "      <td>0.322953</td>\n",
              "      <td>0.379466</td>\n",
              "      <td>0.190061</td>\n",
              "      <td>0.276850</td>\n",
              "      <td>0.276752</td>\n",
              "    </tr>\n",
              "    <tr>\n",
              "      <td>2</td>\n",
              "      <td>0.227900</td>\n",
              "      <td>0.316085</td>\n",
              "      <td>0.409582</td>\n",
              "      <td>0.208038</td>\n",
              "      <td>0.314859</td>\n",
              "      <td>0.314785</td>\n",
              "    </tr>\n",
              "  </tbody>\n",
              "</table><p>"
            ]
          },
          "metadata": {}
        },
        {
          "output_type": "stream",
          "name": "stderr",
          "text": [
            "Some non-default generation parameters are set in the model config. These should go into a GenerationConfig file (https://huggingface.co/docs/transformers/generation_strategies#save-a-custom-decoding-strategy-with-your-model) instead. This warning will be raised to an exception in v4.41.\n",
            "Non-default generation parameters: {'max_length': 142, 'min_length': 56, 'early_stopping': True, 'num_beams': 4, 'length_penalty': 2.0, 'no_repeat_ngram_size': 3, 'forced_bos_token_id': 0, 'forced_eos_token_id': 2}\n",
            "Some non-default generation parameters are set in the model config. These should go into a GenerationConfig file (https://huggingface.co/docs/transformers/generation_strategies#save-a-custom-decoding-strategy-with-your-model) instead. This warning will be raised to an exception in v4.41.\n",
            "Non-default generation parameters: {'max_length': 142, 'min_length': 56, 'early_stopping': True, 'num_beams': 4, 'length_penalty': 2.0, 'no_repeat_ngram_size': 3, 'forced_bos_token_id': 0, 'forced_eos_token_id': 2}\n",
            "Some non-default generation parameters are set in the model config. These should go into a GenerationConfig file (https://huggingface.co/docs/transformers/generation_strategies#save-a-custom-decoding-strategy-with-your-model) instead. This warning will be raised to an exception in v4.41.\n",
            "Non-default generation parameters: {'max_length': 142, 'min_length': 56, 'early_stopping': True, 'num_beams': 4, 'length_penalty': 2.0, 'no_repeat_ngram_size': 3, 'forced_bos_token_id': 0, 'forced_eos_token_id': 2}\n"
          ]
        },
        {
          "output_type": "execute_result",
          "data": {
            "text/plain": [
              "TrainOutput(global_step=1842, training_loss=0.3407160399661649, metrics={'train_runtime': 1218.961, 'train_samples_per_second': 24.171, 'train_steps_per_second': 1.511, 'total_flos': 1.5962892499156992e+16, 'train_loss': 0.3407160399661649, 'epoch': 2.0})"
            ]
          },
          "metadata": {},
          "execution_count": 6
        }
      ]
    },
    {
      "cell_type": "code",
      "source": [
        "# Evaluate the model\n",
        "results = trainer.evaluate()\n",
        "pprint(results)\n"
      ],
      "metadata": {
        "colab": {
          "base_uri": "https://localhost:8080/",
          "height": 74
        },
        "id": "z2qyTYcT14x9",
        "outputId": "106c86b8-6c74-4e5b-bdcc-c4cc42dad2eb"
      },
      "execution_count": 7,
      "outputs": [
        {
          "output_type": "display_data",
          "data": {
            "text/plain": [
              "<IPython.core.display.HTML object>"
            ],
            "text/html": [
              "\n",
              "    <div>\n",
              "      \n",
              "      <progress value='52' max='52' style='width:300px; height:20px; vertical-align: middle;'></progress>\n",
              "      [52/52 02:54]\n",
              "    </div>\n",
              "    "
            ]
          },
          "metadata": {}
        },
        {
          "output_type": "stream",
          "name": "stdout",
          "text": [
            "{'eval_loss': 0.31608545780181885, 'eval_rouge1': 0.4095815871365392, 'eval_rouge2': 0.20803774621551024, 'eval_rougeL': 0.3148589232706943, 'eval_rougeLsum': 0.31478526984278493, 'eval_runtime': 180.8413, 'eval_samples_per_second': 4.523, 'eval_steps_per_second': 0.288, 'epoch': 2.0}\n"
          ]
        }
      ]
    },
    {
      "cell_type": "code",
      "source": [
        "# save model\n",
        "model.save_pretrained(finetuned_model_name)\n",
        "tokenizer.save_pretrained(finetuned_model_name)"
      ],
      "metadata": {
        "colab": {
          "base_uri": "https://localhost:8080/"
        },
        "id": "fJE0tkDwShXF",
        "outputId": "d9dfc6f4-9f27-4600-a949-41efb229d5cc"
      },
      "execution_count": 9,
      "outputs": [
        {
          "output_type": "stream",
          "name": "stderr",
          "text": [
            "Some non-default generation parameters are set in the model config. These should go into a GenerationConfig file (https://huggingface.co/docs/transformers/generation_strategies#save-a-custom-decoding-strategy-with-your-model) instead. This warning will be raised to an exception in v4.41.\n",
            "Non-default generation parameters: {'max_length': 142, 'min_length': 56, 'early_stopping': True, 'num_beams': 4, 'length_penalty': 2.0, 'no_repeat_ngram_size': 3, 'forced_bos_token_id': 0, 'forced_eos_token_id': 2}\n"
          ]
        },
        {
          "output_type": "execute_result",
          "data": {
            "text/plain": [
              "('facebook/bart-large-cnn-finetuned-samsum/tokenizer_config.json',\n",
              " 'facebook/bart-large-cnn-finetuned-samsum/special_tokens_map.json',\n",
              " 'facebook/bart-large-cnn-finetuned-samsum/vocab.json',\n",
              " 'facebook/bart-large-cnn-finetuned-samsum/merges.txt',\n",
              " 'facebook/bart-large-cnn-finetuned-samsum/added_tokens.json',\n",
              " 'facebook/bart-large-cnn-finetuned-samsum/tokenizer.json')"
            ]
          },
          "metadata": {},
          "execution_count": 9
        }
      ]
    },
    {
      "cell_type": "markdown",
      "source": [
        "## Evaluation and Analysis: BART fine-tuned\n",
        "> (a) Evaluate the fine-tuned model’s performance on the test set. Compare these results\n",
        "to the model’s pre-fine-tuning performance using the same dialogues to assess the\n",
        "impact of fine-tuning.\n"
      ],
      "metadata": {
        "id": "unQA2i1oFMWu"
      }
    },
    {
      "cell_type": "code",
      "source": [
        "import torch\n",
        "from transformers import pipeline\n",
        "import evaluate\n",
        "\n",
        "# Set the number of samples\n",
        "n_samples = 3\n",
        "# Select random dialogues\n",
        "sample_dialogues = dataset['test'].shuffle(seed=42).select(range(n_samples))\n",
        "\n",
        "# Create summarizer pipelines for each model\n",
        "device = \"cuda\" if torch.cuda.is_available() else \"cpu\"\n",
        "summarizer = pipeline(\"summarization\", model=model, tokenizer=tokenizer, device=device)\n",
        "\n",
        "# Function to generate summary\n",
        "def generate_summary(dialogue):\n",
        "    output = summarizer(dialogue)\n",
        "    generated_summary = output[0]['summary_text']\n",
        "    return generated_summary\n",
        "\n",
        "# Generate summaries\n",
        "summaries = []\n",
        "\n",
        "for dialogue in sample_dialogues:\n",
        "    summaries.append(generate_summary(dialogue['dialogue']))\n",
        "\n",
        "# Display the summaries\n",
        "for i, dialogue in enumerate(sample_dialogues):\n",
        "    print(f\"Dialogue {i+1}:\\n{dialogue['dialogue']}\\n\")\n",
        "    print(f\"Summary:\\n{summaries[i]}\\n\")\n",
        "    print(\"=\"*50)"
      ],
      "metadata": {
        "colab": {
          "base_uri": "https://localhost:8080/"
        },
        "id": "y3mnYlNr2GQM",
        "outputId": "9ec80e12-6785-4653-f91a-4a26457fabc4"
      },
      "execution_count": 12,
      "outputs": [
        {
          "output_type": "stream",
          "name": "stderr",
          "text": [
            "Your max_length is set to 142, but your input_length is only 69. Since this is a summarization task, where outputs shorter than the input are typically wanted, you might consider decreasing max_length manually, e.g. summarizer('...', max_length=34)\n",
            "Your max_length is set to 142, but your input_length is only 109. Since this is a summarization task, where outputs shorter than the input are typically wanted, you might consider decreasing max_length manually, e.g. summarizer('...', max_length=54)\n",
            "Your max_length is set to 142, but your input_length is only 92. Since this is a summarization task, where outputs shorter than the input are typically wanted, you might consider decreasing max_length manually, e.g. summarizer('...', max_length=46)\n"
          ]
        },
        {
          "output_type": "stream",
          "name": "stdout",
          "text": [
            "Dialogue 1:\n",
            "Claire: <file_photo>\r\n",
            "Kim: Looks delicious...\r\n",
            "Linda: No way... Look what I'm cooking right now:\r\n",
            "Linda: <file_photo>\r\n",
            "Claire: hahahaha \r\n",
            "Kim: Curry dream team\r\n",
            "Claire: Enjoy your dinner :*\n",
            "\n",
            "Summary:\n",
            "Linda is cooking curry for dinner right now. Claire, Kim and Linda think it looks delicious, but Linda thinks it's a waste of time as she's already made it.   She sends Claire a photo of the food that she's cooking. Claire and Kim are impressed.\n",
            "\n",
            "==================================================\n",
            "Dialogue 2:\n",
            "Alyssa: Have you seen Fergie’s national anthem? Illuminati does a great job.\r\n",
            "Derek: This is not normal. I saw it last week…\r\n",
            "Alyssa: What do you think about it?\r\n",
            "Derek: I can fart bright stripes and bright stars better then she sings.\r\n",
            "Alyssa: The best part is that she acts like she nailed it. But at least it's funny in a good way.\r\n",
            "Derek: It is 😂\n",
            "\n",
            "Summary:\n",
            "Derek and Alyssa like Fergie’s national anthem. Derek farts better than she sings it.  He thinks it's funny in a good way.   He likes the fact that she acts like she nailed it, too. \n",
            "\n",
            "==================================================\n",
            "Dialogue 3:\n",
            "Ann: Hi, is the laptop still available?\r\n",
            "Josh: Yes it is\r\n",
            "Ann: I can pay 200 dollars\r\n",
            "Josh: The price is 250 and it's non-negotiable\r\n",
            "Ann: Do you have a bag for it? Some other accessories?\r\n",
            "Josh: I have a bag and a small usb mouse\r\n",
            "Ann: Sounds good, I'll take it, where can I pick it up?\n",
            "\n",
            "Summary:\n",
            "Ann will pay 200 dollars for a laptop from Josh. Josh has a bag and a small USB mouse for it. Ann will pick it up on Friday at 10:30.   The laptop is non-negotiable and the price is 250 dollars. \n",
            "\n",
            "==================================================\n"
          ]
        }
      ]
    },
    {
      "cell_type": "markdown",
      "source": [
        "### Before fine tunning result:\n",
        "\n",
        "```code\n",
        "Your max_length is set to 142, but your input_length is only 69. Since this is a summarization task, where outputs shorter than the input are typically wanted, you might consider decreasing max_length manually, e.g. summarizer('...', max_length=34)\n",
        "Your max_length is set to 200, but your input_length is only 58. Since this is a summarization task, where outputs shorter than the input are typically wanted, you might consider decreasing max_length manually, e.g. summarizer('...', max_length=29)\n",
        "Your max_length is set to 64, but your input_length is only 53. Since this is a summarization task, where outputs shorter than the input are typically wanted, you might consider decreasing max_length manually, e.g. summarizer('...', max_length=26)\n",
        "Your max_length is set to 142, but your input_length is only 109. Since this is a summarization task, where outputs shorter than the input are typically wanted, you might consider decreasing max_length manually, e.g. summarizer('...', max_length=54)\n",
        "Your max_length is set to 200, but your input_length is only 113. Since this is a summarization task, where outputs shorter than the input are typically wanted, you might consider decreasing max_length manually, e.g. summarizer('...', max_length=56)\n",
        "Your max_length is set to 142, but your input_length is only 92. Since this is a summarization task, where outputs shorter than the input are typically wanted, you might consider decreasing max_length manually, e.g. summarizer('...', max_length=46)\n",
        "Your max_length is set to 200, but your input_length is only 89. Since this is a summarization task, where outputs shorter than the input are typically wanted, you might consider decreasing max_length manually, e.g. summarizer('...', max_length=44)\n",
        "Dialogue 1:\n",
        "Claire: <file_photo>\n",
        "Kim: Looks delicious...\n",
        "Linda: No way... Look what I'm cooking right now:\n",
        "Linda: <file_photo>\n",
        "Claire: hahahaha\n",
        "Kim: Curry dream team\n",
        "Claire: Enjoy your dinner :*\n",
        "\n",
        "BART Summary:\n",
        "Linda: No way... Look what I'm cooking right now. Claire: hahahaha   Kim: Curry dream team. Linda: What's for dinner? Claire: Curry. Kim: Looks delicious... Linda: Curry! Claire: Enjoy your dinner :*\n",
        "\n",
        "T5 Summary:\n",
        "Linda: 'look what i'm cooking right now: no way... ... look what I'm preparing right now'\n",
        "\n",
        "PEGASUS Summary:\n",
        "Claire:\n",
        "\n",
        "==================================================\n",
        "Dialogue 2:\n",
        "Alyssa: Have you seen Fergie’s national anthem? Illuminati does a great job.\n",
        "Derek: This is not normal. I saw it last week…\n",
        "Alyssa: What do you think about it?\n",
        "Derek: I can fart bright stripes and bright stars better then she sings.\n",
        "Alyssa: The best part is that she acts like she nailed it. But at least it's funny in a good way.\n",
        "Derek: It is 😂\n",
        "\n",
        "BART Summary:\n",
        "Alyssa: Have you seen Fergie’s national anthem? Illuminati does a great job. Derek: I can fart bright stripes and bright stars better then she sings. But at least it's funny in a good way, Alyssa says. The best part is that she acts like she nailed it, Derek adds.\n",
        "\n",
        "T5 Summary:\n",
        "Derek: i can fart bright stripes and bright stars better then she sings . but at least it's funny in a good way .\n",
        "\n",
        "PEGASUS Summary:\n",
        "In case you missed it, here are some highlights from the Super Bowl:\n",
        "\n",
        "==================================================\n",
        "Dialogue 3:\n",
        "Ann: Hi, is the laptop still available?\n",
        "Josh: Yes it is\n",
        "Ann: I can pay 200 dollars\n",
        "Josh: The price is 250 and it's non-negotiable\n",
        "Ann: Do you have a bag for it? Some other accessories?\n",
        "Josh: I have a bag and a small usb mouse\n",
        "Ann: Sounds good, I'll take it, where can I pick it up?\n",
        "\n",
        "BART Summary:\n",
        "Ann: Hi, is the laptop still available? Josh: Yes it is. Ann: I can pay 200 dollars for it. Josh: The price is 250 and it's non-negotiable.Ann: Sounds good, I'll take it, where can I pick it up?\n",
        "\n",
        "T5 Summary:\n",
        "the price is 250 dollars and it's non-negotiable . do you have a bag and a small usb mouse?\n",
        "\n",
        "PEGASUS Summary:\n",
        "Ann: Hi, is the laptop still available Josh: Hi, is the laptop still available Ann: Hi, is the laptop still available Ann: Hi, is the laptop still available Ann: Hi, is the laptop still available Ann: Hi, is the laptop still available Ann: Hi, is the laptop still\n",
        "\n",
        "==================================================\n",
        "```"
      ],
      "metadata": {
        "id": "12WXShlDUu7A"
      }
    },
    {
      "cell_type": "markdown",
      "source": [
        "> (b) Analyze the generated summaries for improvements in capturing key points, co-\n",
        "herence, and fluency. Discuss the fine-tuning’s impact on the model’s ability to\n",
        "summarize dialogues."
      ],
      "metadata": {
        "id": "7nkO3_cDVL9Q"
      }
    },
    {
      "cell_type": "markdown",
      "source": [
        "Before Fine-Tuning (BART)\n",
        "\n",
        "BART Summary: Captures multiple dialogue exchanges but fails to generate a cohesive summary. Some phrases are redundant and lack proper structuring.\n",
        "\n",
        "After Fine-Tuning (BART)\n",
        "\n",
        "BART Summary: The fine-tuned BART model generates a cohesive summary that captures key points about Linda cooking curry, and the positive reactions from Claire and Kim. It correctly interprets the exchange and provides a complete narrative.\n",
        "\n"
      ],
      "metadata": {
        "id": "70eR8OCCVWqx"
      }
    }
  ]
}