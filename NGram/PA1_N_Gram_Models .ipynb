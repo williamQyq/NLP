{
  "nbformat": 4,
  "nbformat_minor": 0,
  "metadata": {
    "colab": {
      "provenance": []
    },
    "kernelspec": {
      "name": "python3",
      "display_name": "Python 3"
    },
    "language_info": {
      "name": "python"
    },
    "widgets": {
      "application/vnd.jupyter.widget-state+json": {
        "8ab333c5b3b84585a2c7b9ab8a61a5cb": {
          "model_module": "@jupyter-widgets/controls",
          "model_name": "HBoxModel",
          "model_module_version": "1.5.0",
          "state": {
            "_dom_classes": [],
            "_model_module": "@jupyter-widgets/controls",
            "_model_module_version": "1.5.0",
            "_model_name": "HBoxModel",
            "_view_count": null,
            "_view_module": "@jupyter-widgets/controls",
            "_view_module_version": "1.5.0",
            "_view_name": "HBoxView",
            "box_style": "",
            "children": [
              "IPY_MODEL_d2d77e3279834b82a19eb3ae72ada201",
              "IPY_MODEL_55c6e8e01d004e11abc9c90938f0e0de",
              "IPY_MODEL_b7fa093da7864247bfe34da39a4aba1d"
            ],
            "layout": "IPY_MODEL_6dc3c55ee90d48a99a8c2cfd3fb86747"
          }
        },
        "d2d77e3279834b82a19eb3ae72ada201": {
          "model_module": "@jupyter-widgets/controls",
          "model_name": "HTMLModel",
          "model_module_version": "1.5.0",
          "state": {
            "_dom_classes": [],
            "_model_module": "@jupyter-widgets/controls",
            "_model_module_version": "1.5.0",
            "_model_name": "HTMLModel",
            "_view_count": null,
            "_view_module": "@jupyter-widgets/controls",
            "_view_module_version": "1.5.0",
            "_view_name": "HTMLView",
            "description": "",
            "description_tooltip": null,
            "layout": "IPY_MODEL_a4120771b9574d8eb9a748ae49f71c51",
            "placeholder": "​",
            "style": "IPY_MODEL_c491c42e054545bda152501ab8cc7caa",
            "value": "Processing Documents: 100%"
          }
        },
        "55c6e8e01d004e11abc9c90938f0e0de": {
          "model_module": "@jupyter-widgets/controls",
          "model_name": "FloatProgressModel",
          "model_module_version": "1.5.0",
          "state": {
            "_dom_classes": [],
            "_model_module": "@jupyter-widgets/controls",
            "_model_module_version": "1.5.0",
            "_model_name": "FloatProgressModel",
            "_view_count": null,
            "_view_module": "@jupyter-widgets/controls",
            "_view_module_version": "1.5.0",
            "_view_name": "ProgressView",
            "bar_style": "success",
            "description": "",
            "description_tooltip": null,
            "layout": "IPY_MODEL_69d0afc6b81c45938a170468ada7f25f",
            "max": 1079,
            "min": 0,
            "orientation": "horizontal",
            "style": "IPY_MODEL_58c9c78225ee47d6b51dcd4be9e7b35e",
            "value": 1079
          }
        },
        "b7fa093da7864247bfe34da39a4aba1d": {
          "model_module": "@jupyter-widgets/controls",
          "model_name": "HTMLModel",
          "model_module_version": "1.5.0",
          "state": {
            "_dom_classes": [],
            "_model_module": "@jupyter-widgets/controls",
            "_model_module_version": "1.5.0",
            "_model_name": "HTMLModel",
            "_view_count": null,
            "_view_module": "@jupyter-widgets/controls",
            "_view_module_version": "1.5.0",
            "_view_name": "HTMLView",
            "description": "",
            "description_tooltip": null,
            "layout": "IPY_MODEL_5879488fec3c46bfa3aa69404f1c95ec",
            "placeholder": "​",
            "style": "IPY_MODEL_62dbc252cbaa44fbbd7d5c00f1abf047",
            "value": " 1079/1079 [00:01&lt;00:00, 794.72it/s]"
          }
        },
        "6dc3c55ee90d48a99a8c2cfd3fb86747": {
          "model_module": "@jupyter-widgets/base",
          "model_name": "LayoutModel",
          "model_module_version": "1.2.0",
          "state": {
            "_model_module": "@jupyter-widgets/base",
            "_model_module_version": "1.2.0",
            "_model_name": "LayoutModel",
            "_view_count": null,
            "_view_module": "@jupyter-widgets/base",
            "_view_module_version": "1.2.0",
            "_view_name": "LayoutView",
            "align_content": null,
            "align_items": null,
            "align_self": null,
            "border": null,
            "bottom": null,
            "display": null,
            "flex": null,
            "flex_flow": null,
            "grid_area": null,
            "grid_auto_columns": null,
            "grid_auto_flow": null,
            "grid_auto_rows": null,
            "grid_column": null,
            "grid_gap": null,
            "grid_row": null,
            "grid_template_areas": null,
            "grid_template_columns": null,
            "grid_template_rows": null,
            "height": null,
            "justify_content": null,
            "justify_items": null,
            "left": null,
            "margin": null,
            "max_height": null,
            "max_width": null,
            "min_height": null,
            "min_width": null,
            "object_fit": null,
            "object_position": null,
            "order": null,
            "overflow": null,
            "overflow_x": null,
            "overflow_y": null,
            "padding": null,
            "right": null,
            "top": null,
            "visibility": null,
            "width": null
          }
        },
        "a4120771b9574d8eb9a748ae49f71c51": {
          "model_module": "@jupyter-widgets/base",
          "model_name": "LayoutModel",
          "model_module_version": "1.2.0",
          "state": {
            "_model_module": "@jupyter-widgets/base",
            "_model_module_version": "1.2.0",
            "_model_name": "LayoutModel",
            "_view_count": null,
            "_view_module": "@jupyter-widgets/base",
            "_view_module_version": "1.2.0",
            "_view_name": "LayoutView",
            "align_content": null,
            "align_items": null,
            "align_self": null,
            "border": null,
            "bottom": null,
            "display": null,
            "flex": null,
            "flex_flow": null,
            "grid_area": null,
            "grid_auto_columns": null,
            "grid_auto_flow": null,
            "grid_auto_rows": null,
            "grid_column": null,
            "grid_gap": null,
            "grid_row": null,
            "grid_template_areas": null,
            "grid_template_columns": null,
            "grid_template_rows": null,
            "height": null,
            "justify_content": null,
            "justify_items": null,
            "left": null,
            "margin": null,
            "max_height": null,
            "max_width": null,
            "min_height": null,
            "min_width": null,
            "object_fit": null,
            "object_position": null,
            "order": null,
            "overflow": null,
            "overflow_x": null,
            "overflow_y": null,
            "padding": null,
            "right": null,
            "top": null,
            "visibility": null,
            "width": null
          }
        },
        "c491c42e054545bda152501ab8cc7caa": {
          "model_module": "@jupyter-widgets/controls",
          "model_name": "DescriptionStyleModel",
          "model_module_version": "1.5.0",
          "state": {
            "_model_module": "@jupyter-widgets/controls",
            "_model_module_version": "1.5.0",
            "_model_name": "DescriptionStyleModel",
            "_view_count": null,
            "_view_module": "@jupyter-widgets/base",
            "_view_module_version": "1.2.0",
            "_view_name": "StyleView",
            "description_width": ""
          }
        },
        "69d0afc6b81c45938a170468ada7f25f": {
          "model_module": "@jupyter-widgets/base",
          "model_name": "LayoutModel",
          "model_module_version": "1.2.0",
          "state": {
            "_model_module": "@jupyter-widgets/base",
            "_model_module_version": "1.2.0",
            "_model_name": "LayoutModel",
            "_view_count": null,
            "_view_module": "@jupyter-widgets/base",
            "_view_module_version": "1.2.0",
            "_view_name": "LayoutView",
            "align_content": null,
            "align_items": null,
            "align_self": null,
            "border": null,
            "bottom": null,
            "display": null,
            "flex": null,
            "flex_flow": null,
            "grid_area": null,
            "grid_auto_columns": null,
            "grid_auto_flow": null,
            "grid_auto_rows": null,
            "grid_column": null,
            "grid_gap": null,
            "grid_row": null,
            "grid_template_areas": null,
            "grid_template_columns": null,
            "grid_template_rows": null,
            "height": null,
            "justify_content": null,
            "justify_items": null,
            "left": null,
            "margin": null,
            "max_height": null,
            "max_width": null,
            "min_height": null,
            "min_width": null,
            "object_fit": null,
            "object_position": null,
            "order": null,
            "overflow": null,
            "overflow_x": null,
            "overflow_y": null,
            "padding": null,
            "right": null,
            "top": null,
            "visibility": null,
            "width": null
          }
        },
        "58c9c78225ee47d6b51dcd4be9e7b35e": {
          "model_module": "@jupyter-widgets/controls",
          "model_name": "ProgressStyleModel",
          "model_module_version": "1.5.0",
          "state": {
            "_model_module": "@jupyter-widgets/controls",
            "_model_module_version": "1.5.0",
            "_model_name": "ProgressStyleModel",
            "_view_count": null,
            "_view_module": "@jupyter-widgets/base",
            "_view_module_version": "1.2.0",
            "_view_name": "StyleView",
            "bar_color": null,
            "description_width": ""
          }
        },
        "5879488fec3c46bfa3aa69404f1c95ec": {
          "model_module": "@jupyter-widgets/base",
          "model_name": "LayoutModel",
          "model_module_version": "1.2.0",
          "state": {
            "_model_module": "@jupyter-widgets/base",
            "_model_module_version": "1.2.0",
            "_model_name": "LayoutModel",
            "_view_count": null,
            "_view_module": "@jupyter-widgets/base",
            "_view_module_version": "1.2.0",
            "_view_name": "LayoutView",
            "align_content": null,
            "align_items": null,
            "align_self": null,
            "border": null,
            "bottom": null,
            "display": null,
            "flex": null,
            "flex_flow": null,
            "grid_area": null,
            "grid_auto_columns": null,
            "grid_auto_flow": null,
            "grid_auto_rows": null,
            "grid_column": null,
            "grid_gap": null,
            "grid_row": null,
            "grid_template_areas": null,
            "grid_template_columns": null,
            "grid_template_rows": null,
            "height": null,
            "justify_content": null,
            "justify_items": null,
            "left": null,
            "margin": null,
            "max_height": null,
            "max_width": null,
            "min_height": null,
            "min_width": null,
            "object_fit": null,
            "object_position": null,
            "order": null,
            "overflow": null,
            "overflow_x": null,
            "overflow_y": null,
            "padding": null,
            "right": null,
            "top": null,
            "visibility": null,
            "width": null
          }
        },
        "62dbc252cbaa44fbbd7d5c00f1abf047": {
          "model_module": "@jupyter-widgets/controls",
          "model_name": "DescriptionStyleModel",
          "model_module_version": "1.5.0",
          "state": {
            "_model_module": "@jupyter-widgets/controls",
            "_model_module_version": "1.5.0",
            "_model_name": "DescriptionStyleModel",
            "_view_count": null,
            "_view_module": "@jupyter-widgets/base",
            "_view_module_version": "1.2.0",
            "_view_name": "StyleView",
            "description_width": ""
          }
        },
        "9dee23ac4855479bbf1736f94eaaad84": {
          "model_module": "@jupyter-widgets/controls",
          "model_name": "HBoxModel",
          "model_module_version": "1.5.0",
          "state": {
            "_dom_classes": [],
            "_model_module": "@jupyter-widgets/controls",
            "_model_module_version": "1.5.0",
            "_model_name": "HBoxModel",
            "_view_count": null,
            "_view_module": "@jupyter-widgets/controls",
            "_view_module_version": "1.5.0",
            "_view_name": "HBoxView",
            "box_style": "",
            "children": [
              "IPY_MODEL_3fb410e116a64eb69c4368ba51a9d185",
              "IPY_MODEL_070c39605e7f4417851c08e99e5b6b82",
              "IPY_MODEL_e74248c7011244f6ac4a4b594342ab29"
            ],
            "layout": "IPY_MODEL_54fb99ff9bcc4acb9f73ae0b631decfa"
          }
        },
        "3fb410e116a64eb69c4368ba51a9d185": {
          "model_module": "@jupyter-widgets/controls",
          "model_name": "HTMLModel",
          "model_module_version": "1.5.0",
          "state": {
            "_dom_classes": [],
            "_model_module": "@jupyter-widgets/controls",
            "_model_module_version": "1.5.0",
            "_model_name": "HTMLModel",
            "_view_count": null,
            "_view_module": "@jupyter-widgets/controls",
            "_view_module_version": "1.5.0",
            "_view_name": "HTMLView",
            "description": "",
            "description_tooltip": null,
            "layout": "IPY_MODEL_c9a0a9a6df4f45158dbfc88f98ff1ad3",
            "placeholder": "​",
            "style": "IPY_MODEL_ad3663651a164a6c8aca1e42361258f6",
            "value": "Processing Documents: 100%"
          }
        },
        "070c39605e7f4417851c08e99e5b6b82": {
          "model_module": "@jupyter-widgets/controls",
          "model_name": "FloatProgressModel",
          "model_module_version": "1.5.0",
          "state": {
            "_dom_classes": [],
            "_model_module": "@jupyter-widgets/controls",
            "_model_module_version": "1.5.0",
            "_model_name": "FloatProgressModel",
            "_view_count": null,
            "_view_module": "@jupyter-widgets/controls",
            "_view_module_version": "1.5.0",
            "_view_name": "ProgressView",
            "bar_style": "success",
            "description": "",
            "description_tooltip": null,
            "layout": "IPY_MODEL_461912ac2caf4b74a1b55f85ef7360c0",
            "max": 1,
            "min": 0,
            "orientation": "horizontal",
            "style": "IPY_MODEL_c65f560954d34d1cbc972246d7e9f1bf",
            "value": 1
          }
        },
        "e74248c7011244f6ac4a4b594342ab29": {
          "model_module": "@jupyter-widgets/controls",
          "model_name": "HTMLModel",
          "model_module_version": "1.5.0",
          "state": {
            "_dom_classes": [],
            "_model_module": "@jupyter-widgets/controls",
            "_model_module_version": "1.5.0",
            "_model_name": "HTMLModel",
            "_view_count": null,
            "_view_module": "@jupyter-widgets/controls",
            "_view_module_version": "1.5.0",
            "_view_name": "HTMLView",
            "description": "",
            "description_tooltip": null,
            "layout": "IPY_MODEL_0f83c881434e453895feafc2cce1aa5b",
            "placeholder": "​",
            "style": "IPY_MODEL_fa125f49bf6d4e6d89db529d089c81f9",
            "value": " 1/1 [00:01&lt;00:00,  1.83s/it]"
          }
        },
        "54fb99ff9bcc4acb9f73ae0b631decfa": {
          "model_module": "@jupyter-widgets/base",
          "model_name": "LayoutModel",
          "model_module_version": "1.2.0",
          "state": {
            "_model_module": "@jupyter-widgets/base",
            "_model_module_version": "1.2.0",
            "_model_name": "LayoutModel",
            "_view_count": null,
            "_view_module": "@jupyter-widgets/base",
            "_view_module_version": "1.2.0",
            "_view_name": "LayoutView",
            "align_content": null,
            "align_items": null,
            "align_self": null,
            "border": null,
            "bottom": null,
            "display": null,
            "flex": null,
            "flex_flow": null,
            "grid_area": null,
            "grid_auto_columns": null,
            "grid_auto_flow": null,
            "grid_auto_rows": null,
            "grid_column": null,
            "grid_gap": null,
            "grid_row": null,
            "grid_template_areas": null,
            "grid_template_columns": null,
            "grid_template_rows": null,
            "height": null,
            "justify_content": null,
            "justify_items": null,
            "left": null,
            "margin": null,
            "max_height": null,
            "max_width": null,
            "min_height": null,
            "min_width": null,
            "object_fit": null,
            "object_position": null,
            "order": null,
            "overflow": null,
            "overflow_x": null,
            "overflow_y": null,
            "padding": null,
            "right": null,
            "top": null,
            "visibility": null,
            "width": null
          }
        },
        "c9a0a9a6df4f45158dbfc88f98ff1ad3": {
          "model_module": "@jupyter-widgets/base",
          "model_name": "LayoutModel",
          "model_module_version": "1.2.0",
          "state": {
            "_model_module": "@jupyter-widgets/base",
            "_model_module_version": "1.2.0",
            "_model_name": "LayoutModel",
            "_view_count": null,
            "_view_module": "@jupyter-widgets/base",
            "_view_module_version": "1.2.0",
            "_view_name": "LayoutView",
            "align_content": null,
            "align_items": null,
            "align_self": null,
            "border": null,
            "bottom": null,
            "display": null,
            "flex": null,
            "flex_flow": null,
            "grid_area": null,
            "grid_auto_columns": null,
            "grid_auto_flow": null,
            "grid_auto_rows": null,
            "grid_column": null,
            "grid_gap": null,
            "grid_row": null,
            "grid_template_areas": null,
            "grid_template_columns": null,
            "grid_template_rows": null,
            "height": null,
            "justify_content": null,
            "justify_items": null,
            "left": null,
            "margin": null,
            "max_height": null,
            "max_width": null,
            "min_height": null,
            "min_width": null,
            "object_fit": null,
            "object_position": null,
            "order": null,
            "overflow": null,
            "overflow_x": null,
            "overflow_y": null,
            "padding": null,
            "right": null,
            "top": null,
            "visibility": null,
            "width": null
          }
        },
        "ad3663651a164a6c8aca1e42361258f6": {
          "model_module": "@jupyter-widgets/controls",
          "model_name": "DescriptionStyleModel",
          "model_module_version": "1.5.0",
          "state": {
            "_model_module": "@jupyter-widgets/controls",
            "_model_module_version": "1.5.0",
            "_model_name": "DescriptionStyleModel",
            "_view_count": null,
            "_view_module": "@jupyter-widgets/base",
            "_view_module_version": "1.2.0",
            "_view_name": "StyleView",
            "description_width": ""
          }
        },
        "461912ac2caf4b74a1b55f85ef7360c0": {
          "model_module": "@jupyter-widgets/base",
          "model_name": "LayoutModel",
          "model_module_version": "1.2.0",
          "state": {
            "_model_module": "@jupyter-widgets/base",
            "_model_module_version": "1.2.0",
            "_model_name": "LayoutModel",
            "_view_count": null,
            "_view_module": "@jupyter-widgets/base",
            "_view_module_version": "1.2.0",
            "_view_name": "LayoutView",
            "align_content": null,
            "align_items": null,
            "align_self": null,
            "border": null,
            "bottom": null,
            "display": null,
            "flex": null,
            "flex_flow": null,
            "grid_area": null,
            "grid_auto_columns": null,
            "grid_auto_flow": null,
            "grid_auto_rows": null,
            "grid_column": null,
            "grid_gap": null,
            "grid_row": null,
            "grid_template_areas": null,
            "grid_template_columns": null,
            "grid_template_rows": null,
            "height": null,
            "justify_content": null,
            "justify_items": null,
            "left": null,
            "margin": null,
            "max_height": null,
            "max_width": null,
            "min_height": null,
            "min_width": null,
            "object_fit": null,
            "object_position": null,
            "order": null,
            "overflow": null,
            "overflow_x": null,
            "overflow_y": null,
            "padding": null,
            "right": null,
            "top": null,
            "visibility": null,
            "width": null
          }
        },
        "c65f560954d34d1cbc972246d7e9f1bf": {
          "model_module": "@jupyter-widgets/controls",
          "model_name": "ProgressStyleModel",
          "model_module_version": "1.5.0",
          "state": {
            "_model_module": "@jupyter-widgets/controls",
            "_model_module_version": "1.5.0",
            "_model_name": "ProgressStyleModel",
            "_view_count": null,
            "_view_module": "@jupyter-widgets/base",
            "_view_module_version": "1.2.0",
            "_view_name": "StyleView",
            "bar_color": null,
            "description_width": ""
          }
        },
        "0f83c881434e453895feafc2cce1aa5b": {
          "model_module": "@jupyter-widgets/base",
          "model_name": "LayoutModel",
          "model_module_version": "1.2.0",
          "state": {
            "_model_module": "@jupyter-widgets/base",
            "_model_module_version": "1.2.0",
            "_model_name": "LayoutModel",
            "_view_count": null,
            "_view_module": "@jupyter-widgets/base",
            "_view_module_version": "1.2.0",
            "_view_name": "LayoutView",
            "align_content": null,
            "align_items": null,
            "align_self": null,
            "border": null,
            "bottom": null,
            "display": null,
            "flex": null,
            "flex_flow": null,
            "grid_area": null,
            "grid_auto_columns": null,
            "grid_auto_flow": null,
            "grid_auto_rows": null,
            "grid_column": null,
            "grid_gap": null,
            "grid_row": null,
            "grid_template_areas": null,
            "grid_template_columns": null,
            "grid_template_rows": null,
            "height": null,
            "justify_content": null,
            "justify_items": null,
            "left": null,
            "margin": null,
            "max_height": null,
            "max_width": null,
            "min_height": null,
            "min_width": null,
            "object_fit": null,
            "object_position": null,
            "order": null,
            "overflow": null,
            "overflow_x": null,
            "overflow_y": null,
            "padding": null,
            "right": null,
            "top": null,
            "visibility": null,
            "width": null
          }
        },
        "fa125f49bf6d4e6d89db529d089c81f9": {
          "model_module": "@jupyter-widgets/controls",
          "model_name": "DescriptionStyleModel",
          "model_module_version": "1.5.0",
          "state": {
            "_model_module": "@jupyter-widgets/controls",
            "_model_module_version": "1.5.0",
            "_model_name": "DescriptionStyleModel",
            "_view_count": null,
            "_view_module": "@jupyter-widgets/base",
            "_view_module_version": "1.2.0",
            "_view_name": "StyleView",
            "description_width": ""
          }
        },
        "59dfa9d9c29d407ca564684a98e71e19": {
          "model_module": "@jupyter-widgets/controls",
          "model_name": "HBoxModel",
          "model_module_version": "1.5.0",
          "state": {
            "_dom_classes": [],
            "_model_module": "@jupyter-widgets/controls",
            "_model_module_version": "1.5.0",
            "_model_name": "HBoxModel",
            "_view_count": null,
            "_view_module": "@jupyter-widgets/controls",
            "_view_module_version": "1.5.0",
            "_view_name": "HBoxView",
            "box_style": "",
            "children": [
              "IPY_MODEL_494b61abae1140de8dca715f07a7e61b",
              "IPY_MODEL_58ab6298e28141d7a1ba7449cc3d6817",
              "IPY_MODEL_e934b94e59ad4e0e9e73e6b21963afb0"
            ],
            "layout": "IPY_MODEL_d661c34d2f354759932ac72b8b367ec0"
          }
        },
        "494b61abae1140de8dca715f07a7e61b": {
          "model_module": "@jupyter-widgets/controls",
          "model_name": "HTMLModel",
          "model_module_version": "1.5.0",
          "state": {
            "_dom_classes": [],
            "_model_module": "@jupyter-widgets/controls",
            "_model_module_version": "1.5.0",
            "_model_name": "HTMLModel",
            "_view_count": null,
            "_view_module": "@jupyter-widgets/controls",
            "_view_module_version": "1.5.0",
            "_view_name": "HTMLView",
            "description": "",
            "description_tooltip": null,
            "layout": "IPY_MODEL_b0a151d4e4f04b8bbfc8d9f6ca755c49",
            "placeholder": "​",
            "style": "IPY_MODEL_fe8a127f76d84e0185916b8e4b61d9e9",
            "value": "Processing Tokens: 100%"
          }
        },
        "58ab6298e28141d7a1ba7449cc3d6817": {
          "model_module": "@jupyter-widgets/controls",
          "model_name": "FloatProgressModel",
          "model_module_version": "1.5.0",
          "state": {
            "_dom_classes": [],
            "_model_module": "@jupyter-widgets/controls",
            "_model_module_version": "1.5.0",
            "_model_name": "FloatProgressModel",
            "_view_count": null,
            "_view_module": "@jupyter-widgets/controls",
            "_view_module_version": "1.5.0",
            "_view_name": "ProgressView",
            "bar_style": "success",
            "description": "",
            "description_tooltip": null,
            "layout": "IPY_MODEL_5007217c87fe4d33907a6ab0c9c561e1",
            "max": 65028,
            "min": 0,
            "orientation": "horizontal",
            "style": "IPY_MODEL_5920e7db8097494298d2f4151c5be94c",
            "value": 65028
          }
        },
        "e934b94e59ad4e0e9e73e6b21963afb0": {
          "model_module": "@jupyter-widgets/controls",
          "model_name": "HTMLModel",
          "model_module_version": "1.5.0",
          "state": {
            "_dom_classes": [],
            "_model_module": "@jupyter-widgets/controls",
            "_model_module_version": "1.5.0",
            "_model_name": "HTMLModel",
            "_view_count": null,
            "_view_module": "@jupyter-widgets/controls",
            "_view_module_version": "1.5.0",
            "_view_name": "HTMLView",
            "description": "",
            "description_tooltip": null,
            "layout": "IPY_MODEL_0a8ee186d8304f18826917b8da12218b",
            "placeholder": "​",
            "style": "IPY_MODEL_cd74b6efde5545c3a65e0461c278cddb",
            "value": " 65028/65028 [00:00&lt;00:00, 205769.42it/s]"
          }
        },
        "d661c34d2f354759932ac72b8b367ec0": {
          "model_module": "@jupyter-widgets/base",
          "model_name": "LayoutModel",
          "model_module_version": "1.2.0",
          "state": {
            "_model_module": "@jupyter-widgets/base",
            "_model_module_version": "1.2.0",
            "_model_name": "LayoutModel",
            "_view_count": null,
            "_view_module": "@jupyter-widgets/base",
            "_view_module_version": "1.2.0",
            "_view_name": "LayoutView",
            "align_content": null,
            "align_items": null,
            "align_self": null,
            "border": null,
            "bottom": null,
            "display": null,
            "flex": null,
            "flex_flow": null,
            "grid_area": null,
            "grid_auto_columns": null,
            "grid_auto_flow": null,
            "grid_auto_rows": null,
            "grid_column": null,
            "grid_gap": null,
            "grid_row": null,
            "grid_template_areas": null,
            "grid_template_columns": null,
            "grid_template_rows": null,
            "height": null,
            "justify_content": null,
            "justify_items": null,
            "left": null,
            "margin": null,
            "max_height": null,
            "max_width": null,
            "min_height": null,
            "min_width": null,
            "object_fit": null,
            "object_position": null,
            "order": null,
            "overflow": null,
            "overflow_x": null,
            "overflow_y": null,
            "padding": null,
            "right": null,
            "top": null,
            "visibility": null,
            "width": null
          }
        },
        "b0a151d4e4f04b8bbfc8d9f6ca755c49": {
          "model_module": "@jupyter-widgets/base",
          "model_name": "LayoutModel",
          "model_module_version": "1.2.0",
          "state": {
            "_model_module": "@jupyter-widgets/base",
            "_model_module_version": "1.2.0",
            "_model_name": "LayoutModel",
            "_view_count": null,
            "_view_module": "@jupyter-widgets/base",
            "_view_module_version": "1.2.0",
            "_view_name": "LayoutView",
            "align_content": null,
            "align_items": null,
            "align_self": null,
            "border": null,
            "bottom": null,
            "display": null,
            "flex": null,
            "flex_flow": null,
            "grid_area": null,
            "grid_auto_columns": null,
            "grid_auto_flow": null,
            "grid_auto_rows": null,
            "grid_column": null,
            "grid_gap": null,
            "grid_row": null,
            "grid_template_areas": null,
            "grid_template_columns": null,
            "grid_template_rows": null,
            "height": null,
            "justify_content": null,
            "justify_items": null,
            "left": null,
            "margin": null,
            "max_height": null,
            "max_width": null,
            "min_height": null,
            "min_width": null,
            "object_fit": null,
            "object_position": null,
            "order": null,
            "overflow": null,
            "overflow_x": null,
            "overflow_y": null,
            "padding": null,
            "right": null,
            "top": null,
            "visibility": null,
            "width": null
          }
        },
        "fe8a127f76d84e0185916b8e4b61d9e9": {
          "model_module": "@jupyter-widgets/controls",
          "model_name": "DescriptionStyleModel",
          "model_module_version": "1.5.0",
          "state": {
            "_model_module": "@jupyter-widgets/controls",
            "_model_module_version": "1.5.0",
            "_model_name": "DescriptionStyleModel",
            "_view_count": null,
            "_view_module": "@jupyter-widgets/base",
            "_view_module_version": "1.2.0",
            "_view_name": "StyleView",
            "description_width": ""
          }
        },
        "5007217c87fe4d33907a6ab0c9c561e1": {
          "model_module": "@jupyter-widgets/base",
          "model_name": "LayoutModel",
          "model_module_version": "1.2.0",
          "state": {
            "_model_module": "@jupyter-widgets/base",
            "_model_module_version": "1.2.0",
            "_model_name": "LayoutModel",
            "_view_count": null,
            "_view_module": "@jupyter-widgets/base",
            "_view_module_version": "1.2.0",
            "_view_name": "LayoutView",
            "align_content": null,
            "align_items": null,
            "align_self": null,
            "border": null,
            "bottom": null,
            "display": null,
            "flex": null,
            "flex_flow": null,
            "grid_area": null,
            "grid_auto_columns": null,
            "grid_auto_flow": null,
            "grid_auto_rows": null,
            "grid_column": null,
            "grid_gap": null,
            "grid_row": null,
            "grid_template_areas": null,
            "grid_template_columns": null,
            "grid_template_rows": null,
            "height": null,
            "justify_content": null,
            "justify_items": null,
            "left": null,
            "margin": null,
            "max_height": null,
            "max_width": null,
            "min_height": null,
            "min_width": null,
            "object_fit": null,
            "object_position": null,
            "order": null,
            "overflow": null,
            "overflow_x": null,
            "overflow_y": null,
            "padding": null,
            "right": null,
            "top": null,
            "visibility": null,
            "width": null
          }
        },
        "5920e7db8097494298d2f4151c5be94c": {
          "model_module": "@jupyter-widgets/controls",
          "model_name": "ProgressStyleModel",
          "model_module_version": "1.5.0",
          "state": {
            "_model_module": "@jupyter-widgets/controls",
            "_model_module_version": "1.5.0",
            "_model_name": "ProgressStyleModel",
            "_view_count": null,
            "_view_module": "@jupyter-widgets/base",
            "_view_module_version": "1.2.0",
            "_view_name": "StyleView",
            "bar_color": null,
            "description_width": ""
          }
        },
        "0a8ee186d8304f18826917b8da12218b": {
          "model_module": "@jupyter-widgets/base",
          "model_name": "LayoutModel",
          "model_module_version": "1.2.0",
          "state": {
            "_model_module": "@jupyter-widgets/base",
            "_model_module_version": "1.2.0",
            "_model_name": "LayoutModel",
            "_view_count": null,
            "_view_module": "@jupyter-widgets/base",
            "_view_module_version": "1.2.0",
            "_view_name": "LayoutView",
            "align_content": null,
            "align_items": null,
            "align_self": null,
            "border": null,
            "bottom": null,
            "display": null,
            "flex": null,
            "flex_flow": null,
            "grid_area": null,
            "grid_auto_columns": null,
            "grid_auto_flow": null,
            "grid_auto_rows": null,
            "grid_column": null,
            "grid_gap": null,
            "grid_row": null,
            "grid_template_areas": null,
            "grid_template_columns": null,
            "grid_template_rows": null,
            "height": null,
            "justify_content": null,
            "justify_items": null,
            "left": null,
            "margin": null,
            "max_height": null,
            "max_width": null,
            "min_height": null,
            "min_width": null,
            "object_fit": null,
            "object_position": null,
            "order": null,
            "overflow": null,
            "overflow_x": null,
            "overflow_y": null,
            "padding": null,
            "right": null,
            "top": null,
            "visibility": null,
            "width": null
          }
        },
        "cd74b6efde5545c3a65e0461c278cddb": {
          "model_module": "@jupyter-widgets/controls",
          "model_name": "DescriptionStyleModel",
          "model_module_version": "1.5.0",
          "state": {
            "_model_module": "@jupyter-widgets/controls",
            "_model_module_version": "1.5.0",
            "_model_name": "DescriptionStyleModel",
            "_view_count": null,
            "_view_module": "@jupyter-widgets/base",
            "_view_module_version": "1.2.0",
            "_view_name": "StyleView",
            "description_width": ""
          }
        },
        "2eaa6a86d7ce4f5a8138c86136f4c1e2": {
          "model_module": "@jupyter-widgets/controls",
          "model_name": "TextModel",
          "model_module_version": "1.5.0",
          "state": {
            "_dom_classes": [],
            "_model_module": "@jupyter-widgets/controls",
            "_model_module_version": "1.5.0",
            "_model_name": "TextModel",
            "_view_count": null,
            "_view_module": "@jupyter-widgets/controls",
            "_view_module_version": "1.5.0",
            "_view_name": "TextView",
            "continuous_update": true,
            "description": "Prefix:",
            "description_tooltip": null,
            "disabled": false,
            "layout": "IPY_MODEL_1036cf8a19404bf1b0c91fbe4d2f582b",
            "placeholder": "Enter a prefix",
            "style": "IPY_MODEL_1b9be8568fa84e3a96bd9f06e5c291dc",
            "value": "fear damage"
          }
        },
        "1036cf8a19404bf1b0c91fbe4d2f582b": {
          "model_module": "@jupyter-widgets/base",
          "model_name": "LayoutModel",
          "model_module_version": "1.2.0",
          "state": {
            "_model_module": "@jupyter-widgets/base",
            "_model_module_version": "1.2.0",
            "_model_name": "LayoutModel",
            "_view_count": null,
            "_view_module": "@jupyter-widgets/base",
            "_view_module_version": "1.2.0",
            "_view_name": "LayoutView",
            "align_content": null,
            "align_items": null,
            "align_self": null,
            "border": null,
            "bottom": null,
            "display": null,
            "flex": null,
            "flex_flow": null,
            "grid_area": null,
            "grid_auto_columns": null,
            "grid_auto_flow": null,
            "grid_auto_rows": null,
            "grid_column": null,
            "grid_gap": null,
            "grid_row": null,
            "grid_template_areas": null,
            "grid_template_columns": null,
            "grid_template_rows": null,
            "height": null,
            "justify_content": null,
            "justify_items": null,
            "left": null,
            "margin": null,
            "max_height": null,
            "max_width": null,
            "min_height": null,
            "min_width": null,
            "object_fit": null,
            "object_position": null,
            "order": null,
            "overflow": null,
            "overflow_x": null,
            "overflow_y": null,
            "padding": null,
            "right": null,
            "top": null,
            "visibility": null,
            "width": null
          }
        },
        "1b9be8568fa84e3a96bd9f06e5c291dc": {
          "model_module": "@jupyter-widgets/controls",
          "model_name": "DescriptionStyleModel",
          "model_module_version": "1.5.0",
          "state": {
            "_model_module": "@jupyter-widgets/controls",
            "_model_module_version": "1.5.0",
            "_model_name": "DescriptionStyleModel",
            "_view_count": null,
            "_view_module": "@jupyter-widgets/base",
            "_view_module_version": "1.2.0",
            "_view_name": "StyleView",
            "description_width": ""
          }
        },
        "b764df9891984e41b7cee800138d0bff": {
          "model_module": "@jupyter-widgets/controls",
          "model_name": "IntSliderModel",
          "model_module_version": "1.5.0",
          "state": {
            "_dom_classes": [],
            "_model_module": "@jupyter-widgets/controls",
            "_model_module_version": "1.5.0",
            "_model_name": "IntSliderModel",
            "_view_count": null,
            "_view_module": "@jupyter-widgets/controls",
            "_view_module_version": "1.5.0",
            "_view_name": "IntSliderView",
            "continuous_update": false,
            "description": "Max Length:",
            "description_tooltip": null,
            "disabled": false,
            "layout": "IPY_MODEL_42b9e33e38664690b44cae70b20c535e",
            "max": 100,
            "min": 1,
            "orientation": "horizontal",
            "readout": true,
            "readout_format": "d",
            "step": 1,
            "style": "IPY_MODEL_54e9b2ddb16f4cff96f575417e5eb4bc",
            "value": 10
          }
        },
        "42b9e33e38664690b44cae70b20c535e": {
          "model_module": "@jupyter-widgets/base",
          "model_name": "LayoutModel",
          "model_module_version": "1.2.0",
          "state": {
            "_model_module": "@jupyter-widgets/base",
            "_model_module_version": "1.2.0",
            "_model_name": "LayoutModel",
            "_view_count": null,
            "_view_module": "@jupyter-widgets/base",
            "_view_module_version": "1.2.0",
            "_view_name": "LayoutView",
            "align_content": null,
            "align_items": null,
            "align_self": null,
            "border": null,
            "bottom": null,
            "display": null,
            "flex": null,
            "flex_flow": null,
            "grid_area": null,
            "grid_auto_columns": null,
            "grid_auto_flow": null,
            "grid_auto_rows": null,
            "grid_column": null,
            "grid_gap": null,
            "grid_row": null,
            "grid_template_areas": null,
            "grid_template_columns": null,
            "grid_template_rows": null,
            "height": null,
            "justify_content": null,
            "justify_items": null,
            "left": null,
            "margin": null,
            "max_height": null,
            "max_width": null,
            "min_height": null,
            "min_width": null,
            "object_fit": null,
            "object_position": null,
            "order": null,
            "overflow": null,
            "overflow_x": null,
            "overflow_y": null,
            "padding": null,
            "right": null,
            "top": null,
            "visibility": null,
            "width": null
          }
        },
        "54e9b2ddb16f4cff96f575417e5eb4bc": {
          "model_module": "@jupyter-widgets/controls",
          "model_name": "SliderStyleModel",
          "model_module_version": "1.5.0",
          "state": {
            "_model_module": "@jupyter-widgets/controls",
            "_model_module_version": "1.5.0",
            "_model_name": "SliderStyleModel",
            "_view_count": null,
            "_view_module": "@jupyter-widgets/base",
            "_view_module_version": "1.2.0",
            "_view_name": "StyleView",
            "description_width": "",
            "handle_color": null
          }
        },
        "9be839a5931f452898373fd136147be1": {
          "model_module": "@jupyter-widgets/controls",
          "model_name": "ButtonModel",
          "model_module_version": "1.5.0",
          "state": {
            "_dom_classes": [],
            "_model_module": "@jupyter-widgets/controls",
            "_model_module_version": "1.5.0",
            "_model_name": "ButtonModel",
            "_view_count": null,
            "_view_module": "@jupyter-widgets/controls",
            "_view_module_version": "1.5.0",
            "_view_name": "ButtonView",
            "button_style": "",
            "description": "Submit",
            "disabled": false,
            "icon": "",
            "layout": "IPY_MODEL_5b989b8019cd4a7e8fe39c030778bd8d",
            "style": "IPY_MODEL_d1a7eab5e0ce49679392039273639743",
            "tooltip": "Click to generate text"
          }
        },
        "5b989b8019cd4a7e8fe39c030778bd8d": {
          "model_module": "@jupyter-widgets/base",
          "model_name": "LayoutModel",
          "model_module_version": "1.2.0",
          "state": {
            "_model_module": "@jupyter-widgets/base",
            "_model_module_version": "1.2.0",
            "_model_name": "LayoutModel",
            "_view_count": null,
            "_view_module": "@jupyter-widgets/base",
            "_view_module_version": "1.2.0",
            "_view_name": "LayoutView",
            "align_content": null,
            "align_items": null,
            "align_self": null,
            "border": null,
            "bottom": null,
            "display": null,
            "flex": null,
            "flex_flow": null,
            "grid_area": null,
            "grid_auto_columns": null,
            "grid_auto_flow": null,
            "grid_auto_rows": null,
            "grid_column": null,
            "grid_gap": null,
            "grid_row": null,
            "grid_template_areas": null,
            "grid_template_columns": null,
            "grid_template_rows": null,
            "height": null,
            "justify_content": null,
            "justify_items": null,
            "left": null,
            "margin": null,
            "max_height": null,
            "max_width": null,
            "min_height": null,
            "min_width": null,
            "object_fit": null,
            "object_position": null,
            "order": null,
            "overflow": null,
            "overflow_x": null,
            "overflow_y": null,
            "padding": null,
            "right": null,
            "top": null,
            "visibility": null,
            "width": null
          }
        },
        "d1a7eab5e0ce49679392039273639743": {
          "model_module": "@jupyter-widgets/controls",
          "model_name": "ButtonStyleModel",
          "model_module_version": "1.5.0",
          "state": {
            "_model_module": "@jupyter-widgets/controls",
            "_model_module_version": "1.5.0",
            "_model_name": "ButtonStyleModel",
            "_view_count": null,
            "_view_module": "@jupyter-widgets/base",
            "_view_module_version": "1.2.0",
            "_view_name": "StyleView",
            "button_color": null,
            "font_weight": ""
          }
        },
        "b9694746c2c646b39492ea92ab390feb": {
          "model_module": "@jupyter-widgets/output",
          "model_name": "OutputModel",
          "model_module_version": "1.0.0",
          "state": {
            "_dom_classes": [],
            "_model_module": "@jupyter-widgets/output",
            "_model_module_version": "1.0.0",
            "_model_name": "OutputModel",
            "_view_count": null,
            "_view_module": "@jupyter-widgets/output",
            "_view_module_version": "1.0.0",
            "_view_name": "OutputView",
            "layout": "IPY_MODEL_62064f4102b44dc5b156f1e40b430ac3",
            "msg_id": "",
            "outputs": [
              {
                "output_type": "stream",
                "name": "stdout",
                "text": [
                  "Predicted next word: punte, Probability: 0.00000000\n",
                  "Predicted next word: punte, Probability: 0.00000000\n"
                ]
              },
              {
                "output_type": "stream",
                "name": "stdout",
                "text": [
                  "Predicted next word: punte, Probability: 0.00000000\n",
                  "Predicted next word: punte, Probability: 0.00000000\n",
                  "Predicted next word: punte, Probability: 0.00000000\n"
                ]
              },
              {
                "output_type": "stream",
                "name": "stdout",
                "text": [
                  "Predicted next word: punte, Probability: 0.00000000\n",
                  "Predicted next word: punte, Probability: 0.00000000\n",
                  "Predicted next word: punte, Probability: 0.00000000\n",
                  "Completions for 'fear damage' up to length 10:\n",
                  "fear damage punte punte punte punte punte punte punte punte\n"
                ]
              }
            ]
          }
        },
        "62064f4102b44dc5b156f1e40b430ac3": {
          "model_module": "@jupyter-widgets/base",
          "model_name": "LayoutModel",
          "model_module_version": "1.2.0",
          "state": {
            "_model_module": "@jupyter-widgets/base",
            "_model_module_version": "1.2.0",
            "_model_name": "LayoutModel",
            "_view_count": null,
            "_view_module": "@jupyter-widgets/base",
            "_view_module_version": "1.2.0",
            "_view_name": "LayoutView",
            "align_content": null,
            "align_items": null,
            "align_self": null,
            "border": null,
            "bottom": null,
            "display": null,
            "flex": null,
            "flex_flow": null,
            "grid_area": null,
            "grid_auto_columns": null,
            "grid_auto_flow": null,
            "grid_auto_rows": null,
            "grid_column": null,
            "grid_gap": null,
            "grid_row": null,
            "grid_template_areas": null,
            "grid_template_columns": null,
            "grid_template_rows": null,
            "height": null,
            "justify_content": null,
            "justify_items": null,
            "left": null,
            "margin": null,
            "max_height": null,
            "max_width": null,
            "min_height": null,
            "min_width": null,
            "object_fit": null,
            "object_position": null,
            "order": null,
            "overflow": null,
            "overflow_x": null,
            "overflow_y": null,
            "padding": null,
            "right": null,
            "top": null,
            "visibility": null,
            "width": null
          }
        }
      }
    }
  },
  "cells": [
    {
      "cell_type": "markdown",
      "source": [
        "## Author: Yuqing Qiao\n",
        "## Date: 05/24/2024"
      ],
      "metadata": {
        "id": "-y1j1uSc0MhP"
      }
    },
    {
      "cell_type": "markdown",
      "source": [
        "## Data collection and preprocessing"
      ],
      "metadata": {
        "id": "2g3Qvu31vk3N"
      }
    },
    {
      "cell_type": "markdown",
      "source": [
        "### prepare dataset NLTK reuters"
      ],
      "metadata": {
        "id": "Yo10up3TwexT"
      }
    },
    {
      "cell_type": "code",
      "source": [
        "import nltk\n",
        "nltk.download('reuters')\n",
        "nltk.download('gutenberg')\n",
        "from nltk.corpus import reuters,gutenberg"
      ],
      "metadata": {
        "colab": {
          "base_uri": "https://localhost:8080/"
        },
        "id": "LJLvo1UwwAO4",
        "outputId": "2510b17c-b50f-4809-f0b7-db18501d31a4"
      },
      "execution_count": 2,
      "outputs": [
        {
          "output_type": "stream",
          "name": "stderr",
          "text": [
            "[nltk_data] Downloading package reuters to /root/nltk_data...\n",
            "[nltk_data] Downloading package gutenberg to /root/nltk_data...\n",
            "[nltk_data]   Unzipping corpora/gutenberg.zip.\n"
          ]
        }
      ]
    },
    {
      "cell_type": "code",
      "source": [
        "document_ids = reuters.fileids()[:5]\n",
        "print(document_ids)\n"
      ],
      "metadata": {
        "colab": {
          "base_uri": "https://localhost:8080/"
        },
        "id": "1bU0Uj5Fwua7",
        "outputId": "87673ce1-62a4-4aaa-c6fa-7b182a85750b"
      },
      "execution_count": 3,
      "outputs": [
        {
          "output_type": "stream",
          "name": "stdout",
          "text": [
            "['test/14826', 'test/14828', 'test/14829', 'test/14832', 'test/14833']\n"
          ]
        }
      ]
    },
    {
      "cell_type": "code",
      "source": [
        "guten_document_ids = gutenberg.fileids()[-1]\n",
        "print(\"guten: \",guten_document_ids)\n"
      ],
      "metadata": {
        "colab": {
          "base_uri": "https://localhost:8080/"
        },
        "id": "bJr8Mu4NBDfE",
        "outputId": "86c5b757-ffdf-4bb6-b77c-c8972ac83651"
      },
      "execution_count": 4,
      "outputs": [
        {
          "output_type": "stream",
          "name": "stdout",
          "text": [
            "guten:  whitman-leaves.txt\n"
          ]
        }
      ]
    },
    {
      "cell_type": "code",
      "source": [
        "# document_id = 'test/14930'\n",
        "# words = reuters.words(document_id)\n",
        "# document = \" \".join(words)\n",
        "\n",
        "documents = [\" \".join(reuters.words(id)) for id in document_ids]"
      ],
      "metadata": {
        "id": "op7jVmOnY4c7"
      },
      "execution_count": 5,
      "outputs": []
    },
    {
      "cell_type": "code",
      "source": [
        "documents[0][:200]"
      ],
      "metadata": {
        "colab": {
          "base_uri": "https://localhost:8080/",
          "height": 53
        },
        "id": "BtfUVBHn1IjU",
        "outputId": "16f4a69e-9c9d-4b38-f5b5-2badbf1f2bbf"
      },
      "execution_count": 82,
      "outputs": [
        {
          "output_type": "execute_result",
          "data": {
            "text/plain": [
              "\"ASIAN EXPORTERS FEAR DAMAGE FROM U . S .- JAPAN RIFT Mounting trade friction between the U . S . And Japan has raised fears among many of Asia ' s exporting nations that the row could inflict far - re\""
            ],
            "application/vnd.google.colaboratory.intrinsic+json": {
              "type": "string"
            }
          },
          "metadata": {},
          "execution_count": 82
        }
      ]
    },
    {
      "cell_type": "code",
      "source": [
        "from nltk.tokenize import word_tokenize\n",
        "from nltk.corpus import stopwords\n",
        "from nltk.stem import PorterStemmer, WordNetLemmatizer\n",
        "\n",
        "nltk.download('stopwords')\n",
        "nltk.download('wordnet')\n",
        "nltk.download('punkt')\n",
        "\n",
        "lem = nltk.WordNetLemmatizer()\n",
        "stop_words = set(stopwords.words('english'))\n"
      ],
      "metadata": {
        "id": "bOdAxfiXa_eT",
        "colab": {
          "base_uri": "https://localhost:8080/"
        },
        "outputId": "7c5c0b97-fadb-41d2-a618-0b5bec00d1a8"
      },
      "execution_count": 6,
      "outputs": [
        {
          "output_type": "stream",
          "name": "stderr",
          "text": [
            "[nltk_data] Downloading package stopwords to /root/nltk_data...\n",
            "[nltk_data]   Unzipping corpora/stopwords.zip.\n",
            "[nltk_data] Downloading package wordnet to /root/nltk_data...\n",
            "[nltk_data] Downloading package punkt to /root/nltk_data...\n",
            "[nltk_data]   Unzipping tokenizers/punkt.zip.\n"
          ]
        }
      ]
    },
    {
      "cell_type": "markdown",
      "source": [
        "### clean and preprocess the data"
      ],
      "metadata": {
        "id": "NsWAha8tZXuw"
      }
    },
    {
      "cell_type": "code",
      "source": [
        "import re\n",
        "import string\n",
        "\n",
        "def clean_text(text):\n",
        "    \"\"\" removing stopwords lemmatize and non-alphabetic tokens.\"\"\"\n",
        "    text = text.lower()\n",
        "    text = re.sub(r\"http\\S+\", \"\", text)\n",
        "    text = re.sub(r\"www.\\S+\", \"\", text)\n",
        "    text = re.sub(r'[^a-zA-Z\\s]', '', text)   # Remove non-alphanumeric characters\n",
        "\n",
        "    text_punct_removed = \"\".join([char for char in text if char not in string.punctuation])\n",
        "\n",
        "    tokens = word_tokenize(text_punct_removed)\n",
        "    tokens = [word for word in tokens if word not in stop_words]\n",
        "\n",
        "    tokens = [lem.lemmatize(word) for word in tokens]\n",
        "\n",
        "    return tokens\n"
      ],
      "metadata": {
        "id": "KJH4sD81Zdgb"
      },
      "execution_count": 7,
      "outputs": []
    },
    {
      "cell_type": "code",
      "source": [
        "cleaned = [clean_text(doc) for doc in documents]\n",
        "cleaned[0][:5]"
      ],
      "metadata": {
        "id": "-fVPpHVtcx6J",
        "colab": {
          "base_uri": "https://localhost:8080/"
        },
        "outputId": "be21f7e8-3cc0-474a-8b67-6ae14085b439"
      },
      "execution_count": 8,
      "outputs": [
        {
          "output_type": "execute_result",
          "data": {
            "text/plain": [
              "['asian', 'exporter', 'fear', 'damage', 'u']"
            ]
          },
          "metadata": {},
          "execution_count": 8
        }
      ]
    },
    {
      "cell_type": "markdown",
      "source": [
        "### Model implementation\n",
        "\n"
      ],
      "metadata": {
        "id": "926GSTES0XYY"
      }
    },
    {
      "cell_type": "code",
      "source": [
        "from collections import defaultdict, Counter\n",
        "\n",
        "class NgramModel:\n",
        "    def __init__(self, documents, n) -> None:\n",
        "        self.n = n\n",
        "        self.tokens = clean_text(\" \".join(documents))\n",
        "        self.vocab_size = len(set(self.tokens))\n",
        "        self.ngram_freq = self.generate_ngrams(self.tokens,n)\n",
        "        self.n_1_gram_freq = self.generate_ngrams(self.tokens, n-1)\n",
        "        self.prob_cache={}\n",
        "\n",
        "    def generate_ngrams(self, tokens, n):\n",
        "        \"\"\"\n",
        "        2.a\n",
        "        Create n-grams from the tokenized text and calculate their frequencies in the\n",
        "        dataset\n",
        "        \"\"\"\n",
        "        ngrams = [\" \".join(tokens[i:i+n]) for i in range(len(tokens)-n+1)]\n",
        "        return Counter(ngrams);\n",
        "\n",
        "    def prob(self, prefix, word):\n",
        "        \"\"\"\n",
        "        2.b 2.e\n",
        "        alculate the probability of a word following a given (n − 1)-\n",
        "        gram.\n",
        "        \"\"\"\n",
        "        if(prefix,word) in self.prob_cache:\n",
        "            return self.prob_cache[(prefix,word)]\n",
        "\n",
        "        ngram = prefix + \" \" + word\n",
        "        ngram_count = self.ngram_freq.get(ngram, 0)\n",
        "        previous_n_1_gram_count = self.n_1_gram_freq.get(prefix, 0)\n",
        "\n",
        "        if previous_n_1_gram_count == 0:\n",
        "            return 0\n",
        "        else:\n",
        "            probability = (ngram_count+1) / (previous_n_1_gram_count + self.vocab_size) # smoothing\n",
        "\n",
        "        self.prob_cache[(prefix,word)] = probability\n",
        "\n",
        "        return probability\n",
        "\n",
        "\n",
        "    def predict_next_word(self, prefix):\n",
        "        \"\"\"\n",
        "        2.c\n",
        "        Predict the next word given a sequence of words based on these\n",
        "        probabilities.\n",
        "\n",
        "        \"\"\"\n",
        "        probabilities = {word: self.prob(prefix,word) for word in set(self.tokens)}\n",
        "        next_word = max(probabilities, key = probabilities.get)\n",
        "\n",
        "        print(f\"Predicted next word: {next_word}, Probability: {probabilities[next_word]:.8f}\")\n",
        "\n",
        "        return next_word\n",
        "\n",
        "\n",
        "    def generate_sequence(self, prefix, length):\n",
        "        \"\"\"\n",
        "        2.d\n",
        "        function to generate a sentence of a specified length given a prefix of (n−1)\n",
        "        words.\n",
        "        \"\"\"\n",
        "        prefix_tokens = clean_text(prefix)\n",
        "        if length <= len(prefix_tokens):\n",
        "            raise ValueError(\"Length is shorter than prefix length.\")\n",
        "\n",
        "        for _ in range(length - len(prefix_tokens)):\n",
        "            next_word = self.predict_next_word(\" \".join(prefix_tokens[-(self.n - 1):]))\n",
        "            prefix_tokens.append(next_word)\n",
        "\n",
        "        return \" \".join(prefix_tokens)\n",
        ""
      ],
      "metadata": {
        "id": "WPaC-nqfclwD"
      },
      "execution_count": 18,
      "outputs": []
    },
    {
      "cell_type": "markdown",
      "source": [
        "### Testing and evaluation"
      ],
      "metadata": {
        "id": "zgDrUgJEyxoV"
      }
    },
    {
      "cell_type": "code",
      "source": [
        "\"\"\"\n",
        "3.a test the model by inputting various (n − 1)-gram sequences and evaluating its\n",
        "ability to generate text.\n",
        "\"\"\"\n",
        "\n",
        "prefix = \"asian exporter fear\"\n",
        "train_documents = [\" \".join(reuters.words(id)) for id in reuters.fileids()[:-1]]\n",
        "\n",
        "#load ngram model\n",
        "model = NgramModel(documents=train_documents,n=3)\n",
        "\n",
        "generated = model.generate_sequence(prefix,10)\n",
        "\n",
        "print(\"\\n\\ngenerated sentence: \", generated)\n"
      ],
      "metadata": {
        "id": "5aUZCSMx3d5F",
        "colab": {
          "base_uri": "https://localhost:8080/"
        },
        "outputId": "d287df60-ce31-4bf3-d687-a81f134e8003"
      },
      "execution_count": 10,
      "outputs": [
        {
          "output_type": "stream",
          "name": "stdout",
          "text": [
            "Predicted next word: damage, Probability: 7.515406583496167e-05\n",
            "Predicted next word: u, Probability: 7.51597143930853e-05\n",
            "Predicted next word: raid, Probability: 7.515406583496167e-05\n",
            "Predicted next word: coming, Probability: 7.514559458951719e-05\n",
            "Predicted next word: day, Probability: 7.51597143930853e-05\n",
            "Predicted next word: scepticism, Probability: 0.0001127141568981064\n",
            "Predicted next word: mount, Probability: 0.00011273533501183721\n",
            "\n",
            "\n",
            "generated sentence:  asian exporter fear damage u raid coming day scepticism mount\n"
          ]
        }
      ]
    },
    {
      "cell_type": "code",
      "source": [
        "# Get the top K elements\n",
        "k=10\n",
        "top_k = model.ngram_freq.most_common(k)\n",
        "\n",
        "# Print the top K elements\n",
        "print(f\"Top {k} elements:\")\n",
        "for element, count in top_k:\n",
        "    print(f\"{element}: {count}\")"
      ],
      "metadata": {
        "colab": {
          "base_uri": "https://localhost:8080/"
        },
        "id": "N0z7ijv5G_zf",
        "outputId": "675f1892-b3da-4c5f-c80b-37db7ef64542"
      },
      "execution_count": 10,
      "outputs": [
        {
          "output_type": "stream",
          "name": "stdout",
          "text": [
            "Top 10 elements:\n",
            "mln v mln: 3403\n",
            "ct v ct: 1784\n",
            "rev mln v: 1583\n",
            "shr ct v: 1447\n",
            "v ct net: 1168\n",
            "ct net v: 1097\n",
            "net v rev: 935\n",
            "v rev mln: 752\n",
            "v mln note: 750\n",
            "ct v loss: 699\n"
          ]
        }
      ]
    },
    {
      "cell_type": "markdown",
      "source": [
        "### perplexity of the model"
      ],
      "metadata": {
        "id": "t3PNJbTfuzfy"
      }
    },
    {
      "cell_type": "code",
      "source": [
        "import math\n",
        "from tqdm.auto import tqdm\n",
        "\n",
        "def compute_perplexity(model, test_documents):\n",
        "    \"\"\"\n",
        "    Compute the perplexity of the NgramModel on a list of test documents.\n",
        "\n",
        "    :param model: An instance of NgramModel\n",
        "    :param test_documents: A list of test documents (each document is a string)\n",
        "    :return: The perplexity of the model on the test set\n",
        "    \"\"\"\n",
        "    log_prob_sum = 0\n",
        "    N = 0  # Total number of words in the test set\n",
        "    log_cache = {}\n",
        "\n",
        "    def get_log_prob(prob):\n",
        "        if prob not in log_cache:\n",
        "            log_cache[prob] = math.log(prob)\n",
        "        return log_cache[prob]\n",
        "\n",
        "    for document in tqdm(test_documents,desc=\"Processing Documents\",leave=True):\n",
        "        tokens = clean_text(document)\n",
        "        N += len(tokens)\n",
        "\n",
        "        for i in range(len(tokens) - model.n + 1):\n",
        "            prefix = tuple(tokens[i:i + model.n - 1])\n",
        "            word = tokens[i + model.n - 1]\n",
        "            probability = model.prob(\" \".join(prefix), word)\n",
        "            if probability > 0:\n",
        "                log_prob_sum += get_log_prob(probability)\n",
        "            else:\n",
        "                # Handling the case where the model assigns 0 probability\n",
        "                log_prob_sum += get_log_prob(1e-12)\n",
        "\n",
        "    # Calculate the average negative log probability\n",
        "    avg_neg_log_prob = -log_prob_sum / N\n",
        "\n",
        "    # Compute the perplexity\n",
        "    perplexity = math.exp(avg_neg_log_prob)\n",
        "\n",
        "    return perplexity\n"
      ],
      "metadata": {
        "id": "WU_XFu7965-b"
      },
      "execution_count": 11,
      "outputs": []
    },
    {
      "cell_type": "markdown",
      "source": [
        "### Prepare train test split dataset"
      ],
      "metadata": {
        "id": "N4jBbcW-Tk6f"
      }
    },
    {
      "cell_type": "code",
      "source": [
        "import random\n",
        "# Prepare the documents\n",
        "documents = [\" \".join(reuters.words(fileid)) for fileid in reuters.fileids()]\n",
        "\n",
        "# Shuffle the documents\n",
        "random.shuffle(documents)\n",
        "\n",
        "# Split into train and test sets\n",
        "split_index = int(len(documents) * 0.9)  # 80-20 split\n",
        "train_documents = documents[:split_index]\n",
        "test_documents = documents[split_index:]\n",
        "\n",
        "# Print the number of documents in each set to verify\n",
        "print(f\"Number of training documents: {len(train_documents)}\")\n",
        "print(f\"Number of test documents: {len(test_documents)}\")"
      ],
      "metadata": {
        "colab": {
          "base_uri": "https://localhost:8080/"
        },
        "id": "mSN44GrP7yZT",
        "outputId": "829361c1-f166-4123-a01d-e3480bf480de"
      },
      "execution_count": 11,
      "outputs": [
        {
          "output_type": "stream",
          "name": "stdout",
          "text": [
            "Number of training documents: 9709\n",
            "Number of test documents: 1079\n"
          ]
        }
      ]
    },
    {
      "cell_type": "code",
      "source": [
        "# bigram perplexity\n",
        "bigram_model = NgramModel(train_documents,n=2)\n",
        "perplexity = compute_perplexity(bigram_model, test_documents)\n",
        "\n",
        "print(\"\\n\")\n",
        "print(\"Perplexity: \", perplexity)\n"
      ],
      "metadata": {
        "colab": {
          "base_uri": "https://localhost:8080/",
          "height": 101,
          "referenced_widgets": [
            "8ab333c5b3b84585a2c7b9ab8a61a5cb",
            "d2d77e3279834b82a19eb3ae72ada201",
            "55c6e8e01d004e11abc9c90938f0e0de",
            "b7fa093da7864247bfe34da39a4aba1d",
            "6dc3c55ee90d48a99a8c2cfd3fb86747",
            "a4120771b9574d8eb9a748ae49f71c51",
            "c491c42e054545bda152501ab8cc7caa",
            "69d0afc6b81c45938a170468ada7f25f",
            "58c9c78225ee47d6b51dcd4be9e7b35e",
            "5879488fec3c46bfa3aa69404f1c95ec",
            "62dbc252cbaa44fbbd7d5c00f1abf047"
          ]
        },
        "id": "xejWOsYg_3ft",
        "outputId": "f9e9b11e-6625-4222-ff32-a0edc48a1280"
      },
      "execution_count": 13,
      "outputs": [
        {
          "output_type": "display_data",
          "data": {
            "text/plain": [
              "Processing Documents:   0%|          | 0/1079 [00:00<?, ?it/s]"
            ],
            "application/vnd.jupyter.widget-view+json": {
              "version_major": 2,
              "version_minor": 0,
              "model_id": "8ab333c5b3b84585a2c7b9ab8a61a5cb"
            }
          },
          "metadata": {}
        },
        {
          "output_type": "stream",
          "name": "stdout",
          "text": [
            "\n",
            "\n",
            "Perplexity:  5091.799498544866\n"
          ]
        }
      ]
    },
    {
      "cell_type": "code",
      "source": [
        "tri_gram_model = NgramModel(train_documents,n=3)\n",
        "tri_gram_perplexity = compute_perplexity(model, test_documents)\n",
        "\n",
        "print(\"\\n\\nPerplexity: \", tri_gram_perplexity)\n"
      ],
      "metadata": {
        "colab": {
          "base_uri": "https://localhost:8080/",
          "height": 133,
          "referenced_widgets": [
            "9dee23ac4855479bbf1736f94eaaad84",
            "3fb410e116a64eb69c4368ba51a9d185",
            "070c39605e7f4417851c08e99e5b6b82",
            "e74248c7011244f6ac4a4b594342ab29",
            "54fb99ff9bcc4acb9f73ae0b631decfa",
            "c9a0a9a6df4f45158dbfc88f98ff1ad3",
            "ad3663651a164a6c8aca1e42361258f6",
            "461912ac2caf4b74a1b55f85ef7360c0",
            "c65f560954d34d1cbc972246d7e9f1bf",
            "0f83c881434e453895feafc2cce1aa5b",
            "fa125f49bf6d4e6d89db529d089c81f9",
            "59dfa9d9c29d407ca564684a98e71e19",
            "494b61abae1140de8dca715f07a7e61b",
            "58ab6298e28141d7a1ba7449cc3d6817",
            "e934b94e59ad4e0e9e73e6b21963afb0",
            "d661c34d2f354759932ac72b8b367ec0",
            "b0a151d4e4f04b8bbfc8d9f6ca755c49",
            "fe8a127f76d84e0185916b8e4b61d9e9",
            "5007217c87fe4d33907a6ab0c9c561e1",
            "5920e7db8097494298d2f4151c5be94c",
            "0a8ee186d8304f18826917b8da12218b",
            "cd74b6efde5545c3a65e0461c278cddb"
          ]
        },
        "id": "D_DXv9A-Sqrd",
        "outputId": "d678a8b3-8064-4953-dc0b-727e38b7c2ab"
      },
      "execution_count": 68,
      "outputs": [
        {
          "output_type": "display_data",
          "data": {
            "text/plain": [
              "Processing Documents:   0%|          | 0/1 [00:00<?, ?it/s]"
            ],
            "application/vnd.jupyter.widget-view+json": {
              "version_major": 2,
              "version_minor": 0,
              "model_id": "9dee23ac4855479bbf1736f94eaaad84"
            }
          },
          "metadata": {}
        },
        {
          "output_type": "display_data",
          "data": {
            "text/plain": [
              "Processing Tokens:   0%|          | 0/65028 [00:00<?, ?it/s]"
            ],
            "application/vnd.jupyter.widget-view+json": {
              "version_major": 2,
              "version_minor": 0,
              "model_id": "59dfa9d9c29d407ca564684a98e71e19"
            }
          },
          "metadata": {}
        },
        {
          "output_type": "stream",
          "name": "stdout",
          "text": [
            "\n",
            "\n",
            "Perplexity:  13937.094770407739\n"
          ]
        }
      ]
    },
    {
      "cell_type": "markdown",
      "source": [
        "### Perplexities for different ngram model size"
      ],
      "metadata": {
        "id": "-mbAoTlMTD7C"
      }
    },
    {
      "cell_type": "code",
      "source": [
        "# Compute perplexity for different n\n",
        "\n",
        "import multiprocessing\n",
        "from tqdm.auto import tqdm\n",
        "\n",
        "def compute_ngram_perplexity(n):\n",
        "    ngram_model = NgramModel(train_documents, n=n)\n",
        "    perplexity = compute_perplexity(ngram_model, test_documents)\n",
        "    return perplexity\n",
        "\n",
        "\n",
        "step_n = 1\n",
        "steps = list(range(2, 30, step_n))  # n values from 2 to 29\n",
        "num_processes = multiprocessing.cpu_count()  # Use all available CPUs\n",
        "\n",
        "with multiprocessing.Pool(num_processes) as pool:\n",
        "    results = list(tqdm(pool.imap(compute_ngram_perplexity, steps), total=len(steps), desc=\"process ngram models perplexities\", leave=True))\n",
        "\n",
        "perplexities = results\n",
        "print(perplexities)\n"
      ],
      "metadata": {
        "colab": {
          "base_uri": "https://localhost:8080/"
        },
        "id": "dl_LYpEtPyO8",
        "outputId": "7c1bd209-1346-491a-83bf-68caabed4ff3"
      },
      "execution_count": 18,
      "outputs": [
        {
          "output_type": "stream",
          "name": "stderr",
          "text": [
            "Processing Documents: 100%|██████████| 1079/1079 [00:02<00:00, 424.65it/s]\n",
            "Processing Documents: 100%|██████████| 1079/1079 [00:02<00:00, 421.95it/s]\n",
            "Processing Documents: 100%|██████████| 1079/1079 [00:04<00:00, 253.67it/s]\n",
            "Processing Documents: 100%|██████████| 1079/1079 [00:03<00:00, 286.57it/s]\n",
            "Processing Documents: 100%|██████████| 1079/1079 [00:02<00:00, 438.36it/s]\n",
            "Processing Documents: 100%|██████████| 1079/1079 [00:02<00:00, 447.00it/s]\n",
            "Processing Documents: 100%|██████████| 1079/1079 [00:03<00:00, 271.06it/s]\n",
            "Processing Documents: 100%|██████████| 1079/1079 [00:04<00:00, 235.96it/s]\n",
            "Processing Documents: 100%|██████████| 1079/1079 [00:02<00:00, 446.66it/s]\n",
            "Processing Documents: 100%|██████████| 1079/1079 [00:02<00:00, 443.72it/s]\n",
            "Processing Documents: 100%|██████████| 1079/1079 [00:04<00:00, 238.76it/s]\n",
            "Processing Documents: 100%|██████████| 1079/1079 [00:04<00:00, 264.82it/s]\n",
            "Processing Documents: 100%|██████████| 1079/1079 [00:02<00:00, 453.40it/s]\n",
            "Processing Documents: 100%|██████████| 1079/1079 [00:02<00:00, 449.58it/s]\n",
            "Processing Documents: 100%|██████████| 1079/1079 [00:04<00:00, 249.47it/s]\n",
            "Processing Documents: 100%|██████████| 1079/1079 [00:02<00:00, 369.70it/s]\n",
            "Processing Documents: 100%|██████████| 1079/1079 [00:02<00:00, 435.79it/s]\n",
            "Processing Documents: 100%|██████████| 1079/1079 [00:02<00:00, 440.96it/s]\n",
            "Processing Documents: 100%|██████████| 1079/1079 [00:04<00:00, 259.47it/s]\n",
            "Processing Documents: 100%|██████████| 1079/1079 [00:02<00:00, 409.48it/s]\n",
            "Processing Documents: 100%|██████████| 1079/1079 [00:02<00:00, 469.67it/s]\n",
            "Processing Documents: 100%|██████████| 1079/1079 [00:02<00:00, 450.12it/s]\n",
            "Processing Documents: 100%|██████████| 1079/1079 [00:03<00:00, 284.72it/s]\n",
            "Processing Documents: 100%|██████████| 1079/1079 [00:02<00:00, 469.48it/s]\n",
            "Processing Documents: 100%|██████████| 1079/1079 [00:03<00:00, 286.94it/s]\n",
            "Processing Documents: 100%|██████████| 1079/1079 [00:04<00:00, 222.41it/s]\n",
            "Processing Documents: 100%|██████████| 1079/1079 [00:04<00:00, 263.57it/s]\n",
            "Processing Documents: 100%|██████████| 1079/1079 [00:02<00:00, 369.16it/s]\n",
            "process ngram models perplexities: 100%|██████████| 28/28 [05:49<00:00, 12.48s/it]"
          ]
        },
        {
          "output_type": "stream",
          "name": "stdout",
          "text": [
            "[5091.799498544866, 3371268.085155201, 629916846.9743656, 3895919544.945528, 6994008138.997976, 8408570468.775749, 8348854922.24991, 7552198457.915665, 6494074871.025835, 5442108411.168067, 4466319034.030815, 3601875000.7799587, 2845225449.087509, 2213538212.556518, 1700888785.997391, 1297555145.873784, 987771929.056117, 752719333.1489354, 575698765.4562482, 441193985.5666247, 339988179.8826727, 261642882.8583962, 201948654.36451164, 155813832.1668155, 120417158.02932407, 92946405.50592889, 71720684.50211473, 55519438.3023575]\n"
          ]
        },
        {
          "output_type": "stream",
          "name": "stderr",
          "text": [
            "\n"
          ]
        }
      ]
    },
    {
      "cell_type": "code",
      "source": [
        "## perplexities preview\n",
        "perplexities[:3]"
      ],
      "metadata": {
        "colab": {
          "base_uri": "https://localhost:8080/"
        },
        "id": "L1K_eEP2R1gT",
        "outputId": "e313eeeb-0970-4eb5-f3cd-6e70cfb37c9a"
      },
      "execution_count": 19,
      "outputs": [
        {
          "output_type": "execute_result",
          "data": {
            "text/plain": [
              "[5091.799498544866, 3371268.085155201, 629916846.9743656]"
            ]
          },
          "metadata": {},
          "execution_count": 19
        }
      ]
    },
    {
      "cell_type": "code",
      "source": [
        "import matplotlib.pyplot as plt\n",
        "# Plot the perplexity graph\n",
        "plt.figure(figsize=(10, 6))\n",
        "plt.plot(steps, perplexities, marker='o')\n",
        "plt.title('Perplexity vs N-gram Size')\n",
        "plt.xlabel('N-gram Size')\n",
        "plt.ylabel('Perplexity')\n",
        "plt.grid(True)\n",
        "plt.show()"
      ],
      "metadata": {
        "colab": {
          "base_uri": "https://localhost:8080/",
          "height": 564
        },
        "id": "L6KgtmCCQQqs",
        "outputId": "2549bcb6-2815-467f-8ddc-90fdb9e0a315"
      },
      "execution_count": 20,
      "outputs": [
        {
          "output_type": "display_data",
          "data": {
            "text/plain": [
              "<Figure size 1000x600 with 1 Axes>"
            ],
            "image/png": "[encoded data removed]"
          },
          "metadata": {}
        }
      ]
    },
    {
      "cell_type": "code",
      "source": [
        "test_documents[0][:100]\n",
        "clean_text(test_documents[0][:200])"
      ],
      "metadata": {
        "id": "QCUyjSwugd-E"
      },
      "execution_count": null,
      "outputs": []
    },
    {
      "cell_type": "markdown",
      "source": [
        "### UI bonus"
      ],
      "metadata": {
        "id": "otbNU54Yc2IT"
      }
    },
    {
      "cell_type": "code",
      "source": [
        "import ipywidgets as widgets\n",
        "from IPython.display import display, clear_output\n",
        "import random\n",
        "\n",
        "model = NgramModel(train_documents, 7)\n",
        "\n",
        "# Example completion function\n",
        "def complete_prefix(prefix, max_length):\n",
        "    return model.generate_sequence(prefix, max_length)\n",
        "\n",
        "# UI Elements\n",
        "prefix_input = widgets.Text(\n",
        "    value='fear damage',\n",
        "    placeholder='Enter a prefix',\n",
        "    description='Prefix:',\n",
        "    disabled=False\n",
        ")\n",
        "\n",
        "length_input = widgets.IntSlider(\n",
        "    value=10,\n",
        "    min=1,\n",
        "    max=100,\n",
        "    step=1,\n",
        "    description='Max Length:',\n",
        "    continuous_update=False,\n",
        "    orientation='horizontal'\n",
        ")\n",
        "\n",
        "submit_button = widgets.Button(\n",
        "    description='Submit',\n",
        "    button_style='', # options are 'success', 'info', 'warning', 'danger' or ''\n",
        "    tooltip='Click to generate text'\n",
        ")\n",
        "\n",
        "output = widgets.Output()\n",
        "\n",
        "def on_button_clicked(b):\n",
        "    with output:\n",
        "        clear_output()\n",
        "        prefix = prefix_input.value\n",
        "        max_length = length_input.value\n",
        "        completion = complete_prefix(prefix, max_length)\n",
        "        print(f\"Completions for '{prefix}' up to length {max_length}:\")\n",
        "        print(completion)\n",
        "\n",
        "# Link the button to the function\n",
        "submit_button.on_click(on_button_clicked)\n",
        "\n",
        "print(\"\\n\")\n",
        "# Display the UI\n",
        "display(prefix_input, length_input, submit_button, output)"
      ],
      "metadata": {
        "colab": {
          "base_uri": "https://localhost:8080/",
          "height": 320,
          "referenced_widgets": [
            "2eaa6a86d7ce4f5a8138c86136f4c1e2",
            "1036cf8a19404bf1b0c91fbe4d2f582b",
            "1b9be8568fa84e3a96bd9f06e5c291dc",
            "b764df9891984e41b7cee800138d0bff",
            "42b9e33e38664690b44cae70b20c535e",
            "54e9b2ddb16f4cff96f575417e5eb4bc",
            "9be839a5931f452898373fd136147be1",
            "5b989b8019cd4a7e8fe39c030778bd8d",
            "d1a7eab5e0ce49679392039273639743",
            "b9694746c2c646b39492ea92ab390feb",
            "62064f4102b44dc5b156f1e40b430ac3"
          ]
        },
        "id": "UjKr_0BiTOjf",
        "outputId": "cc160fc1-2dd2-42fd-cc39-2721f09409d6"
      },
      "execution_count": 23,
      "outputs": [
        {
          "output_type": "stream",
          "name": "stdout",
          "text": [
            "\n",
            "\n"
          ]
        },
        {
          "output_type": "display_data",
          "data": {
            "text/plain": [
              "Text(value='fear damage', description='Prefix:', placeholder='Enter a prefix')"
            ],
            "application/vnd.jupyter.widget-view+json": {
              "version_major": 2,
              "version_minor": 0,
              "model_id": "2eaa6a86d7ce4f5a8138c86136f4c1e2"
            }
          },
          "metadata": {}
        },
        {
          "output_type": "display_data",
          "data": {
            "text/plain": [
              "IntSlider(value=10, continuous_update=False, description='Max Length:', min=1)"
            ],
            "application/vnd.jupyter.widget-view+json": {
              "version_major": 2,
              "version_minor": 0,
              "model_id": "b764df9891984e41b7cee800138d0bff"
            }
          },
          "metadata": {}
        },
        {
          "output_type": "display_data",
          "data": {
            "text/plain": [
              "Button(description='Submit', style=ButtonStyle(), tooltip='Click to generate text')"
            ],
            "application/vnd.jupyter.widget-view+json": {
              "version_major": 2,
              "version_minor": 0,
              "model_id": "9be839a5931f452898373fd136147be1"
            }
          },
          "metadata": {}
        },
        {
          "output_type": "display_data",
          "data": {
            "text/plain": [
              "Output()"
            ],
            "application/vnd.jupyter.widget-view+json": {
              "version_major": 2,
              "version_minor": 0,
              "model_id": "b9694746c2c646b39492ea92ab390feb"
            }
          },
          "metadata": {}
        }
      ]
    },
    {
      "cell_type": "markdown",
      "source": [
        "### ngram freq top k ngrams preview [debug]"
      ],
      "metadata": {
        "id": "TbgqMvhdiPqx"
      }
    },
    {
      "cell_type": "code",
      "source": [
        "model.ngram_freq.most_common(10)"
      ],
      "metadata": {
        "colab": {
          "base_uri": "https://localhost:8080/"
        },
        "id": "yZPB1e4fhrZQ",
        "outputId": "95077f78-b548-4e3b-8853-01f1b013f229"
      },
      "execution_count": 26,
      "outputs": [
        {
          "output_type": "execute_result",
          "data": {
            "text/plain": [
              "[('ct net v rev mln v mln', 415),\n",
              " ('shr ct v ct net v rev', 410),\n",
              " ('v ct net v rev mln v', 391),\n",
              " ('net shr ct v ct net v', 380),\n",
              " ('ct v ct net v rev mln', 378),\n",
              " ('qtr net shr ct v ct net', 253),\n",
              " ('mln v mln avg shrs mln v', 223),\n",
              " ('v mln avg shrs mln v mln', 211),\n",
              " ('shr ct v ct net v sale', 197),\n",
              " ('ct net v sale mln v mln', 195)]"
            ]
          },
          "metadata": {},
          "execution_count": 26
        }
      ]
    }
  ]
}