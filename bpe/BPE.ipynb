{
  "nbformat": 4,
  "nbformat_minor": 0,
  "metadata": {
    "colab": {
      "provenance": []
    },
    "kernelspec": {
      "name": "python3",
      "display_name": "Python 3"
    },
    "language_info": {
      "name": "python"
    }
  },
  "cells": [
    {
      "cell_type": "markdown",
      "source": [
        "##1. Implement BPE Algorithm (4 marks):\n",
        "\n",
        "Develop a Python implementation of the Byte Pair Encoding (BPE) algorithm, covering key\n",
        "steps such as learning byte pair merges and encoding/decoding using the learned merge\n",
        "operations."
      ],
      "metadata": {
        "id": "haqmlp5CsRi-"
      }
    },
    {
      "cell_type": "code",
      "source": [
        "from typing import List, Dict\n",
        "import re\n",
        "import matplotlib.pyplot as plt\n",
        "\n",
        "from collections import defaultdict\n",
        "\n",
        "class BPE():\n",
        "    def __init__(self, debug=False, vocab=set() ):\n",
        "        self.vocab = vocab\n",
        "        # self.bpe_pairs = set()\n",
        "        self.debug = debug\n",
        "\n",
        "    def init_corpus(self, data: List[str]):\n",
        "        \"\"\"\n",
        "        Corpus is dict of char tokens to frequency\n",
        "        \"\"\"\n",
        "        corpus = defaultdict(lambda: 0)\n",
        "        vocab = set()\n",
        "        #end of word symbol\n",
        "        vocab.add('_')\n",
        "\n",
        "        for line in data:\n",
        "            for word in line.split():\n",
        "                corpus[' '.join(list(word)) + ' _'] += 1\n",
        "                vocab.update(list(word))\n",
        "\n",
        "        return corpus,vocab\n",
        "\n",
        "    def isStopChar(self,token:str)->bool:\n",
        "        return bool(re.match('[,.?\"\\'!;:]+',token))\n",
        "\n",
        "    def get_pairs(self, corpus: Dict[str, int]):\n",
        "        pairs = defaultdict(lambda: 0)\n",
        "\n",
        "        for word, freq in corpus.items():\n",
        "            tokens = word.split()\n",
        "\n",
        "            # Pair to frequency, avoiding stop characters\n",
        "            for i in range(len(tokens) - 1):\n",
        "              #  if not (self.isStopChar(tokens[i]) or self.isStopChar(tokens[i+1])):\n",
        "                  pairs[tokens[i], tokens[i + 1]] += freq\n",
        "\n",
        "        return pairs\n",
        "\n",
        "    def merge_corpus(self, pair, corpus):\n",
        "        \"\"\"\n",
        "        merge pair appears in the corpus\n",
        "        \"\"\"\n",
        "\n",
        "        corpus_out = {}\n",
        "        #treat special chars (.*) as normal chars\n",
        "        bigram = re.escape(' '.join(pair))\n",
        "\n",
        "        #find pairs allowing spaces for before or at the end\n",
        "        p = re.compile(r'(?<!\\S)' + bigram + r'(?!\\S)')\n",
        "        for word in corpus:\n",
        "            word_out = p.sub(''.join(pair), word)\n",
        "            corpus_out[word_out] = corpus[word]\n",
        "        return corpus_out\n",
        "\n",
        "\n",
        "    def save_pair(self, pair, vocab):\n",
        "        \"\"\"\n",
        "        Save merged pair\n",
        "        \"\"\"\n",
        "        vocab.add(''.join(pair))\n",
        "        # self.bpe_pairs.add(pair)\n",
        "        return\n",
        "\n",
        "\n",
        "    def byte_pair_encoding(self, data, k):\n",
        "        \"\"\"\n",
        "        From the given list of strings, merge most frequent adjacent pairs till k times,\n",
        "        returns vocab, a set of learnt vocab from corpus\n",
        "        \"\"\"\n",
        "        sens = [sentence.strip() + '.' for sentence in data.split('.') if sentence]\n",
        "        corpus,vocab = self.init_corpus(sens)\n",
        "        self.merge_freq = []\n",
        "\n",
        "        for i in range(k):\n",
        "            pairs = self.get_pairs(corpus)\n",
        "            if not pairs:\n",
        "                break\n",
        "\n",
        "            #most frequent pair\n",
        "            best = max(pairs, key=pairs.get)\n",
        "\n",
        "            self.save_pair(best,vocab)\n",
        "\n",
        "            corpus = self.merge_corpus(best, corpus)\n",
        "\n",
        "            if self.debug:\n",
        "                print(f\"\\n--After {i} iteration\")\n",
        "                print(\"Most freq pairs: \", best)\n",
        "                print(\"Corpus after update: \", corpus)\n",
        "\n",
        "            self.merge_freq.append((best, pairs[best]))\n",
        "\n",
        "        # self.corpus = corpus\n",
        "        self.vocab.update(vocab)\n",
        "\n",
        "        return self.vocab, corpus\n",
        "\n",
        "\n",
        "    def decoding(self, tokens:List[chr], vocab)->str:\n",
        "        \"\"\"\n",
        "        decode tokens in sentence and keep merging back to the original sentences using the learned vocab\n",
        "        \"\"\"\n",
        "        if not vocab:\n",
        "            print(\"Vocab not learned\")\n",
        "            return\n",
        "\n",
        "        # Split the data into words, then characters\n",
        "        decoded = tokens\n",
        "\n",
        "        is_merged = True\n",
        "        while is_merged:\n",
        "            i=0\n",
        "            is_merged = False\n",
        "\n",
        "            while i< len(decoded)-1:\n",
        "                merged = decoded[i]+decoded[i+1]\n",
        "\n",
        "                if merged in vocab or merged+'_' in vocab:\n",
        "                    decoded[i] = merged\n",
        "                    del decoded[i+1]\n",
        "                    is_merged = True\n",
        "\n",
        "                else:\n",
        "                    i+=1\n",
        "\n",
        "        return decoded\n",
        "\n",
        "    def visualize_pair_merge_freq(self):\n",
        "        \"\"\"\n",
        "        visualize\n",
        "        \"\"\"\n",
        "\n",
        "        frequencies = [freq for pair, freq in self.merge_freq]\n",
        "        vocab_size = [i for i, _ in enumerate(self.merge_freq, start=1)]\n",
        "\n",
        "        plt.figure(figsize=(10, 6))\n",
        "        plt.bar(vocab_size, frequencies, color='skyblue')\n",
        "        plt.xlabel('Merged Pairs')\n",
        "        plt.ylabel('Frequencies')\n",
        "        plt.title('Frequency of Byte Pair Merges per Iteration')\n",
        "        plt.xticks(rotation=45)\n",
        "        plt.show()\n",
        "\n",
        "\n"
      ],
      "metadata": {
        "id": "L0SO1MZH3n7x"
      },
      "execution_count": 82,
      "outputs": []
    },
    {
      "cell_type": "code",
      "source": [
        "#Test BPE class, encoding, generated vocab\n",
        "data = \"lower low higher\"\n",
        "\n",
        "bpe = BPE(debug=True)\n",
        "vocab, corpus = bpe.byte_pair_encoding(data,10)\n",
        "\n",
        "print(\"\\nVocab: \",vocab)\n",
        "print(\"Corpus: \",corpus)\n",
        "\n",
        "tokens = [char for word in data.split() for char in word]\n",
        "decoded = bpe.decoding(tokens,vocab)\n",
        "print(\"Decoding: \",decoded)"
      ],
      "metadata": {
        "id": "D8eNPZDMXztu"
      },
      "execution_count": null,
      "outputs": []
    },
    {
      "cell_type": "markdown",
      "source": [
        "## 2.Train on NLTK Dataset (3 marks):\n",
        "Utilize NLTK's Gutenberg Corpus, selecting books like \"austen-emma.txt,\" \"blake-poems.txt\"\n",
        "and \"shakespeare-hamlet.txt\" for training the BPE algorithm. Create a vocabulary based on\n",
        "the training."
      ],
      "metadata": {
        "id": "lGfMTczNUcad"
      }
    },
    {
      "cell_type": "code",
      "source": [
        "### Download\n",
        "\n",
        "import nltk\n",
        "nltk.download('gutenberg')\n",
        "nltk.download('punkt')"
      ],
      "metadata": {
        "colab": {
          "base_uri": "https://localhost:8080/"
        },
        "id": "CbzwTs451Jpp",
        "outputId": "8743b3d3-0ef6-456c-84ba-9220ee890e44"
      },
      "execution_count": 78,
      "outputs": [
        {
          "output_type": "stream",
          "name": "stderr",
          "text": [
            "[nltk_data] Downloading package gutenberg to /root/nltk_data...\n",
            "[nltk_data]   Package gutenberg is already up-to-date!\n",
            "[nltk_data] Downloading package punkt to /root/nltk_data...\n",
            "[nltk_data]   Unzipping tokenizers/punkt.zip.\n"
          ]
        },
        {
          "output_type": "execute_result",
          "data": {
            "text/plain": [
              "True"
            ]
          },
          "metadata": {},
          "execution_count": 78
        }
      ]
    },
    {
      "cell_type": "code",
      "source": [
        "import nltk\n",
        "from nltk.corpus import gutenberg\n",
        "from nltk.tokenize import word_tokenize"
      ],
      "metadata": {
        "id": "QZyRL3TnJSs4"
      },
      "execution_count": 92,
      "outputs": []
    },
    {
      "cell_type": "code",
      "source": [
        "\n",
        "book_list = gutenberg.fileids()\n",
        "\n",
        "print(\"Available Books:\")\n",
        "for book in book_list:\n",
        "  print(book)"
      ],
      "metadata": {
        "colab": {
          "base_uri": "https://localhost:8080/"
        },
        "id": "0xwpD1uhWn5W",
        "outputId": "210fd946-0ab3-4263-8c1c-a6d841d792fc"
      },
      "execution_count": 87,
      "outputs": [
        {
          "output_type": "stream",
          "name": "stdout",
          "text": [
            "Available Books:\n",
            "austen-emma.txt\n",
            "austen-persuasion.txt\n",
            "austen-sense.txt\n",
            "bible-kjv.txt\n",
            "blake-poems.txt\n",
            "bryant-stories.txt\n",
            "burgess-busterbrown.txt\n",
            "carroll-alice.txt\n",
            "chesterton-ball.txt\n",
            "chesterton-brown.txt\n",
            "chesterton-thursday.txt\n",
            "edgeworth-parents.txt\n",
            "melville-moby_dick.txt\n",
            "milton-paradise.txt\n",
            "shakespeare-caesar.txt\n",
            "shakespeare-hamlet.txt\n",
            "shakespeare-macbeth.txt\n",
            "whitman-leaves.txt\n"
          ]
        }
      ]
    },
    {
      "cell_type": "code",
      "source": [
        "selected_book = gutenberg.raw('austen-emma.txt')\n",
        "\n",
        "# add book to corpus\n",
        "bpe = BPE(debug=False)\n",
        "#trainning\n",
        "vocab, corpus = bpe.byte_pair_encoding(selected_book, 320)\n",
        "list(vocab)[:100]\n",
        "\n",
        "# print(\"\\nVocab: \",vocab)\n",
        "# print(\"Corpus: \",corpus)"
      ],
      "metadata": {
        "id": "gH7IC66SrWHH"
      },
      "execution_count": null,
      "outputs": []
    },
    {
      "cell_type": "markdown",
      "source": [
        "# Generate Vocab from selected Books"
      ],
      "metadata": {
        "id": "GIrnDeaktdtE"
      }
    },
    {
      "cell_type": "code",
      "execution_count": null,
      "metadata": {
        "id": "ZqOVgEIldWcp"
      },
      "outputs": [],
      "source": [
        "\n",
        "selected_books = [\n",
        "    gutenberg.raw('austen-emma.txt'),\n",
        "    gutenberg.raw('blake-poems.txt'),\n",
        "    gutenberg.raw('shakespeare-hamlet.txt'),\n",
        "    ]\n",
        "\n",
        "books_data = \"\".join(selected_books)\n",
        "# print(books_data[:200])\n",
        "\n",
        "books_bpe = BPE(debug=False)\n",
        "\n",
        "books_vocab = books_bpe.byte_pair_encoding(books_data,1000)\n",
        "list(books_vocab)[:50]\n",
        "\n",
        "##Decoding\n",
        "# tokens = [char for word in data.split() for char in word]\n",
        "# decoded = bpe.decoding(tokens,vocab)\n",
        "# print(\"Decoding: \",decoded)"
      ]
    },
    {
      "cell_type": "markdown",
      "source": [
        "## 3. Test on NLTK dataset(3marks):\n",
        "&&\n",
        "## 5. Compare with Standard Tokenization (2 marks):"
      ],
      "metadata": {
        "id": "KDgTrnhy2Ihk"
      }
    },
    {
      "cell_type": "code",
      "source": [
        "from urllib.request import urlopen\n",
        "\n",
        "books = []\n",
        "#Download Frankenstein txt\n",
        "frankenstein_text_url = \"http://www.gutenberg.org/files/41445/41445-0.txt\"\n",
        "frankenstein_text_raw = urlopen(frankenstein_text_url).read().decode('utf8')\n",
        "\n",
        "frankenstein_text_raw[0:300]"
      ],
      "metadata": {
        "colab": {
          "base_uri": "https://localhost:8080/",
          "height": 69
        },
        "id": "Z1up1hXQgStE",
        "outputId": "d314af75-958d-4902-8663-f685fcc9d046"
      },
      "execution_count": 97,
      "outputs": [
        {
          "output_type": "execute_result",
          "data": {
            "text/plain": [
              "'\\ufeffThe Project Gutenberg eBook of Frankenstein, by Mary Shelley\\r\\n\\r\\nThis eBook is for the use of anyone anywhere in the United States and\\r\\nmost other parts of the world at no cost and with almost no restrictions\\r\\nwhatsoever. You may copy it, give it away or re-use it under the terms\\r\\nof the Project Gut'"
            ],
            "application/vnd.google.colaboratory.intrinsic+json": {
              "type": "string"
            }
          },
          "metadata": {},
          "execution_count": 97
        }
      ]
    },
    {
      "cell_type": "code",
      "source": [
        "# Load the books and training\n",
        "\n",
        "books =[]\n",
        "books.append(frankenstein_text_raw)\n",
        "\n",
        "model = BPE(debug=False)\n",
        "\n",
        "vocab, corpus = model.byte_pair_encoding(frankenstein_text_raw, k = 1000)\n"
      ],
      "metadata": {
        "id": "cpl7pz69hqC0"
      },
      "execution_count": 98,
      "outputs": []
    },
    {
      "cell_type": "code",
      "source": [
        "# model.visualize_pair_merge_freq()\n",
        "print(len(vocab))\n",
        "print(list(vocab)[-10:])\n",
        "\n",
        "# reference_tokens = word_tokenize(frankenstein_text_raw)\n",
        "\n",
        "# reference_tokens[:10]"
      ],
      "metadata": {
        "colab": {
          "base_uri": "https://localhost:8080/"
        },
        "id": "PFrzOm_WhxaU",
        "outputId": "263f3253-7bfc-46e2-d5d0-03c1429591c3"
      },
      "execution_count": 120,
      "outputs": [
        {
          "output_type": "stream",
          "name": "stdout",
          "text": [
            "1509\n",
            "['Weston,_', 'war', 'un', 'time_', 'whole_', 'gr', 'sing_', 'nigh', 'ati', 'trem']\n"
          ]
        },
        {
          "output_type": "execute_result",
          "data": {
            "text/plain": [
              "12035"
            ]
          },
          "metadata": {},
          "execution_count": 120
        }
      ]
    },
    {
      "cell_type": "markdown",
      "source": [
        "## Tokenization Accuracy"
      ],
      "metadata": {
        "id": "qJDFR2yYnLLW"
      }
    },
    {
      "cell_type": "code",
      "source": [
        "#measure tokenization accuracy, coverage, Precision, Recall, F1-Score\n",
        "from typing import Set\n",
        "# tokenization accuracy\n",
        "\n",
        "def bpe_tokenize(vocab):\n",
        "    \"\"\"\n",
        "    return list of cleaned tokens that removed any special chars after the word.\n",
        "    \"\"\"\n",
        "\n",
        "    def preprocess_words(words: Set[str]) -> Set[str]:\n",
        "        \"\"\"\n",
        "        Remove special chars like dot, comma, underscore after the word in the set.\n",
        "        \"\"\"\n",
        "        cleaned_words = set()\n",
        "        for word in words:\n",
        "            # Replace dot or underscore after the word with an empty string\n",
        "            cleaned_word = re.sub(r'([a-zA-Z]+)[^a-zA-Z]*', r'\\1', word)\n",
        "            cleaned_words.add(cleaned_word)\n",
        "        return cleaned_words\n",
        "\n",
        "    cleaned_tokens = preprocess_words(vocab)\n",
        "    return cleaned_tokens\n",
        "\n",
        "def compare_and_count(bpe_tokens,reference_tokens)->int:\n",
        "    \"\"\"\n",
        "    Compare the tokens and return the count.\n",
        "    \"\"\"\n",
        "    count = 0\n",
        "\n",
        "    for token in bpe_tokens:\n",
        "        if token in reference_tokens:\n",
        "          count+=1\n",
        "    return count\n",
        "\n",
        "#Accuracy\n",
        "def calc_tokenization_accuracy(vocab,book_text_raw)->int:\n",
        "    \"\"\"\n",
        "    tokenization accuracy = correctly_tokenized_count/total_bpe_tokens\n",
        "    \"\"\"\n",
        "\n",
        "    bpe_tokens = bpe_tokenize(vocab)\n",
        "\n",
        "    reference_tokens = word_tokenize(book_text_raw)\n",
        "\n",
        "    correctly_tokenized_count = compare_and_count(bpe_tokens, reference_tokens)\n",
        "\n",
        "    total_bpe_tokens = len(bpe_tokens)\n",
        "\n",
        "    print(f\"Correctly Tokenized Tokens: {correctly_tokenized_count}\")\n",
        "    print(f\"Total Tokens in BPE: {total_bpe_tokens}\")\n",
        "\n",
        "    accuracy = correctly_tokenized_count/total_bpe_tokens\n",
        "    return accuracy\n",
        "\n",
        "accuracy_float = calc_tokenization_accuracy(vocab,frankenstein_text_raw)\n",
        "print(f\"accuracy: {accuracy_float * 100} %\")\n"
      ],
      "metadata": {
        "colab": {
          "base_uri": "https://localhost:8080/"
        },
        "id": "Ik688iJy2OP3",
        "outputId": "60728acc-dfdb-486d-f2a5-8239c5881e40"
      },
      "execution_count": 128,
      "outputs": [
        {
          "output_type": "stream",
          "name": "stdout",
          "text": [
            "Correctly Tokenized Tokens: 394\n",
            "Total Tokens in BPE: 1220\n",
            "accuracy: 32.295081967213115 %\n"
          ]
        }
      ]
    },
    {
      "cell_type": "markdown",
      "source": [
        "## Tokenization Coverage"
      ],
      "metadata": {
        "id": "fCdxdWkffw28"
      }
    },
    {
      "cell_type": "code",
      "source": [
        "def calc_tokenization_coverage(vocab,book_text_raw):\n",
        "    \"\"\"\n",
        "    Coverage = Unique Tokens Covered/Unique Tokens in the Ground Truth\n",
        "    \"\"\"\n",
        "\n",
        "    bpe_tokens = set(bpe_tokenize(vocab))\n",
        "\n",
        "    unique_reference_tokens = set(word_tokenize(book_text_raw))\n",
        "\n",
        "    unique_tokens_covered_count = compare_and_count(bpe_tokens, unique_reference_tokens)\n",
        "\n",
        "    coverage = unique_tokens_covered_count/len(unique_reference_tokens)\n",
        "\n",
        "    print(\"Unique covered tokens: \",unique_tokens_covered_count)\n",
        "    print(\"Unique Tokens in Ground Truth: \", len(unique_reference_tokens))\n",
        "\n",
        "    return coverage\n",
        "\n",
        "coverage_float = calc_tokenization_coverage(vocab,frankenstein_text_raw)\n",
        "print(f\"Coverage: {coverage_float * 100} %\")\n"
      ],
      "metadata": {
        "colab": {
          "base_uri": "https://localhost:8080/"
        },
        "id": "-vZGNxVbrnJ2",
        "outputId": "64bdfd8b-9013-4edb-b2f9-7b49d5418840"
      },
      "execution_count": 131,
      "outputs": [
        {
          "output_type": "stream",
          "name": "stdout",
          "text": [
            "Unique covered tokens:  394\n",
            "Unique Tokens in Ground Truth:  7901\n",
            "Coverage: 4.986710542969244 %\n"
          ]
        }
      ]
    },
    {
      "cell_type": "code",
      "source": [
        "# reference_tokens = word_tokenize(frankenstein_text_raw)\n",
        "# print(len(reference_tokens))\n",
        "\n",
        "# len(set(reference_tokens))\n"
      ],
      "metadata": {
        "colab": {
          "base_uri": "https://localhost:8080/"
        },
        "id": "kq-9qCxxdofu",
        "outputId": "f980381e-b104-48d2-9786-b13785c5c151"
      },
      "execution_count": 125,
      "outputs": [
        {
          "output_type": "stream",
          "name": "stdout",
          "text": [
            "87753\n"
          ]
        },
        {
          "output_type": "execute_result",
          "data": {
            "text/plain": [
              "7901"
            ]
          },
          "metadata": {},
          "execution_count": 125
        }
      ]
    },
    {
      "cell_type": "markdown",
      "source": [
        "## 4.Create Reference Tokenization (2 marks):"
      ],
      "metadata": {
        "id": "K_j41LkNvSDM"
      }
    },
    {
      "cell_type": "code",
      "source": [
        "\n",
        "\n",
        "selected_books = [\n",
        "    gutenberg.raw('austen-emma.txt'),\n",
        "    gutenberg.raw('blake-poems.txt'),\n",
        "    gutenberg.raw('shakespeare-hamlet.txt'),\n",
        "    ]\n",
        "# Combine all books into a single string\n",
        "combined_books = \" \".join(selected_books)\n",
        "\n",
        "raw_sentences = combined_books.split('.')\n",
        "\n",
        "processed_sentences = [sentence.strip() + '.' for sentence in raw_sentences if sentence]\n",
        "\n",
        "\n",
        "tokenized_dataset = [word_tokenize(sentence) for sentence in processed_sentences]\n",
        "\n",
        "# Example: Print the first few tokenized sentences\n",
        "for i, sentence in enumerate(tokenized_dataset[:5]):\n",
        "    print(f\"Sentence {i+1}: {sentence}\")\n"
      ],
      "metadata": {
        "colab": {
          "base_uri": "https://localhost:8080/"
        },
        "id": "HMekEX4UwLMK",
        "outputId": "73387663-9d63-4be2-c5e5-0fb9e029c7a6"
      },
      "execution_count": 79,
      "outputs": [
        {
          "output_type": "stream",
          "name": "stdout",
          "text": [
            "Sentence 1: ['[', 'Emma', 'by', 'Jane', 'Austen', '1816', ']', 'VOLUME', 'I', 'CHAPTER', 'I', 'Emma', 'Woodhouse', ',', 'handsome', ',', 'clever', ',', 'and', 'rich', ',', 'with', 'a', 'comfortable', 'home', 'and', 'happy', 'disposition', ',', 'seemed', 'to', 'unite', 'some', 'of', 'the', 'best', 'blessings', 'of', 'existence', ';', 'and', 'had', 'lived', 'nearly', 'twenty-one', 'years', 'in', 'the', 'world', 'with', 'very', 'little', 'to', 'distress', 'or', 'vex', 'her', '.']\n",
            "Sentence 2: ['She', 'was', 'the', 'youngest', 'of', 'the', 'two', 'daughters', 'of', 'a', 'most', 'affectionate', ',', 'indulgent', 'father', ';', 'and', 'had', ',', 'in', 'consequence', 'of', 'her', 'sister', \"'s\", 'marriage', ',', 'been', 'mistress', 'of', 'his', 'house', 'from', 'a', 'very', 'early', 'period', '.']\n",
            "Sentence 3: ['Her', 'mother', 'had', 'died', 'too', 'long', 'ago', 'for', 'her', 'to', 'have', 'more', 'than', 'an', 'indistinct', 'remembrance', 'of', 'her', 'caresses', ';', 'and', 'her', 'place', 'had', 'been', 'supplied', 'by', 'an', 'excellent', 'woman', 'as', 'governess', ',', 'who', 'had', 'fallen', 'little', 'short', 'of', 'a', 'mother', 'in', 'affection', '.']\n",
            "Sentence 4: ['Sixteen', 'years', 'had', 'Miss', 'Taylor', 'been', 'in', 'Mr', '.']\n",
            "Sentence 5: ['Woodhouse', \"'s\", 'family', ',', 'less', 'as', 'a', 'governess', 'than', 'a', 'friend', ',', 'very', 'fond', 'of', 'both', 'daughters', ',', 'but', 'particularly', 'of', 'Emma', '.']\n"
          ]
        }
      ]
    },
    {
      "cell_type": "markdown",
      "source": [
        "## 6 Visualizations(2 marks):\n"
      ],
      "metadata": {
        "id": "CJvv-kdk1qtK"
      }
    },
    {
      "cell_type": "code",
      "source": [
        "books_bpe.visualize_pair_merge_freq()"
      ],
      "metadata": {
        "colab": {
          "base_uri": "https://localhost:8080/",
          "height": 585
        },
        "id": "EaB9ES5kG66c",
        "outputId": "f225b19b-6e65-4f02-b9b7-c3f03f9ec2e3"
      },
      "execution_count": 86,
      "outputs": [
        {
          "output_type": "display_data",
          "data": {
            "text/plain": [
              "<Figure size 1000x600 with 1 Axes>"
            ],
            "image/png": "[encoded data removed]"
          },
          "metadata": {}
        }
      ]
    }
  ]
}