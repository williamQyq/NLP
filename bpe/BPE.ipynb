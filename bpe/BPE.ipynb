{
  "nbformat": 4,
  "nbformat_minor": 0,
  "metadata": {
    "colab": {
      "provenance": []
    },
    "kernelspec": {
      "name": "python3",
      "display_name": "Python 3"
    },
    "language_info": {
      "name": "python"
    }
  },
  "cells": [
    {
      "cell_type": "markdown",
      "source": [
        "##1. Implement BPE Algorithm (4 marks):\n",
        "\n",
        "Develop a Python implementation of the Byte Pair Encoding (BPE) algorithm, covering key\n",
        "steps such as learning byte pair merges and encoding/decoding using the learned merge\n",
        "operations."
      ],
      "metadata": {
        "id": "haqmlp5CsRi-"
      }
    },
    {
      "cell_type": "code",
      "source": [
        "from typing import List, Dict\n",
        "import re\n",
        "import heapq\n",
        "import matplotlib.pyplot as plt\n",
        "from tqdm import tqdm\n",
        "\n",
        "from collections import defaultdict\n",
        "\n",
        "class BPE():\n",
        "    def __init__(self, debug=False ):\n",
        "        self.vocab = defaultdict(lambda:0)\n",
        "        self.corpus = defaultdict(lambda:0)\n",
        "        self.debug = debug\n",
        "\n",
        "\n",
        "    def init_corpus_vocab(self, raw_data: str):\n",
        "        \"\"\"\n",
        "        Corpus is a dict of word in list of chars to frequency\n",
        "        Vocab is a dict of tokens to frequency\n",
        "        \"\"\"\n",
        "        corpus = defaultdict(lambda: 0)\n",
        "        vocab = defaultdict(lambda:0)\n",
        "\n",
        "        words = raw_data.split()\n",
        "\n",
        "        for word in words:\n",
        "            corpus[' '.join(list(word)) + ' _'] += 1\n",
        "            for token in word+\"_\":\n",
        "                vocab[token]+=1\n",
        "\n",
        "        return corpus,vocab\n",
        "\n",
        "    # def isStopChar(self,token:str)->bool:\n",
        "    #     return bool(re.match('[,.?\"\\'!;:]+',token))\n",
        "\n",
        "    def get_pairs(self, corpus: Dict[str, int])->heapq:\n",
        "        pairs = defaultdict(lambda: 0)\n",
        "\n",
        "        for word, freq in corpus.items():\n",
        "            tokens = word.split()\n",
        "\n",
        "            # Pair to frequency, avoiding stop characters\n",
        "            for i in range(len(tokens) - 1):\n",
        "              #  if not (self.isStopChar(tokens[i]) or self.isStopChar(tokens[i+1])):\n",
        "                  pairs[tokens[i], tokens[i + 1]] += freq\n",
        "\n",
        "        pairs = [(-freq, pair) for pair, freq in pairs.items()]\n",
        "        heapq.heapify(pairs)\n",
        "\n",
        "        return pairs\n",
        "\n",
        "    def merge_corpus(self, pair, corpus):\n",
        "        \"\"\"\n",
        "        merge pair appears in the corpus\n",
        "        \"\"\"\n",
        "\n",
        "        bigram = ' '.join(pair)\n",
        "        merged_pair = ''.join(pair)\n",
        "\n",
        "        #find pairs allowing spaces for before or at the end\n",
        "        for word in list(corpus.keys()):\n",
        "\n",
        "            if bigram in word:\n",
        "                new_word = word.replace(bigram, merged_pair)\n",
        "                corpus[new_word] = corpus.pop(word)\n",
        "\n",
        "        return corpus\n",
        "\n",
        "\n",
        "    def update_vocab(self, pair, freq,vocab):\n",
        "        \"\"\"\n",
        "        Save merged pair, and reduce the pair frequency in vocab\n",
        "        \"\"\"\n",
        "        vocab[''.join(pair)] = freq\n",
        "\n",
        "        for token in pair:\n",
        "            if vocab[token] - freq == 0:\n",
        "                del vocab[token]\n",
        "            else:\n",
        "                vocab[token] -=freq\n",
        "\n",
        "        return\n",
        "\n",
        "\n",
        "    def byte_pair_encoding(self, data:str, k:int):\n",
        "        \"\"\"\n",
        "        From the given raw data strings, merge most frequent adjacent pairs till k times,\n",
        "        returns vocab, a set of learnt vocab from corpus\n",
        "        \"\"\"\n",
        "        corpus,vocab = self.init_corpus_vocab(data)\n",
        "\n",
        "        self.vocab_size = []\n",
        "        self.merge_info =[]\n",
        "\n",
        "\n",
        "        for i in tqdm(range(k), desc=\"BPE Training\", unit=\"merge\"):\n",
        "            pairs_heap = self.get_pairs(corpus)\n",
        "\n",
        "            #most frequent pair\n",
        "            freq_neg, best = heapq.heappop(pairs_heap)\n",
        "\n",
        "            if not best:\n",
        "                break\n",
        "\n",
        "            self.update_vocab(best, -freq_neg, vocab)\n",
        "\n",
        "            corpus = self.merge_corpus(best, corpus)\n",
        "\n",
        "            self.vocab_size.append(len(vocab))\n",
        "            self.merge_info.append(-freq_neg)\n",
        "\n",
        "            if self.debug:\n",
        "                print(f\"\\n--After {i} iteration\")\n",
        "                print(\"Most freq pairs: \", best)\n",
        "                print(\"Corpus after update: \", corpus)\n",
        "\n",
        "\n",
        "\n",
        "        self.corpus = corpus\n",
        "        self.vocab = sorted(vocab,key=lambda k : len(k),reverse=True)\n",
        "\n",
        "        return self.vocab, corpus\n",
        "\n",
        "\n",
        "    def encoding(self, raw_data: str)-> List[str]:\n",
        "        \"\"\"\n",
        "        Replace substring using the learned tokens in vocab\n",
        "        \"\"\"\n",
        "\n",
        "        def replace_substring_with_tokens_to_list(word, sorted_tokens):\n",
        "            # Sort tokens by length in descending order to match longer tokens first\n",
        "\n",
        "            result = []\n",
        "            i = 0\n",
        "\n",
        "            while i < len(word):\n",
        "                matched = False\n",
        "\n",
        "                # Check each token\n",
        "                for token in sorted_tokens:\n",
        "                    # If the token is found in the word at the current position\n",
        "                    if word[i:i+len(token)] == token:\n",
        "                        result.append(token)  # Add token to the result\n",
        "                        i += len(token)       # Skip the length of the token in the word\n",
        "                        matched = True\n",
        "                        break\n",
        "\n",
        "                # If no token matched, move to the next character and treat as unknown\n",
        "                if not matched:\n",
        "                    result.append(\"[unknown]\")  # Add unknown token\n",
        "                    i += 1\n",
        "\n",
        "            return result\n",
        "\n",
        "\n",
        "\n",
        "        if not self.vocab:\n",
        "            print(\"Vocab not learned. Ending...\")\n",
        "            return;\n",
        "\n",
        "        encoded = []\n",
        "\n",
        "        words = [word + '_' for word in raw_data.split()]\n",
        "\n",
        "        #sorted tokens from the longest to the shortest\n",
        "        sorted_vocab = sorted(self.vocab, key=lambda k: len(k), reverse=True)\n",
        "\n",
        "        for word in tqdm(words, desc=\"Encoding words\", unit=\"word\"):\n",
        "            encoded.extend(replace_substring_with_tokens_to_list(word, sorted_vocab))\n",
        "\n",
        "        return encoded;\n",
        "\n",
        "\n",
        "    def decoding(self, encoded:List[str])->List[str]:\n",
        "        end_symb = '_'\n",
        "\n",
        "        decoded = encoded\n",
        "\n",
        "        #merge tokens if not seperate by end symbol\n",
        "        for i in range(len(decoded)-1):\n",
        "            if decoded[i][-1] != end_symb:\n",
        "                merged = decoded[i] + decoded[i+1]\n",
        "                decoded[i] = merged\n",
        "                del decoded[i+1]\n",
        "\n",
        "        return decoded\n",
        "\n",
        "\n"
      ],
      "metadata": {
        "id": "L0SO1MZH3n7x"
      },
      "execution_count": null,
      "outputs": []
    },
    {
      "cell_type": "markdown",
      "source": [
        "## 2.Train on NLTK Dataset (3 marks):\n",
        "Utilize NLTK's Gutenberg Corpus, selecting books like \"austen-emma.txt,\" \"blake-poems.txt\"\n",
        "and \"shakespeare-hamlet.txt\" for training the BPE algorithm. Create a vocabulary based on\n",
        "the training."
      ],
      "metadata": {
        "id": "lGfMTczNUcad"
      }
    },
    {
      "cell_type": "code",
      "source": [
        "### Download\n",
        "\n",
        "import nltk\n",
        "nltk.download('gutenberg')\n",
        "nltk.download('punkt')"
      ],
      "metadata": {
        "colab": {
          "base_uri": "https://localhost:8080/"
        },
        "id": "CbzwTs451Jpp",
        "outputId": "43be9189-db9c-495d-a9c1-a50dfc07e6ac"
      },
      "execution_count": null,
      "outputs": [
        {
          "output_type": "stream",
          "name": "stderr",
          "text": [
            "[nltk_data] Downloading package gutenberg to /root/nltk_data...\n",
            "[nltk_data]   Unzipping corpora/gutenberg.zip.\n",
            "[nltk_data] Downloading package punkt to /root/nltk_data...\n",
            "[nltk_data]   Unzipping tokenizers/punkt.zip.\n"
          ]
        },
        {
          "output_type": "execute_result",
          "data": {
            "text/plain": [
              "True"
            ]
          },
          "metadata": {},
          "execution_count": 2
        }
      ]
    },
    {
      "cell_type": "code",
      "source": [
        "import nltk\n",
        "from nltk.corpus import gutenberg"
      ],
      "metadata": {
        "id": "QZyRL3TnJSs4"
      },
      "execution_count": null,
      "outputs": []
    },
    {
      "cell_type": "code",
      "source": [
        "\n",
        "book_list = gutenberg.fileids()\n",
        "\n",
        "print(\"Available Books:\")\n",
        "for book in book_list:\n",
        "  print(book)"
      ],
      "metadata": {
        "colab": {
          "base_uri": "https://localhost:8080/"
        },
        "id": "0xwpD1uhWn5W",
        "outputId": "afdc9898-e018-45bf-ec6f-e49aef570d71"
      },
      "execution_count": null,
      "outputs": [
        {
          "output_type": "stream",
          "name": "stdout",
          "text": [
            "Available Books:\n",
            "austen-emma.txt\n",
            "austen-persuasion.txt\n",
            "austen-sense.txt\n",
            "bible-kjv.txt\n",
            "blake-poems.txt\n",
            "bryant-stories.txt\n",
            "burgess-busterbrown.txt\n",
            "carroll-alice.txt\n",
            "chesterton-ball.txt\n",
            "chesterton-brown.txt\n",
            "chesterton-thursday.txt\n",
            "edgeworth-parents.txt\n",
            "melville-moby_dick.txt\n",
            "milton-paradise.txt\n",
            "shakespeare-caesar.txt\n",
            "shakespeare-hamlet.txt\n",
            "shakespeare-macbeth.txt\n",
            "whitman-leaves.txt\n"
          ]
        }
      ]
    },
    {
      "cell_type": "markdown",
      "source": [
        "# Training Vocab learned from selected Books"
      ],
      "metadata": {
        "id": "VQAua7_fg8m1"
      }
    },
    {
      "cell_type": "code",
      "source": [
        "selected_books = [\n",
        "    gutenberg.raw('austen-emma.txt'),\n",
        "    gutenberg.raw('blake-poems.txt'),\n",
        "    gutenberg.raw('shakespeare-hamlet.txt')\n",
        "]\n",
        "training_dataset = \" \".join(selected_books)\n",
        "\n",
        "# add book to corpus\n",
        "bpe = BPE(debug=False)\n",
        "#trainning\n",
        "vocab, corpus = bpe.byte_pair_encoding(training_dataset, 6000)\n",
        "list(vocab)[:10]\n",
        "\n",
        "# print(\"\\nVocab: \",vocab)\n",
        "# print(\"Corpus: \",corpus)"
      ],
      "metadata": {
        "id": "gH7IC66SrWHH",
        "colab": {
          "base_uri": "https://localhost:8080/"
        },
        "outputId": "6a743c51-3a20-468d-a8fd-b97175ce9c1a"
      },
      "execution_count": null,
      "outputs": [
        {
          "output_type": "stream",
          "name": "stderr",
          "text": [
            "BPE Training: 100%|██████████| 6000/6000 [06:08<00:00, 16.30merge/s]\n"
          ]
        },
        {
          "output_type": "execute_result",
          "data": {
            "text/plain": [
              "['Comicall-Historicall-Pastorall:_',\n",
              " 'recommendations_',\n",
              " 'disappointment_',\n",
              " 'circumstances,_',\n",
              " 'Guildensterne._',\n",
              " 'barouche-landau',\n",
              " 'encouragement,_',\n",
              " 'recommendation_',\n",
              " 'consciousness,_',\n",
              " 'court-plaister_']"
            ]
          },
          "metadata": {},
          "execution_count": 5
        }
      ]
    },
    {
      "cell_type": "code",
      "source": [
        "sorted_vocab = sorted(vocab,key = lambda k: len(k), reverse=True)\n",
        "sorted_vocab[:5]"
      ],
      "metadata": {
        "colab": {
          "base_uri": "https://localhost:8080/"
        },
        "id": "S5x_cYmXqHit",
        "outputId": "3349a3aa-5879-44c9-f45c-c56ecd11198c"
      },
      "execution_count": null,
      "outputs": [
        {
          "output_type": "execute_result",
          "data": {
            "text/plain": [
              "['disappointment_',\n",
              " 'circumstances,_',\n",
              " 'Guildensterne._',\n",
              " 'barouche-landau',\n",
              " 'circumstances_']"
            ]
          },
          "metadata": {},
          "execution_count": 6
        }
      ]
    },
    {
      "cell_type": "markdown",
      "source": [
        "#3. Test on NLTK dataset(3marks)\n"
      ],
      "metadata": {
        "id": "tphUKDiwljK2"
      }
    },
    {
      "cell_type": "code",
      "source": [
        "from urllib.request import urlopen\n",
        "\n",
        "#Download Frankenstein txt\n",
        "frankenstein_text_url = \"http://www.gutenberg.org/files/41445/41445-0.txt\"\n",
        "frankenstein_text_raw = urlopen(frankenstein_text_url).read().decode('utf8')\n",
        "\n",
        "dracula_text_url = \"https://www.gutenberg.org/cache/epub/345/pg345.txt\"\n",
        "dracula_text_raw = urlopen(dracula_text_url).read().decode('utf8')\n",
        "\n",
        "sherlock_text_url = \"https://www.gutenberg.org/cache/epub/1661/pg1661.txt\"\n",
        "sherlock_text_raw = urlopen(sherlock_text_url).read().decode('utf8')\n",
        "\n",
        "\n",
        "frankenstein_text_raw[0:300]"
      ],
      "metadata": {
        "colab": {
          "base_uri": "https://localhost:8080/",
          "height": 69
        },
        "id": "05ZmzMy2lpoJ",
        "outputId": "d680a0a6-5247-45fb-895f-0b59e730d04f"
      },
      "execution_count": null,
      "outputs": [
        {
          "output_type": "execute_result",
          "data": {
            "text/plain": [
              "'\\ufeffThe Project Gutenberg eBook of Frankenstein, by Mary Shelley\\r\\n\\r\\nThis eBook is for the use of anyone anywhere in the United States and\\r\\nmost other parts of the world at no cost and with almost no restrictions\\r\\nwhatsoever. You may copy it, give it away or re-use it under the terms\\r\\nof the Project Gut'"
            ],
            "application/vnd.google.colaboratory.intrinsic+json": {
              "type": "string"
            }
          },
          "metadata": {},
          "execution_count": 6
        }
      ]
    },
    {
      "cell_type": "markdown",
      "source": [
        "## Tokenize on test dataset"
      ],
      "metadata": {
        "id": "ZLugpZ_EQ5by"
      }
    },
    {
      "cell_type": "code",
      "source": [
        "# Tokenization\n",
        "model = bpe\n",
        "encoding_tokens = bpe.encoding(frankenstein_text_raw)\n",
        "\n",
        "#tokenization preview\n",
        "encoding_tokens[:10]\n"
      ],
      "metadata": {
        "colab": {
          "base_uri": "https://localhost:8080/"
        },
        "id": "0zpdbtHahc9p",
        "outputId": "72c6d9f1-3b2c-4254-ed4f-12ab258b95e4"
      },
      "execution_count": null,
      "outputs": [
        {
          "output_type": "stream",
          "name": "stderr",
          "text": [
            "Encoding words: 100%|██████████| 75773/75773 [02:55<00:00, 431.12word/s]\n"
          ]
        },
        {
          "output_type": "execute_result",
          "data": {
            "text/plain": [
              "['[unknown]', 'The_', 'Pro', 'je', 'ct_', 'Gu', 'ten', 'ber', 'g_', 'e']"
            ]
          },
          "metadata": {},
          "execution_count": 7
        }
      ]
    },
    {
      "cell_type": "code",
      "source": [
        "cleaned_tokens = [dirty_token.rstrip('_') for dirty_token in encoding_tokens]"
      ],
      "metadata": {
        "id": "N5yuoLGFEzZZ"
      },
      "execution_count": null,
      "outputs": []
    },
    {
      "cell_type": "markdown",
      "source": [
        "## 4.Create Reference Tokenization (2 marks):"
      ],
      "metadata": {
        "id": "K_j41LkNvSDM"
      }
    },
    {
      "cell_type": "code",
      "source": [
        "from nltk.tokenize import word_tokenize\n",
        "\n",
        "test_dataset = frankenstein_text_raw\n",
        "reference_tokens = word_tokenize(test_dataset)\n",
        "reference_tokens[:20]\n"
      ],
      "metadata": {
        "colab": {
          "base_uri": "https://localhost:8080/"
        },
        "id": "cEIsH_1GoKyr",
        "outputId": "bcf1735f-5cc4-4e51-883c-b27be36cac92"
      },
      "execution_count": null,
      "outputs": [
        {
          "output_type": "execute_result",
          "data": {
            "text/plain": [
              "['\\ufeffThe',\n",
              " 'Project',\n",
              " 'Gutenberg',\n",
              " 'eBook',\n",
              " 'of',\n",
              " 'Frankenstein',\n",
              " ',',\n",
              " 'by',\n",
              " 'Mary',\n",
              " 'Shelley',\n",
              " 'This',\n",
              " 'eBook',\n",
              " 'is',\n",
              " 'for',\n",
              " 'the',\n",
              " 'use',\n",
              " 'of',\n",
              " 'anyone',\n",
              " 'anywhere',\n",
              " 'in']"
            ]
          },
          "metadata": {},
          "execution_count": 9
        }
      ]
    },
    {
      "cell_type": "markdown",
      "source": [
        "## 5. Compare with Standard Tokenization (2 marks):"
      ],
      "metadata": {
        "id": "Lf_2oLTRlV25"
      }
    },
    {
      "cell_type": "markdown",
      "source": [
        "## Tokenization Accuracy"
      ],
      "metadata": {
        "id": "qJDFR2yYnLLW"
      }
    },
    {
      "cell_type": "code",
      "source": [
        "# Compare tokenization\n",
        "\n",
        "print(\"BPE tokenization length: \",len(cleaned_tokens))\n",
        "print(\"NLTK reference tokenize length: \", len(reference_tokens))"
      ],
      "metadata": {
        "colab": {
          "base_uri": "https://localhost:8080/"
        },
        "id": "C0LL8xaEvuIQ",
        "outputId": "913e6bb5-38a7-46cb-b71a-04815648a2f0"
      },
      "execution_count": null,
      "outputs": [
        {
          "output_type": "stream",
          "name": "stdout",
          "text": [
            "BPE tokenization length:  121227\n",
            "NLTK reference tokenize length:  87753\n"
          ]
        }
      ]
    },
    {
      "cell_type": "code",
      "source": [
        "#measure tokenization accuracy, coverage, Precision, Recall, F1-Score\n",
        "# tokenization accuracy\n",
        "from collections import Counter\n",
        "\n",
        "#Accuracy\n",
        "def calc_tokenization_accuracy(predict: List[str],reference:List[str])->float:\n",
        "    \"\"\"\n",
        "    tokenization accuracy = true count / total reference\n",
        "\n",
        "    \"\"\"\n",
        "\n",
        "    reference_counter = Counter(reference)\n",
        "    true_cnt = 0\n",
        "\n",
        "    for token in predict:\n",
        "        if reference_counter[token] > 0:\n",
        "            true_cnt += 1\n",
        "            reference_counter[token] -= 1\n",
        "\n",
        "    print(f\"Correctly Tokenized Tokens: {true_cnt}\")\n",
        "    print(f\"Total reference Tokens: {len(reference)}\")\n",
        "\n",
        "    return true_cnt / len(reference)\n",
        "\n",
        "accuracy_float = calc_tokenization_accuracy(cleaned_tokens, reference_tokens)\n",
        "print(f\"\\nAccuracy: {accuracy_float * 100} %\")\n"
      ],
      "metadata": {
        "colab": {
          "base_uri": "https://localhost:8080/"
        },
        "id": "Ik688iJy2OP3",
        "outputId": "a17d59f4-0f6f-4f76-eb74-dbce11eb36a1"
      },
      "execution_count": null,
      "outputs": [
        {
          "output_type": "stream",
          "name": "stdout",
          "text": [
            "Correctly Tokenized Tokens: 56046\n",
            "Total reference Tokens: 87753\n",
            "\n",
            "Accuracy: 63.867901952070014 %\n"
          ]
        }
      ]
    },
    {
      "cell_type": "markdown",
      "source": [
        "## Tokenization Coverage"
      ],
      "metadata": {
        "id": "fCdxdWkffw28"
      }
    },
    {
      "cell_type": "code",
      "source": [
        "#Coverage\n",
        "def calc_tokenization_coverage(predict:List[str],reference:List[str])->float:\n",
        "    \"\"\"\n",
        "    Coverage = Unique Tokens Covered/Unique Tokens in the Ground Truth\n",
        "    \"\"\"\n",
        "\n",
        "    predict_set = set(predict)\n",
        "\n",
        "    reference_set = set(reference)\n",
        "\n",
        "    true_cnt = 0\n",
        "\n",
        "    for token in predict_set:\n",
        "        if token in reference_set:\n",
        "            true_cnt+=1\n",
        "\n",
        "    coverage = true_cnt/len(reference_set)\n",
        "\n",
        "    print(\"Unique covered tokens: \",true_cnt)\n",
        "    print(\"Unique Tokens in Ground Truth: \", len(reference_set))\n",
        "\n",
        "    return coverage\n",
        "\n",
        "coverage_float = calc_tokenization_coverage(cleaned_tokens,reference_tokens)\n",
        "print(f\"Coverage: {coverage_float * 100} %\")\n"
      ],
      "metadata": {
        "colab": {
          "base_uri": "https://localhost:8080/"
        },
        "id": "-vZGNxVbrnJ2",
        "outputId": "127d3e0b-62ad-4f9e-b6e7-94f22c4a2375"
      },
      "execution_count": null,
      "outputs": [
        {
          "output_type": "stream",
          "name": "stdout",
          "text": [
            "Unique covered tokens:  1679\n",
            "Unique Tokens in Ground Truth:  7901\n",
            "Coverage: 21.250474623465383 %\n"
          ]
        }
      ]
    },
    {
      "cell_type": "code",
      "source": [
        "#Precision\n",
        "def calc_precision(predict:List[str], reference: List[str])->float:\n",
        "    \"\"\"\n",
        "    Precision = True positive / (True positive + False Positive)\n",
        "    \"\"\"\n",
        "\n",
        "    reference_counter = Counter(reference)\n",
        "    true_pos = 0\n",
        "    false_pos = 0\n",
        "\n",
        "    for token in predict:\n",
        "        if reference_counter[token]>0:\n",
        "            true_pos+=1\n",
        "            reference_counter[token]-=1\n",
        "        else:\n",
        "            false_pos +=1\n",
        "\n",
        "    precision = true_pos / (true_pos + false_pos) if (true_pos + false_pos) > 0 else 0\n",
        "    return precision\n",
        "\n",
        "precision_float = calc_precision(cleaned_tokens,reference_tokens)\n",
        "print(f\"Precision: {precision_float * 100} %\")\n"
      ],
      "metadata": {
        "colab": {
          "base_uri": "https://localhost:8080/"
        },
        "id": "vrXWgIFN89_i",
        "outputId": "c57f480e-fe36-477e-e561-55b678a26843"
      },
      "execution_count": null,
      "outputs": [
        {
          "output_type": "stream",
          "name": "stdout",
          "text": [
            "Precision: 46.232274988245194 %\n"
          ]
        }
      ]
    },
    {
      "cell_type": "code",
      "source": [
        "#recall\n",
        "\n",
        "def calc_recall(predict:List[str],reference: List[str])->float:\n",
        "    \"\"\"\n",
        "    Recall = True pos / (True pos + False Neg)\n",
        "\n",
        "    \"\"\"\n",
        "\n",
        "    reference_counter = Counter(reference)\n",
        "    predict_counter = Counter(predict)\n",
        "\n",
        "    false_neg = 0\n",
        "    true_pos =0\n",
        "\n",
        "    #True pos\n",
        "    for token in predict:\n",
        "        if reference_counter[token]>0:\n",
        "            true_pos+=1\n",
        "            reference_counter[token]-=1\n",
        "\n",
        "    #False neg\n",
        "    for token, ref_count in reference_counter.items():\n",
        "        if ref_count > predict_counter[token]:\n",
        "            false_neg += ref_count - predict_counter[token]\n",
        "\n",
        "    return true_pos/(true_pos + false_neg)\n",
        "\n",
        "recall_float = calc_recall(cleaned_tokens,reference_tokens)\n",
        "print(f\"Recall: {recall_float * 100} %\")\n"
      ],
      "metadata": {
        "colab": {
          "base_uri": "https://localhost:8080/"
        },
        "id": "5ymGsZ59Fjrd",
        "outputId": "8bf9395c-2e64-4662-a21a-651cc20a546a"
      },
      "execution_count": null,
      "outputs": [
        {
          "output_type": "stream",
          "name": "stdout",
          "text": [
            "Recall: 68.37045892600094 %\n"
          ]
        }
      ]
    },
    {
      "cell_type": "code",
      "source": [
        "#F1 score\n",
        "def calc_F1_score(precision:float, recall:float)->float:\n",
        "    return 2*precision*recall/(precision+recall)\n",
        "\n",
        "f1_score = calc_F1_score(precision_float,recall_float)\n",
        "\n",
        "print(f\"Precision: {f1_score * 100} %\")\n"
      ],
      "metadata": {
        "colab": {
          "base_uri": "https://localhost:8080/"
        },
        "id": "54cmYFSKIql7",
        "outputId": "6c60a762-c059-4b27-8558-b1d6a60d93f7"
      },
      "execution_count": null,
      "outputs": [
        {
          "output_type": "stream",
          "name": "stdout",
          "text": [
            "Precision: 55.16311435475218 %\n"
          ]
        }
      ]
    },
    {
      "cell_type": "code",
      "source": [
        "# Jaccard Similarity\n",
        "def jaccard_similarity(list1: List[str], list2: List[str]) -> float:\n",
        "    \"\"\"\n",
        "    The Jaccard Similarity coefficient is a statistic used for\n",
        "    gauging the similarity and diversity of sample sets.\n",
        "    It measures similarity between finite sets\n",
        "    and is defined as the size of the intersection divided by\n",
        "    the size of the union of the sample sets.\n",
        "\n",
        "    \"\"\"\n",
        "    set1 = set(list1)\n",
        "    set2 = set(list2)\n",
        "\n",
        "    # Calculate intersection and union\n",
        "    intersection = set1.intersection(set2)\n",
        "    union = set1.union(set2)\n",
        "\n",
        "    # Compute Jaccard Similarity\n",
        "    if not union:\n",
        "        return 0.0  # Avoid division by zero\n",
        "    jaccard_similarity = len(intersection) / len(union)\n",
        "    return jaccard_similarity\n",
        "\n",
        "similarity = jaccard_similarity(cleaned_tokens,reference_tokens)\n",
        "print(f\"Jaccard Similarity: {similarity * 100} %\")\n"
      ],
      "metadata": {
        "colab": {
          "base_uri": "https://localhost:8080/"
        },
        "id": "4rEY5zRmJzlw",
        "outputId": "c663de1c-3f7f-4368-ca34-1b1216273878"
      },
      "execution_count": null,
      "outputs": [
        {
          "output_type": "stream",
          "name": "stdout",
          "text": [
            "Jaccard Similarity: 16.602392959557005 %\n"
          ]
        }
      ]
    },
    {
      "cell_type": "markdown",
      "source": [
        "## 6 Visualizations(2 marks):\n"
      ],
      "metadata": {
        "id": "CJvv-kdk1qtK"
      }
    },
    {
      "cell_type": "code",
      "source": [
        "import matplotlib.pyplot as plt\n",
        "\n",
        "def visualize_pair_merge_freq(vocab_size:List[int], merge_info:List[int])->None:\n",
        "        \"\"\"\n",
        "        visualize growth of vocab size to merge frequencies\n",
        "        \"\"\"\n",
        "\n",
        "        frequencies_y = merge_info\n",
        "        vocab_size_x = [i for i, _ in enumerate(vocab_size, start=1)]\n",
        "\n",
        "\n",
        "        plt.figure(figsize=(10, 6))\n",
        "        plt.plot(vocab_size_x[::10], frequencies_y[::10], color='skyblue')\n",
        "        plt.xlabel('Vocab size')\n",
        "        plt.ylabel('Frequencies')\n",
        "        plt.title('Frequency of Byte Pair Merges per Iteration')\n",
        "        plt.xticks(rotation=45)\n",
        "        plt.legend()\n",
        "        plt.xlim(0,1000)\n",
        "        plt.show()\n",
        "\n",
        "\n",
        "#Visualize x - vocab size, y - merge freq\n",
        "visualize_pair_merge_freq(model.vocab_size, model.merge_info)"
      ],
      "metadata": {
        "colab": {
          "base_uri": "https://localhost:8080/",
          "height": 622
        },
        "id": "EaB9ES5kG66c",
        "outputId": "0bcbbdd4-5901-481d-fb6a-71e6974c840d"
      },
      "execution_count": null,
      "outputs": [
        {
          "output_type": "stream",
          "name": "stderr",
          "text": [
            "WARNING:matplotlib.legend:No artists with labels found to put in legend.  Note that artists whose label start with an underscore are ignored when legend() is called with no argument.\n"
          ]
        },
        {
          "output_type": "display_data",
          "data": {
            "text/plain": [
              "<Figure size 1000x600 with 1 Axes>"
            ],
            "image/png": "[encoded data removed]"
          },
          "metadata": {}
        }
      ]
    }
  ]
}