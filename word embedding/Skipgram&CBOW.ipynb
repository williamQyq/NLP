{
  "cells": [
    {
      "cell_type": "markdown",
      "metadata": {
        "id": "BGv8w_uCD2u4"
      },
      "source": [
        "## Author: Yuqing Qiao\n",
        "## Date: 02/23/2024\n",
        "## Description: Skipgram and CBOW"
      ]
    },
    {
      "cell_type": "markdown",
      "metadata": {
        "id": "jrJQ7BsHC77G"
      },
      "source": [
        "#Task 1 Data Collection:\n",
        "Download the text8 dataset, which is a cleaned version of the first 100MB of the English Wikipedia dump. It is available on several NLP data repositories."
      ]
    },
    {
      "cell_type": "code",
      "execution_count": 1,
      "metadata": {
        "colab": {
          "base_uri": "https://localhost:8080/"
        },
        "id": "5sSPvSEZbUHp",
        "outputId": "66e8cd3d-a775-4723-edb2-cf40fcdc9de6"
      },
      "outputs": [
        {
          "output_type": "stream",
          "name": "stdout",
          "text": [
            "Mounted at /content/drive\n"
          ]
        }
      ],
      "source": [
        "#mount dataset file\n",
        "from google.colab import drive\n",
        "drive.mount('/content/drive')\n",
        "\n",
        "file_path = \"/content/drive/MyDrive/Colab Notebooks/6120NLP/skipgram&CBOW/text8\""
      ]
    },
    {
      "cell_type": "markdown",
      "metadata": {
        "id": "40WYdv50Ebfy"
      },
      "source": [
        "\n",
        "##Task 2 Pre-processing:\n",
        "Tokenize the dataset.\n",
        "Remove stopwords and non-alphabetic tokens.\n",
        "Build a vocabulary of the most frequent words (e.g., top 10,000 or 20,000 words)."
      ]
    },
    {
      "cell_type": "code",
      "execution_count": 2,
      "metadata": {
        "colab": {
          "base_uri": "https://localhost:8080/"
        },
        "id": "tR4RF4aZVEey",
        "outputId": "bd6a8610-98ad-48af-e4ea-510f85d5f303"
      },
      "outputs": [
        {
          "output_type": "stream",
          "name": "stderr",
          "text": [
            "[nltk_data] Downloading package stopwords to /root/nltk_data...\n",
            "[nltk_data]   Unzipping corpora/stopwords.zip.\n",
            "[nltk_data] Downloading package wordnet to /root/nltk_data...\n",
            "[nltk_data] Downloading package punkt to /root/nltk_data...\n",
            "[nltk_data]   Unzipping tokenizers/punkt.zip.\n"
          ]
        }
      ],
      "source": [
        "from nltk.tokenize import word_tokenize\n",
        "from nltk.corpus import stopwords\n",
        "from nltk.stem import PorterStemmer, WordNetLemmatizer\n",
        "import numpy as np\n",
        "import nltk\n",
        "from collections import defaultdict\n",
        "\n",
        "nltk.download('stopwords')\n",
        "nltk.download('wordnet')\n",
        "nltk.download('punkt')\n",
        "\n",
        "# Preprocessing the data\n",
        "\n",
        "wn = nltk.WordNetLemmatizer()\n",
        "stop_words = set(stopwords.words('english'))"
      ]
    },
    {
      "cell_type": "code",
      "execution_count": 3,
      "metadata": {
        "id": "PZJgJznBbf-7"
      },
      "outputs": [],
      "source": [
        "import re\n",
        "import string\n",
        "def clean_text(text):\n",
        "    \"\"\"Clean the text by removing stopwords and non-alphabetic tokens.\"\"\"\n",
        "    text = text.lower()\n",
        "    text = re.sub(r\"http\\S+\", \"\", text)\n",
        "    text = re.sub(r\"www.\\S+\", \"\", text)\n",
        "    text_links_removed = \"\".join([char for char in text if char not in string.punctuation])\n",
        "    text_cleaned = \" \".join([word for word in re.split('\\W+', text_links_removed)\n",
        "        if word not in stop_words])\n",
        "    #text = \" \".join([wn.lemmatize(word) for word in re.split('\\W+', text_cleaned)])\n",
        "    return text_cleaned\n"
      ]
    },
    {
      "cell_type": "code",
      "execution_count": 4,
      "metadata": {
        "colab": {
          "base_uri": "https://localhost:8080/"
        },
        "id": "zOs2qklCJ-PG",
        "outputId": "4746aa30-9f7b-4fe4-cca4-f583873a6631"
      },
      "outputs": [
        {
          "output_type": "stream",
          "name": "stdout",
          "text": [
            "CPU core count:  8\n"
          ]
        }
      ],
      "source": [
        "import os\n",
        "#Hyper parameter\n",
        "max_workers = os.cpu_count()+4\n",
        "print(\"CPU core count: \",os.cpu_count())"
      ]
    },
    {
      "cell_type": "markdown",
      "metadata": {
        "id": "lxcBjHSv4DeC"
      },
      "source": [
        "# Split text to num of threads runnable tasks for processing. clean text and get the frequency of words"
      ]
    },
    {
      "cell_type": "code",
      "execution_count": 5,
      "metadata": {
        "id": "Rhu0CLo3rlpY"
      },
      "outputs": [],
      "source": [
        "from concurrent.futures import ProcessPoolExecutor, as_completed\n",
        "from tqdm import tqdm\n",
        "import os\n",
        "\n",
        "def read_file(file_path):\n",
        "  with open(file_path, 'r', encoding='utf-8') as file:\n",
        "    text = file.read()\n",
        "    return text\n",
        "\n",
        "def chunkify(text, chunk_size:int = 100000):\n",
        "    \"\"\"Divide the words into chunks and process them in parallel.\"\"\"\n",
        "    words = text.split()\n",
        "    for i in range(0, len(words), chunk_size):\n",
        "        yield words[i:i+chunk_size]\n",
        "\n",
        "\n",
        "def process_chunk(chunk):\n",
        "    \"\"\"Process a chunk of the file, tokenizing words.\"\"\"\n",
        "    freq_dict = defaultdict(int)\n",
        "\n",
        "    cleaned_text = clean_text(\" \".join(chunk))\n",
        "    cleaned_chunk = cleaned_text.split()\n",
        "\n",
        "    for token in cleaned_chunk:\n",
        "        freq_dict[token] += 1\n",
        "\n",
        "    return freq_dict,cleaned_text\n",
        "\n",
        "def process_file_in_chunks(file_path):\n",
        "    \"\"\"Divide the file into chunks and process them in parallel.\"\"\"\n",
        "    text = read_file(file_path)\n",
        "    chunks = chunkify(text)\n",
        "\n",
        "    freq_dict = defaultdict(int)\n",
        "    corpus =[]\n",
        "\n",
        "    with ProcessPoolExecutor(max_workers=max_workers) as executor:\n",
        "        futures = [executor.submit(process_chunk,chunk)for chunk in tqdm(chunks,desc=\"Submitting CHunks\")]\n",
        "\n",
        "        # Collect results as they complete\n",
        "        for future in tqdm(as_completed(futures),total=len(futures),desc=\"Processing Chunks\"):\n",
        "            # Collect results as they complete\n",
        "            freq_word,cleaned_chunk = future.result()\n",
        "            corpus.append(cleaned_chunk)\n",
        "\n",
        "            # Add the frequency dictionary to the main dictionary\n",
        "            for word,freq in freq_word.items():\n",
        "                freq_dict[word] += freq\n",
        "\n",
        "    return freq_dict, corpus\n"
      ]
    },
    {
      "cell_type": "code",
      "execution_count": 6,
      "metadata": {
        "colab": {
          "base_uri": "https://localhost:8080/"
        },
        "id": "lkYbFC4kxKEn",
        "outputId": "4c525f3e-6868-4806-f616-3ef7702fc252"
      },
      "outputs": [
        {
          "output_type": "stream",
          "name": "stderr",
          "text": [
            "Submitting CHunks: 1244it [00:35, 35.41it/s]\n",
            "Processing Chunks: 100%|██████████| 1244/1244 [00:44<00:00, 28.19it/s]\n"
          ]
        },
        {
          "output_type": "stream",
          "name": "stdout",
          "text": [
            "\n",
            "Vocab in dict:  828067\n",
            "\n",
            "Texts in corpus:  1244\n",
            "CPU times: user 1min 1s, sys: 16.7 s, total: 1min 18s\n",
            "Wall time: 1min 27s\n"
          ]
        }
      ],
      "source": [
        "%%time\n",
        "#parallel process text to create dict frequency of words\n",
        "freq_dict, corpus = process_file_in_chunks(file_path)\n",
        "\n",
        "print(\"\\nVocab in dict: \", len(freq_dict))\n",
        "print(\"\\nTexts in corpus: \",len(corpus))\n"
      ]
    },
    {
      "cell_type": "code",
      "execution_count": null,
      "metadata": {
        "colab": {
          "base_uri": "https://localhost:8080/"
        },
        "id": "OTQwCuAdmQte",
        "outputId": "cbcfd976-024d-4977-cc40-d58024d6b4aa"
      },
      "outputs": [
        {
          "data": {
            "text/plain": [
              "[('account', 8772),\n",
              " ('hume', 851),\n",
              " ('born', 48741),\n",
              " ('two', 2339753),\n",
              " ('six', 1283953),\n",
              " ('th', 82990),\n",
              " ('april', 28614),\n",
              " ('one', 3776726),\n",
              " ('seven', 1123106),\n",
              " ('old', 38842)]"
            ]
          },
          "execution_count": 7,
          "metadata": {},
          "output_type": "execute_result"
        }
      ],
      "source": [
        "list(freq_dict.items())[:10]"
      ]
    },
    {
      "cell_type": "markdown",
      "metadata": {
        "id": "dkbXtY7vH_Gv"
      },
      "source": [
        "# Before optimization: using ThreadPoolExecutor spent time 7.5 mins, \\#workers = 16\n",
        "\n",
        "Submitting CHunks: 100%|██████████| 17/17 [00:00<00:00, 3021.19it/s]\n",
        "\n",
        "Process Chunks: 100%|██████████| 17/17 [07:31<00:00, 26.57s/it]"
      ]
    },
    {
      "cell_type": "markdown",
      "metadata": {
        "id": "1IvdrgJSMKuU"
      },
      "source": [
        "## Hyper parameters: top k words, context window size 2"
      ]
    },
    {
      "cell_type": "code",
      "execution_count": 7,
      "metadata": {
        "id": "XUYg4q2RXnxd"
      },
      "outputs": [],
      "source": [
        "k = 2000 # top k freq words\n",
        "context_window_size = 2 # context window size\n"
      ]
    },
    {
      "cell_type": "markdown",
      "metadata": {
        "id": "COYneyn3JEL9"
      },
      "source": [
        "## Get top k words and remove non top k freq words from corpus"
      ]
    },
    {
      "cell_type": "code",
      "execution_count": 8,
      "metadata": {
        "id": "kHy1IndSjTdK"
      },
      "outputs": [],
      "source": [
        "import heapq\n",
        "\n",
        "def top_k_words(freq_dict, k):\n",
        "    \"\"\"Find the top k words in a list of dictionaries.\"\"\"\n",
        "    top_words = set()\n",
        "    heap_list = [(-freq,word) for word, freq in freq_dict.items()]\n",
        "    heapq.heapify(heap_list)\n",
        "\n",
        "    cnt = 0\n",
        "    while cnt < k and heap_list:\n",
        "        neg_freq, word = heapq.heappop(heap_list)\n",
        "        top_words.add(word)\n",
        "        cnt += 1\n",
        "\n",
        "    return top_words"
      ]
    },
    {
      "cell_type": "code",
      "execution_count": 9,
      "metadata": {
        "colab": {
          "base_uri": "https://localhost:8080/"
        },
        "id": "x4AZJse-aWOw",
        "outputId": "2842cb93-288e-4ba3-c7f6-ba75614791be"
      },
      "outputs": [
        {
          "output_type": "stream",
          "name": "stdout",
          "text": [
            "2000\n"
          ]
        }
      ],
      "source": [
        "#top k frequent words\n",
        "top_words = top_k_words(freq_dict, k)\n",
        "\n",
        "print(len(top_words))"
      ]
    },
    {
      "cell_type": "code",
      "execution_count": 10,
      "metadata": {
        "id": "lv5eG4Zd3Lw0"
      },
      "outputs": [],
      "source": [
        "#convert words to indexes\n",
        "def words_to_id(words,dict_idx):\n",
        "  return np.array([dict_idx[word] for word in words])\n",
        "\n",
        "#convert indexes to words\n",
        "def id_to_words(ids,dict_idx):\n",
        "  return [dict_idx[idx] for idx in ids]\n"
      ]
    },
    {
      "cell_type": "code",
      "execution_count": 11,
      "metadata": {
        "id": "Di4v-mt3V3wp"
      },
      "outputs": [],
      "source": [
        "def filter_corpus(corpus,top_k_words):\n",
        "  #filter corpus\n",
        "  filtered_corpus = []\n",
        "  for text in corpus:\n",
        "    words = text.split()\n",
        "    words = [word for word in words if word in top_k_words]\n",
        "    filtered_corpus.append(\" \".join(words))\n",
        "  return filtered_corpus"
      ]
    },
    {
      "cell_type": "code",
      "execution_count": 12,
      "metadata": {
        "id": "HhM69J9YWtHJ"
      },
      "outputs": [],
      "source": [
        "# filtered words that are not in top k freq words in corpus\n",
        "filtered_corpus = filter_corpus(corpus,top_words)"
      ]
    },
    {
      "cell_type": "markdown",
      "metadata": {
        "id": "9dxmxC2LSlwE"
      },
      "source": [
        "## TensorFlow tokenizer: Corpus"
      ]
    },
    {
      "cell_type": "code",
      "execution_count": 13,
      "metadata": {
        "id": "NDPZIuRyZDRs"
      },
      "outputs": [],
      "source": [
        "import tensorflow as tf\n",
        "from tensorflow.keras.layers import Embedding, Dense, Lambda\n",
        "from tensorflow.keras.models import Sequential\n",
        "from tensorflow.keras.optimizers import Adam\n",
        "from tensorflow.keras.losses import SparseCategoricalCrossentropy\n",
        "from tensorflow.keras.metrics import SparseCategoricalAccuracy\n",
        "\n",
        "from tensorflow.keras.preprocessing.text import Tokenizer\n",
        "from tensorflow.keras.preprocessing.sequence import pad_sequences\n",
        "import numpy as np\n",
        "import matplotlib.pyplot as plt\n",
        "from sklearn.decomposition import PCA"
      ]
    },
    {
      "cell_type": "code",
      "execution_count": 14,
      "metadata": {
        "id": "IJwG3XVtSE0R",
        "colab": {
          "base_uri": "https://localhost:8080/"
        },
        "outputId": "03e6c329-3961-408e-8b88-ef7d9f2a25d2"
      },
      "outputs": [
        {
          "output_type": "stream",
          "name": "stdout",
          "text": [
            "vocab size:  2001\n"
          ]
        }
      ],
      "source": [
        "# TensorFlow tokenizer\n",
        "\n",
        "tokenizer = Tokenizer(num_words=k,oov_token='<UNK>')\n",
        "tokenizer.fit_on_texts(filtered_corpus)\n",
        "\n",
        "print(\"vocab size: \", len(tokenizer.word_index))"
      ]
    },
    {
      "cell_type": "code",
      "execution_count": 15,
      "metadata": {
        "id": "Df8O7m7lcI9B",
        "colab": {
          "base_uri": "https://localhost:8080/"
        },
        "outputId": "0368ca1a-0e7b-43fe-ad70-ffdd9e47a39c"
      },
      "outputs": [
        {
          "output_type": "stream",
          "name": "stdout",
          "text": [
            "Vocab size:  2001\n"
          ]
        }
      ],
      "source": [
        "#Hyper parameter vocabulary size\n",
        "\n",
        "V = len(tokenizer.word_index)\n",
        "\n",
        "print(\"Vocab size: \",V)"
      ]
    },
    {
      "cell_type": "code",
      "execution_count": 16,
      "metadata": {
        "id": "qQl2i1gYvLae"
      },
      "outputs": [],
      "source": [
        "# corpus words to id for training x and y\n",
        "sequences = tokenizer.texts_to_sequences(filtered_corpus)\n"
      ]
    },
    {
      "cell_type": "markdown",
      "metadata": {
        "id": "56zZzK9WJiSc"
      },
      "source": [
        "## Task 3 Implement CBOW:\n",
        "Create the architecture for CBOW with an embedding layer and a linear layer.\n",
        "Generate training samples. For each word in the dataset, use n surrounding words as context.\n",
        "Train the model using a suitable optimizer and loss function.\n",
        "Extract word embeddings for the vocabulary."
      ]
    },
    {
      "cell_type": "code",
      "execution_count": null,
      "metadata": {
        "id": "wsIAvU2Yvccp"
      },
      "outputs": [],
      "source": [
        "# generate context to word sequence pair\n",
        "def cbow_context_target_pairs(sequence, window_size):\n",
        "    contexts = []\n",
        "    targets = []\n",
        "    for i in range(window_size, len(sequence)-window_size):\n",
        "      start = i - window_size\n",
        "      end = i + window_size + 1\n",
        "\n",
        "      context = sequence[start:i] + sequence[i+1:end]\n",
        "      target = sequence[i]\n",
        "      contexts.append(context)\n",
        "      targets.append(target)\n",
        "\n",
        "    return contexts, targets\n",
        "\n",
        "def generate_cbow_context_target_pairs(sequences, window_size):\n",
        "  # context list and target word\n",
        "\n",
        "  context_length = window_size * 2\n",
        "  total_contexts = []\n",
        "  total_targets = []\n",
        "\n",
        "  # submit context target pair future tasks\n",
        "  with ProcessPoolExecutor(max_workers=max_workers) as executor:\n",
        "    futures = [executor.submit(cbow_context_target_pairs,sequence,window_size) for sequence in sequences]\n",
        "\n",
        "    # collect results\n",
        "    for future in tqdm(as_completed(futures),total=len(futures)):\n",
        "      contexts, targets = future.result()\n",
        "      total_contexts.extend(contexts)\n",
        "      total_targets.extend(targets)\n",
        "\n",
        "  return np.array(total_contexts), np.array(total_targets)"
      ]
    },
    {
      "cell_type": "code",
      "execution_count": null,
      "metadata": {
        "colab": {
          "base_uri": "https://localhost:8080/"
        },
        "id": "TIEKx8OZUH5V",
        "outputId": "0543613d-0c65-4e36-b2c6-6c738aeb136d"
      },
      "outputs": [
        {
          "name": "stderr",
          "output_type": "stream",
          "text": [
            "100%|██████████| 1244/1244 [01:53<00:00, 10.95it/s]\n"
          ]
        }
      ],
      "source": [
        "# cbow context to sequences, target words\n",
        "cbow_context_seqs, cbow_target_seqs = generate_cbow_context_target_pairs(sequences, context_window_size)\n"
      ]
    },
    {
      "cell_type": "code",
      "execution_count": null,
      "metadata": {
        "id": "9vPOawM9tgit"
      },
      "outputs": [],
      "source": [
        "#same context size, no need for padding\n",
        "\n",
        "\n",
        "# max_len = max([len(x) for x in cbow_context_seqs])\n",
        "\n",
        "#max_len = context_window_size*2\n",
        "# train_X = pad_sequences(cbow_context_seqs, maxlen=max_len)\n"
      ]
    },
    {
      "cell_type": "code",
      "execution_count": 19,
      "metadata": {
        "id": "8glgafTlQORN"
      },
      "outputs": [],
      "source": [
        "# Hyper parameter\n",
        "embedding_size = 128\n",
        "\n",
        "#context_window_size\n",
        "#V\n",
        "#k"
      ]
    },
    {
      "cell_type": "code",
      "execution_count": null,
      "metadata": {
        "id": "-hT667gjVxZc"
      },
      "outputs": [],
      "source": [
        "# CBOW Model\n",
        "\n",
        "def build_model(V, embed_size):\n",
        "  # Build the CBOW model\n",
        "  model = Sequential()\n",
        "  model.add(Embedding(input_dim=V,\n",
        "                      output_dim=embed_size,\n",
        "                      input_length=2*context_window_size))\n",
        "  model.add(Lambda(lambda x: tf.reduce_mean(x, axis=1)))\n",
        "  model.add(Dense(units=V, activation='softmax'))\n",
        "\n",
        "  # Compile the model\n",
        "  model.compile(optimizer=Adam(learning_rate=0.025), loss='sparse_categorical_crossentropy')\n",
        "\n",
        "  return model\n"
      ]
    },
    {
      "cell_type": "code",
      "execution_count": null,
      "metadata": {
        "colab": {
          "base_uri": "https://localhost:8080/"
        },
        "id": "UeSkSqn_V1DH",
        "outputId": "ffe0d7d0-e900-4a7b-bd39-0c694b5ad149"
      },
      "outputs": [
        {
          "name": "stdout",
          "output_type": "stream",
          "text": [
            "(69646949, 4)\n",
            "(69646949,)\n"
          ]
        }
      ],
      "source": [
        "train_X = cbow_context_seqs\n",
        "train_y = cbow_target_seqs\n",
        "\n",
        "print(train_X.shape)\n",
        "print(train_y.shape)"
      ]
    },
    {
      "cell_type": "code",
      "execution_count": null,
      "metadata": {
        "colab": {
          "base_uri": "https://localhost:8080/"
        },
        "id": "ejgdLlnvWPHj",
        "outputId": "eae2ae05-4a15-4f76-9839-7489d40c9113"
      },
      "outputs": [
        {
          "name": "stdout",
          "output_type": "stream",
          "text": [
            "Model: \"sequential_4\"\n",
            "_________________________________________________________________\n",
            " Layer (type)                Output Shape              Param #   \n",
            "=================================================================\n",
            " embedding_4 (Embedding)     (None, 4, 100)            1000100   \n",
            "                                                                 \n",
            " lambda_4 (Lambda)           (None, 100)               0         \n",
            "                                                                 \n",
            " dense_4 (Dense)             (None, 10001)             1010101   \n",
            "                                                                 \n",
            "=================================================================\n",
            "Total params: 2010201 (7.67 MB)\n",
            "Trainable params: 2010201 (7.67 MB)\n",
            "Non-trainable params: 0 (0.00 Byte)\n",
            "_________________________________________________________________\n"
          ]
        }
      ],
      "source": [
        "#CBOW model\n",
        "cbow_model = build_model(V, embedding_size)\n",
        "cbow_model.summary()\n"
      ]
    },
    {
      "cell_type": "code",
      "execution_count": null,
      "metadata": {
        "colab": {
          "base_uri": "https://localhost:8080/"
        },
        "id": "z907frP4yZJe",
        "outputId": "2744c115-6007-42b4-e450-b4228e66d6f6"
      },
      "outputs": [
        {
          "name": "stdout",
          "output_type": "stream",
          "text": [
            "Epoch 1/3\n",
            "17004/17004 [==============================] - ETA: 0s - loss: 5.6027"
          ]
        },
        {
          "name": "stderr",
          "output_type": "stream",
          "text": [
            "WARNING:tensorflow:Early stopping conditioned on metric `val_loss` which is not available. Available metrics are: loss\n"
          ]
        },
        {
          "name": "stdout",
          "output_type": "stream",
          "text": [
            "\b\b\b\b\b\b\b\b\b\b\b\b\b\b\b\b\b\b\b\b\b\b\b\b\b\b\b\b\b\b\b\b\b\b\b\b\b\b\b\b\b\b\b\b\b\b\b\b\b\b\b\b\b\b\b\b\b\b\b\b\b\b\b\b\b\b\b\b\b\r17004/17004 [==============================] - 135s 8ms/step - loss: 5.6027\n",
            "Epoch 2/3\n",
            "17004/17004 [==============================] - ETA: 0s - loss: 5.5782"
          ]
        },
        {
          "name": "stderr",
          "output_type": "stream",
          "text": [
            "WARNING:tensorflow:Early stopping conditioned on metric `val_loss` which is not available. Available metrics are: loss\n"
          ]
        },
        {
          "name": "stdout",
          "output_type": "stream",
          "text": [
            "\b\b\b\b\b\b\b\b\b\b\b\b\b\b\b\b\b\b\b\b\b\b\b\b\b\b\b\b\b\b\b\b\b\b\b\b\b\b\b\b\b\b\b\b\b\b\b\b\b\b\b\b\b\b\b\b\b\b\b\b\b\b\b\b\b\b\b\b\b\r17004/17004 [==============================] - 104s 6ms/step - loss: 5.5782\n",
            "Epoch 3/3\n",
            "17004/17004 [==============================] - ETA: 0s - loss: 5.5765"
          ]
        },
        {
          "name": "stderr",
          "output_type": "stream",
          "text": [
            "WARNING:tensorflow:Early stopping conditioned on metric `val_loss` which is not available. Available metrics are: loss\n"
          ]
        },
        {
          "name": "stdout",
          "output_type": "stream",
          "text": [
            "\b\b\b\b\b\b\b\b\b\b\b\b\b\b\b\b\b\b\b\b\b\b\b\b\b\b\b\b\b\b\b\b\b\b\b\b\b\b\b\b\b\b\b\b\b\b\b\b\b\b\b\b\b\b\b\b\b\b\b\b\b\b\b\b\b\b\b\b\b\r17004/17004 [==============================] - 102s 6ms/step - loss: 5.5765\n"
          ]
        },
        {
          "data": {
            "text/plain": [
              "<keras.src.callbacks.History at 0x7855baa090f0>"
            ]
          },
          "execution_count": 37,
          "metadata": {},
          "output_type": "execute_result"
        }
      ],
      "source": [
        "#Train CBOW model\n",
        "from tensorflow.keras.callbacks import EarlyStopping\n",
        "\n",
        "early_stopping = EarlyStopping(monitor='val_loss', patience=3, restore_best_weights=True)\n",
        "\n",
        "cbow_model.fit(\n",
        "    x=train_X, y=train_y,\n",
        "    batch_size = 4096,\n",
        "    epochs=3,\n",
        "    callbacks=[early_stopping],\n",
        "    verbose=1)\n"
      ]
    },
    {
      "cell_type": "markdown",
      "metadata": {
        "id": "Tau5mYUU8811"
      },
      "source": [
        "# CBOW Embedings"
      ]
    },
    {
      "cell_type": "code",
      "execution_count": null,
      "metadata": {
        "colab": {
          "base_uri": "https://localhost:8080/",
          "height": 273
        },
        "id": "4dmV8kBYe5SF",
        "outputId": "248b92f8-2e2b-4ae4-a185-b9bcf05fc845"
      },
      "outputs": [
        {
          "name": "stdout",
          "output_type": "stream",
          "text": [
            "(10001, 100)\n"
          ]
        },
        {
          "data": {
            "application/vnd.google.colaboratory.intrinsic+json": {
              "type": "dataframe"
            },
            "text/html": [
              "\n",
              "  <div id=\"df-d427e6a7-ec4c-4992-9141-0ee7290739da\" class=\"colab-df-container\">\n",
              "    <div>\n",
              "<style scoped>\n",
              "    .dataframe tbody tr th:only-of-type {\n",
              "        vertical-align: middle;\n",
              "    }\n",
              "\n",
              "    .dataframe tbody tr th {\n",
              "        vertical-align: top;\n",
              "    }\n",
              "\n",
              "    .dataframe thead th {\n",
              "        text-align: right;\n",
              "    }\n",
              "</style>\n",
              "<table border=\"1\" class=\"dataframe\">\n",
              "  <thead>\n",
              "    <tr style=\"text-align: right;\">\n",
              "      <th></th>\n",
              "      <th>0</th>\n",
              "      <th>1</th>\n",
              "      <th>2</th>\n",
              "      <th>3</th>\n",
              "      <th>4</th>\n",
              "      <th>5</th>\n",
              "      <th>6</th>\n",
              "      <th>7</th>\n",
              "      <th>8</th>\n",
              "      <th>9</th>\n",
              "      <th>...</th>\n",
              "      <th>90</th>\n",
              "      <th>91</th>\n",
              "      <th>92</th>\n",
              "      <th>93</th>\n",
              "      <th>94</th>\n",
              "      <th>95</th>\n",
              "      <th>96</th>\n",
              "      <th>97</th>\n",
              "      <th>98</th>\n",
              "      <th>99</th>\n",
              "    </tr>\n",
              "  </thead>\n",
              "  <tbody>\n",
              "    <tr>\n",
              "      <th>&lt;UNK&gt;</th>\n",
              "      <td>0.019586</td>\n",
              "      <td>0.032067</td>\n",
              "      <td>0.035112</td>\n",
              "      <td>-0.006281</td>\n",
              "      <td>-0.046120</td>\n",
              "      <td>0.001072</td>\n",
              "      <td>-0.019500</td>\n",
              "      <td>0.049969</td>\n",
              "      <td>-0.027328</td>\n",
              "      <td>0.006783</td>\n",
              "      <td>...</td>\n",
              "      <td>-0.042754</td>\n",
              "      <td>0.010400</td>\n",
              "      <td>-0.017955</td>\n",
              "      <td>-0.010453</td>\n",
              "      <td>-0.034061</td>\n",
              "      <td>0.008453</td>\n",
              "      <td>-0.030823</td>\n",
              "      <td>0.025729</td>\n",
              "      <td>-0.022810</td>\n",
              "      <td>0.002806</td>\n",
              "    </tr>\n",
              "    <tr>\n",
              "      <th>one</th>\n",
              "      <td>-0.549745</td>\n",
              "      <td>-0.535197</td>\n",
              "      <td>0.059421</td>\n",
              "      <td>-0.417282</td>\n",
              "      <td>-0.240004</td>\n",
              "      <td>-0.174795</td>\n",
              "      <td>0.263374</td>\n",
              "      <td>-0.517722</td>\n",
              "      <td>-0.420472</td>\n",
              "      <td>-0.134092</td>\n",
              "      <td>...</td>\n",
              "      <td>-0.886943</td>\n",
              "      <td>-0.276862</td>\n",
              "      <td>-0.673471</td>\n",
              "      <td>0.780026</td>\n",
              "      <td>0.938356</td>\n",
              "      <td>-0.727269</td>\n",
              "      <td>-0.119167</td>\n",
              "      <td>-0.148677</td>\n",
              "      <td>-0.561892</td>\n",
              "      <td>-0.412395</td>\n",
              "    </tr>\n",
              "    <tr>\n",
              "      <th>zero</th>\n",
              "      <td>0.048027</td>\n",
              "      <td>0.204600</td>\n",
              "      <td>-0.222074</td>\n",
              "      <td>0.085242</td>\n",
              "      <td>0.065988</td>\n",
              "      <td>0.019467</td>\n",
              "      <td>0.127048</td>\n",
              "      <td>0.232858</td>\n",
              "      <td>0.168859</td>\n",
              "      <td>-0.462567</td>\n",
              "      <td>...</td>\n",
              "      <td>0.079901</td>\n",
              "      <td>0.331933</td>\n",
              "      <td>0.189814</td>\n",
              "      <td>-0.070538</td>\n",
              "      <td>-0.020285</td>\n",
              "      <td>-0.018780</td>\n",
              "      <td>-0.045824</td>\n",
              "      <td>0.067248</td>\n",
              "      <td>0.050471</td>\n",
              "      <td>0.029892</td>\n",
              "    </tr>\n",
              "    <tr>\n",
              "      <th>two</th>\n",
              "      <td>0.069318</td>\n",
              "      <td>-0.309314</td>\n",
              "      <td>0.018670</td>\n",
              "      <td>0.240106</td>\n",
              "      <td>-0.108474</td>\n",
              "      <td>0.095792</td>\n",
              "      <td>0.093115</td>\n",
              "      <td>-0.102656</td>\n",
              "      <td>0.024929</td>\n",
              "      <td>0.105946</td>\n",
              "      <td>...</td>\n",
              "      <td>-0.061441</td>\n",
              "      <td>-0.390333</td>\n",
              "      <td>-0.058656</td>\n",
              "      <td>-0.092404</td>\n",
              "      <td>0.049985</td>\n",
              "      <td>0.085763</td>\n",
              "      <td>-0.060571</td>\n",
              "      <td>-0.029293</td>\n",
              "      <td>-0.198810</td>\n",
              "      <td>-0.120620</td>\n",
              "    </tr>\n",
              "    <tr>\n",
              "      <th>nine</th>\n",
              "      <td>0.132089</td>\n",
              "      <td>0.060155</td>\n",
              "      <td>0.155345</td>\n",
              "      <td>0.093602</td>\n",
              "      <td>0.138189</td>\n",
              "      <td>0.250400</td>\n",
              "      <td>0.107771</td>\n",
              "      <td>0.037310</td>\n",
              "      <td>-0.036837</td>\n",
              "      <td>-0.161549</td>\n",
              "      <td>...</td>\n",
              "      <td>-0.023878</td>\n",
              "      <td>-0.507402</td>\n",
              "      <td>-0.018635</td>\n",
              "      <td>0.100544</td>\n",
              "      <td>-0.061651</td>\n",
              "      <td>0.177738</td>\n",
              "      <td>0.050309</td>\n",
              "      <td>0.229738</td>\n",
              "      <td>0.294245</td>\n",
              "      <td>-0.105073</td>\n",
              "    </tr>\n",
              "  </tbody>\n",
              "</table>\n",
              "<p>5 rows × 100 columns</p>\n",
              "</div>\n",
              "    <div class=\"colab-df-buttons\">\n",
              "\n",
              "  <div class=\"colab-df-container\">\n",
              "    <button class=\"colab-df-convert\" onclick=\"convertToInteractive('df-d427e6a7-ec4c-4992-9141-0ee7290739da')\"\n",
              "            title=\"Convert this dataframe to an interactive table.\"\n",
              "            style=\"display:none;\">\n",
              "\n",
              "  <svg xmlns=\"http://www.w3.org/2000/svg\" height=\"24px\" viewBox=\"0 -960 960 960\">\n",
              "    <path d=\"M120-120v-720h720v720H120Zm60-500h600v-160H180v160Zm220 220h160v-160H400v160Zm0 220h160v-160H400v160ZM180-400h160v-160H180v160Zm440 0h160v-160H620v160ZM180-180h160v-160H180v160Zm440 0h160v-160H620v160Z\"/>\n",
              "  </svg>\n",
              "    </button>\n",
              "\n",
              "  <style>\n",
              "    .colab-df-container {\n",
              "      display:flex;\n",
              "      gap: 12px;\n",
              "    }\n",
              "\n",
              "    .colab-df-convert {\n",
              "      background-color: #E8F0FE;\n",
              "      border: none;\n",
              "      border-radius: 50%;\n",
              "      cursor: pointer;\n",
              "      display: none;\n",
              "      fill: #1967D2;\n",
              "      height: 32px;\n",
              "      padding: 0 0 0 0;\n",
              "      width: 32px;\n",
              "    }\n",
              "\n",
              "    .colab-df-convert:hover {\n",
              "      background-color: #E2EBFA;\n",
              "      box-shadow: 0px 1px 2px rgba(60, 64, 67, 0.3), 0px 1px 3px 1px rgba(60, 64, 67, 0.15);\n",
              "      fill: #174EA6;\n",
              "    }\n",
              "\n",
              "    .colab-df-buttons div {\n",
              "      margin-bottom: 4px;\n",
              "    }\n",
              "\n",
              "    [theme=dark] .colab-df-convert {\n",
              "      background-color: #3B4455;\n",
              "      fill: #D2E3FC;\n",
              "    }\n",
              "\n",
              "    [theme=dark] .colab-df-convert:hover {\n",
              "      background-color: #434B5C;\n",
              "      box-shadow: 0px 1px 3px 1px rgba(0, 0, 0, 0.15);\n",
              "      filter: drop-shadow(0px 1px 2px rgba(0, 0, 0, 0.3));\n",
              "      fill: #FFFFFF;\n",
              "    }\n",
              "  </style>\n",
              "\n",
              "    <script>\n",
              "      const buttonEl =\n",
              "        document.querySelector('#df-d427e6a7-ec4c-4992-9141-0ee7290739da button.colab-df-convert');\n",
              "      buttonEl.style.display =\n",
              "        google.colab.kernel.accessAllowed ? 'block' : 'none';\n",
              "\n",
              "      async function convertToInteractive(key) {\n",
              "        const element = document.querySelector('#df-d427e6a7-ec4c-4992-9141-0ee7290739da');\n",
              "        const dataTable =\n",
              "          await google.colab.kernel.invokeFunction('convertToInteractive',\n",
              "                                                    [key], {});\n",
              "        if (!dataTable) return;\n",
              "\n",
              "        const docLinkHtml = 'Like what you see? Visit the ' +\n",
              "          '<a target=\"_blank\" href=https://colab.research.google.com/notebooks/data_table.ipynb>data table notebook</a>'\n",
              "          + ' to learn more about interactive tables.';\n",
              "        element.innerHTML = '';\n",
              "        dataTable['output_type'] = 'display_data';\n",
              "        await google.colab.output.renderOutput(dataTable, element);\n",
              "        const docLink = document.createElement('div');\n",
              "        docLink.innerHTML = docLinkHtml;\n",
              "        element.appendChild(docLink);\n",
              "      }\n",
              "    </script>\n",
              "  </div>\n",
              "\n",
              "\n",
              "<div id=\"df-7b493c5d-7c2e-4e32-8075-7140433c2bb7\">\n",
              "  <button class=\"colab-df-quickchart\" onclick=\"quickchart('df-7b493c5d-7c2e-4e32-8075-7140433c2bb7')\"\n",
              "            title=\"Suggest charts\"\n",
              "            style=\"display:none;\">\n",
              "\n",
              "<svg xmlns=\"http://www.w3.org/2000/svg\" height=\"24px\"viewBox=\"0 0 24 24\"\n",
              "     width=\"24px\">\n",
              "    <g>\n",
              "        <path d=\"M19 3H5c-1.1 0-2 .9-2 2v14c0 1.1.9 2 2 2h14c1.1 0 2-.9 2-2V5c0-1.1-.9-2-2-2zM9 17H7v-7h2v7zm4 0h-2V7h2v10zm4 0h-2v-4h2v4z\"/>\n",
              "    </g>\n",
              "</svg>\n",
              "  </button>\n",
              "\n",
              "<style>\n",
              "  .colab-df-quickchart {\n",
              "      --bg-color: #E8F0FE;\n",
              "      --fill-color: #1967D2;\n",
              "      --hover-bg-color: #E2EBFA;\n",
              "      --hover-fill-color: #174EA6;\n",
              "      --disabled-fill-color: #AAA;\n",
              "      --disabled-bg-color: #DDD;\n",
              "  }\n",
              "\n",
              "  [theme=dark] .colab-df-quickchart {\n",
              "      --bg-color: #3B4455;\n",
              "      --fill-color: #D2E3FC;\n",
              "      --hover-bg-color: #434B5C;\n",
              "      --hover-fill-color: #FFFFFF;\n",
              "      --disabled-bg-color: #3B4455;\n",
              "      --disabled-fill-color: #666;\n",
              "  }\n",
              "\n",
              "  .colab-df-quickchart {\n",
              "    background-color: var(--bg-color);\n",
              "    border: none;\n",
              "    border-radius: 50%;\n",
              "    cursor: pointer;\n",
              "    display: none;\n",
              "    fill: var(--fill-color);\n",
              "    height: 32px;\n",
              "    padding: 0;\n",
              "    width: 32px;\n",
              "  }\n",
              "\n",
              "  .colab-df-quickchart:hover {\n",
              "    background-color: var(--hover-bg-color);\n",
              "    box-shadow: 0 1px 2px rgba(60, 64, 67, 0.3), 0 1px 3px 1px rgba(60, 64, 67, 0.15);\n",
              "    fill: var(--button-hover-fill-color);\n",
              "  }\n",
              "\n",
              "  .colab-df-quickchart-complete:disabled,\n",
              "  .colab-df-quickchart-complete:disabled:hover {\n",
              "    background-color: var(--disabled-bg-color);\n",
              "    fill: var(--disabled-fill-color);\n",
              "    box-shadow: none;\n",
              "  }\n",
              "\n",
              "  .colab-df-spinner {\n",
              "    border: 2px solid var(--fill-color);\n",
              "    border-color: transparent;\n",
              "    border-bottom-color: var(--fill-color);\n",
              "    animation:\n",
              "      spin 1s steps(1) infinite;\n",
              "  }\n",
              "\n",
              "  @keyframes spin {\n",
              "    0% {\n",
              "      border-color: transparent;\n",
              "      border-bottom-color: var(--fill-color);\n",
              "      border-left-color: var(--fill-color);\n",
              "    }\n",
              "    20% {\n",
              "      border-color: transparent;\n",
              "      border-left-color: var(--fill-color);\n",
              "      border-top-color: var(--fill-color);\n",
              "    }\n",
              "    30% {\n",
              "      border-color: transparent;\n",
              "      border-left-color: var(--fill-color);\n",
              "      border-top-color: var(--fill-color);\n",
              "      border-right-color: var(--fill-color);\n",
              "    }\n",
              "    40% {\n",
              "      border-color: transparent;\n",
              "      border-right-color: var(--fill-color);\n",
              "      border-top-color: var(--fill-color);\n",
              "    }\n",
              "    60% {\n",
              "      border-color: transparent;\n",
              "      border-right-color: var(--fill-color);\n",
              "    }\n",
              "    80% {\n",
              "      border-color: transparent;\n",
              "      border-right-color: var(--fill-color);\n",
              "      border-bottom-color: var(--fill-color);\n",
              "    }\n",
              "    90% {\n",
              "      border-color: transparent;\n",
              "      border-bottom-color: var(--fill-color);\n",
              "    }\n",
              "  }\n",
              "</style>\n",
              "\n",
              "  <script>\n",
              "    async function quickchart(key) {\n",
              "      const quickchartButtonEl =\n",
              "        document.querySelector('#' + key + ' button');\n",
              "      quickchartButtonEl.disabled = true;  // To prevent multiple clicks.\n",
              "      quickchartButtonEl.classList.add('colab-df-spinner');\n",
              "      try {\n",
              "        const charts = await google.colab.kernel.invokeFunction(\n",
              "            'suggestCharts', [key], {});\n",
              "      } catch (error) {\n",
              "        console.error('Error during call to suggestCharts:', error);\n",
              "      }\n",
              "      quickchartButtonEl.classList.remove('colab-df-spinner');\n",
              "      quickchartButtonEl.classList.add('colab-df-quickchart-complete');\n",
              "    }\n",
              "    (() => {\n",
              "      let quickchartButtonEl =\n",
              "        document.querySelector('#df-7b493c5d-7c2e-4e32-8075-7140433c2bb7 button');\n",
              "      quickchartButtonEl.style.display =\n",
              "        google.colab.kernel.accessAllowed ? 'block' : 'none';\n",
              "    })();\n",
              "  </script>\n",
              "</div>\n",
              "\n",
              "    </div>\n",
              "  </div>\n"
            ],
            "text/plain": [
              "             0         1         2         3         4         5         6   \\\n",
              "<UNK>  0.019586  0.032067  0.035112 -0.006281 -0.046120  0.001072 -0.019500   \n",
              "one   -0.549745 -0.535197  0.059421 -0.417282 -0.240004 -0.174795  0.263374   \n",
              "zero   0.048027  0.204600 -0.222074  0.085242  0.065988  0.019467  0.127048   \n",
              "two    0.069318 -0.309314  0.018670  0.240106 -0.108474  0.095792  0.093115   \n",
              "nine   0.132089  0.060155  0.155345  0.093602  0.138189  0.250400  0.107771   \n",
              "\n",
              "             7         8         9   ...        90        91        92  \\\n",
              "<UNK>  0.049969 -0.027328  0.006783  ... -0.042754  0.010400 -0.017955   \n",
              "one   -0.517722 -0.420472 -0.134092  ... -0.886943 -0.276862 -0.673471   \n",
              "zero   0.232858  0.168859 -0.462567  ...  0.079901  0.331933  0.189814   \n",
              "two   -0.102656  0.024929  0.105946  ... -0.061441 -0.390333 -0.058656   \n",
              "nine   0.037310 -0.036837 -0.161549  ... -0.023878 -0.507402 -0.018635   \n",
              "\n",
              "             93        94        95        96        97        98        99  \n",
              "<UNK> -0.010453 -0.034061  0.008453 -0.030823  0.025729 -0.022810  0.002806  \n",
              "one    0.780026  0.938356 -0.727269 -0.119167 -0.148677 -0.561892 -0.412395  \n",
              "zero  -0.070538 -0.020285 -0.018780 -0.045824  0.067248  0.050471  0.029892  \n",
              "two   -0.092404  0.049985  0.085763 -0.060571 -0.029293 -0.198810 -0.120620  \n",
              "nine   0.100544 -0.061651  0.177738  0.050309  0.229738  0.294245 -0.105073  \n",
              "\n",
              "[5 rows x 100 columns]"
            ]
          },
          "execution_count": 39,
          "metadata": {},
          "output_type": "execute_result"
        }
      ],
      "source": [
        "import pandas as pd\n",
        "\n",
        "cbow_embedding_weights = cbow_model.get_layer('embedding_4').get_weights()[0]\n",
        "print(cbow_embedding_weights.shape)\n",
        "\n",
        "word_index = tokenizer.word_index\n",
        "pd.DataFrame(cbow_embedding_weights,index=[word for word,idx in word_index.items()]).head()\n"
      ]
    },
    {
      "cell_type": "code",
      "execution_count": null,
      "metadata": {
        "id": "8ROg2VYYPzqO"
      },
      "outputs": [],
      "source": [
        "# get corresponding word embedding vector\n",
        "def get_cbow_embedding(word):\n",
        "  word_index = tokenizer.word_index[word]\n",
        "  if word_index is None:\n",
        "    return None\n",
        "\n",
        "  cbow_embedding_weights = cbow_model.get_layer('embedding_4').get_weights()[0]\n",
        "\n",
        "  embedding = cbow_embedding_weights[word_index]\n",
        "  return embedding\n"
      ]
    },
    {
      "cell_type": "markdown",
      "metadata": {
        "id": "2OUb54UX-IBb"
      },
      "source": [
        "# Task 4 Implement Skipgram:"
      ]
    },
    {
      "cell_type": "markdown",
      "metadata": {
        "id": "2y2zjXbv0CKN"
      },
      "source": [
        "## Optimization: using negative sampling"
      ]
    },
    {
      "cell_type": "code",
      "execution_count": null,
      "metadata": {
        "id": "PNhO_29F0xEV"
      },
      "outputs": [],
      "source": [
        "# # Define the negative sampling function\n",
        "\n",
        "# def negative_sampling(target_word, context_words, sampling_table):\n",
        "#   # Sample negative words based on the probability distribution\n",
        "#   negative_words = tf.random.categorical(sampling_table, num_samples=num_negative_samples)\n",
        "#   return target_word, context_words, negative_words\n"
      ]
    },
    {
      "cell_type": "code",
      "execution_count": 17,
      "metadata": {
        "id": "2lZML4FoQmZN"
      },
      "outputs": [],
      "source": [
        "# generate context to word sequence pair\n",
        "def skipgram_pairs(sequence, window_size):\n",
        "    skip_grams = []\n",
        "    for i in range(window_size, len(sequence)-window_size):\n",
        "      start = i - window_size\n",
        "      end = i + window_size + 1\n",
        "\n",
        "      context = sequence[start:i] + sequence[i+1:end]\n",
        "      target = sequence[i]\n",
        "      for context_word in context:\n",
        "        if context_word != target:\n",
        "          skip_grams.append((target,context_word))\n",
        "\n",
        "    return np.array(skip_grams)\n",
        "\n",
        "# create target to context skipgram pairs\n",
        "def generate_skipgram_pairs(sequences, window_size):\n",
        "  # context list and target word\n",
        "\n",
        "  context_length = window_size * 2\n",
        "  pairs = []\n",
        "\n",
        "  # submit context target pair future tasks\n",
        "  with ProcessPoolExecutor(max_workers=max_workers) as executor:\n",
        "    futures = [executor.submit(skipgram_pairs,sequence,window_size) for sequence in sequences]\n",
        "\n",
        "    # collect results\n",
        "    for future in tqdm(as_completed(futures),total=len(futures)):\n",
        "      skip_grams = future.result()\n",
        "      pairs.extend(skip_grams)\n",
        "\n",
        "  return pairs\n"
      ]
    },
    {
      "cell_type": "code",
      "execution_count": 18,
      "metadata": {
        "colab": {
          "base_uri": "https://localhost:8080/"
        },
        "id": "b2J5Tjv_wnuH",
        "outputId": "baaba68e-77fa-4f76-a094-ce662a8af7e9"
      },
      "outputs": [
        {
          "output_type": "stream",
          "name": "stderr",
          "text": [
            "100%|██████████| 1244/1244 [00:59<00:00, 20.99it/s]\n"
          ]
        }
      ],
      "source": [
        "# X is the skipgram center word, y is the context word.\n",
        "skip_grams = generate_skipgram_pairs(sequences,context_window_size)\n"
      ]
    },
    {
      "cell_type": "code",
      "source": [
        "# Prepare X, y for skip-gram training\n",
        "train_x_sgram = np.array([x[0] for x in skip_grams])\n",
        "train_y_sgram = np.array([x[1] for x in skip_grams])\n",
        "\n",
        "# Reshape train_x_sgram to match the input shape of the model\n",
        "train_x_sgram = np.expand_dims(train_x_sgram, axis=-1)\n",
        "\n",
        "del skip_grams\n"
      ],
      "metadata": {
        "id": "u3WmsqCQr_y5"
      },
      "execution_count": 20,
      "outputs": []
    },
    {
      "cell_type": "code",
      "execution_count": 21,
      "metadata": {
        "id": "JGP7vsLbw5IM"
      },
      "outputs": [],
      "source": [
        "from tensorflow.keras.models import Sequential\n",
        "from tensorflow.keras.layers import Embedding, Flatten, Dense,Input\n",
        "from tensorflow.keras.optimizers import Adam\n",
        "\n",
        "def build_skipgram_model(vocab_size, embedding_dim):\n",
        "\n",
        "    model = Sequential()\n",
        "    model.add(Embedding(input_dim=vocab_size,\n",
        "                        output_dim=embedding_dim,\n",
        "                        name='word_embedding'))\n",
        "    # model.add(Lambda(lambda x: tf.reduce_mean(x,axis=1)))\n",
        "    model.add(Dense(units=vocab_size, activation='softmax')) # predicting context words shown or not shown\n",
        "    model.compile(loss='sparse_categorical_crossentropy', optimizer=Adam(learning_rate=0.025))\n",
        "\n",
        "    return model\n"
      ]
    },
    {
      "cell_type": "code",
      "execution_count": 22,
      "metadata": {
        "colab": {
          "base_uri": "https://localhost:8080/"
        },
        "id": "pOyScxQjg0VO",
        "outputId": "cfbe4729-4042-4bca-a298-21e667f1b573"
      },
      "outputs": [
        {
          "output_type": "stream",
          "name": "stdout",
          "text": [
            "Model: \"sequential\"\n",
            "_________________________________________________________________\n",
            " Layer (type)                Output Shape              Param #   \n",
            "=================================================================\n",
            " word_embedding (Embedding)  (None, None, 128)         256128    \n",
            "                                                                 \n",
            " dense (Dense)               (None, None, 2001)        258129    \n",
            "                                                                 \n",
            "=================================================================\n",
            "Total params: 514257 (1.96 MB)\n",
            "Trainable params: 514257 (1.96 MB)\n",
            "Non-trainable params: 0 (0.00 Byte)\n",
            "_________________________________________________________________\n"
          ]
        }
      ],
      "source": [
        "sgram_model = build_skipgram_model(V, embedding_dim=embedding_size)\n",
        "sgram_model.summary()"
      ]
    },
    {
      "cell_type": "code",
      "execution_count": 23,
      "metadata": {
        "colab": {
          "base_uri": "https://localhost:8080/"
        },
        "id": "A82HqAORCKcM",
        "outputId": "0f5c6f20-6c7e-450e-8476-8515d526b497"
      },
      "outputs": [
        {
          "output_type": "stream",
          "name": "stdout",
          "text": [
            "Epoch 1/3\n",
            "50965/50965 [==============================] - 208s 4ms/step - loss: 5.5830\n",
            "Epoch 2/3\n",
            "50965/50965 [==============================] - 177s 3ms/step - loss: 5.5807\n",
            "Epoch 3/3\n",
            "50965/50965 [==============================] - 175s 3ms/step - loss: 5.5806\n"
          ]
        },
        {
          "output_type": "execute_result",
          "data": {
            "text/plain": [
              "<keras.src.callbacks.History at 0x7d00ddfbd450>"
            ]
          },
          "metadata": {},
          "execution_count": 23
        }
      ],
      "source": [
        "\n",
        "\n",
        "sgram_model.fit(\n",
        "    train_x_sgram,\n",
        "    train_y_sgram,\n",
        "    batch_size = 4096,\n",
        "    epochs=3,\n",
        "    # workers=4,\n",
        "    verbose=1)\n"
      ]
    },
    {
      "cell_type": "code",
      "execution_count": 29,
      "metadata": {
        "id": "HAiuPcInEMPx"
      },
      "outputs": [],
      "source": [
        "# sgram Embedding\n",
        "def get_sgram_embedding(word):\n",
        "    word_index = None\n",
        "    if word not in tokenizer.word_index:\n",
        "        return None\n",
        "\n",
        "    word_index = tokenizer.word_index[word]\n",
        "    embeddings = sgram_model.get_layer('word_embedding').get_weights()[0]\n",
        "    embedding = embeddings[word_index]\n",
        "\n",
        "    return embedding\n"
      ]
    },
    {
      "cell_type": "markdown",
      "metadata": {
        "id": "HVRKUFklFPh1"
      },
      "source": [
        "# Task 5 Evaluation:"
      ]
    },
    {
      "cell_type": "code",
      "execution_count": 30,
      "metadata": {
        "id": "RZztbUKGYjPm"
      },
      "outputs": [],
      "source": [
        "selected_word_pairs = [\n",
        "  ('king', 'queen'),\n",
        "  ('man', 'woman'),\n",
        "  ('prince','princess'),\n",
        "  ('paris', 'france'),\n",
        "  ('china','japan'),\n",
        "  ('italy', 'rome'),\n",
        "  ('flight', 'plane'),\n",
        "  ('orange','banana'),\n",
        "  ('computer', 'keyboard'),\n",
        "]\n",
        "\n",
        "not_pair_words = [\n",
        "  ('food','computer'),\n",
        "  ('flight','kitchen'),\n",
        "  ('school','stone')\n",
        "]"
      ]
    },
    {
      "cell_type": "code",
      "execution_count": 26,
      "metadata": {
        "id": "9czu9Uc_GGon"
      },
      "outputs": [],
      "source": [
        "# vector similarity between embedding vectors\n",
        "def cosine_similarity(embedding1, embedding2):\n",
        "    dot_product = np.dot(embedding1, embedding2)\n",
        "    norm1 = np.linalg.norm(embedding1)\n",
        "    norm2 = np.linalg.norm(embedding2)\n",
        "    similarity = dot_product / (norm1 * norm2)\n",
        "    return similarity\n"
      ]
    },
    {
      "cell_type": "code",
      "execution_count": 31,
      "metadata": {
        "id": "zzwqinrKG4gS"
      },
      "outputs": [],
      "source": [
        "# words embedding consine similarity on selected word pairs\n",
        "def print_similarity(word_pairs,get_embedding_func):\n",
        "   for word_pair in word_pairs:\n",
        "      word1, word2 = word_pair\n",
        "      embedding1 = get_embedding_func(word1)\n",
        "      embedding2 = get_embedding_func(word2)\n",
        "      if embedding1 is None or embedding2 is None:\n",
        "          print(f\"Embedding for {word1} or {word2} not found.\")\n",
        "\n",
        "      else:\n",
        "          similarity = cosine_similarity(embedding1, embedding2)\n",
        "          print(f\"Similarity between {word1} and {word2}: {similarity}\")\n"
      ]
    },
    {
      "cell_type": "markdown",
      "metadata": {
        "id": "tGVBDJCGnNCe"
      },
      "source": [
        "## Non similar word pairs similarity : CBOW"
      ]
    },
    {
      "cell_type": "code",
      "execution_count": null,
      "metadata": {
        "colab": {
          "base_uri": "https://localhost:8080/"
        },
        "id": "fpIpzDWTJ--M",
        "outputId": "8b0f5b49-a751-4818-fff0-f7133ea2149e"
      },
      "outputs": [
        {
          "name": "stdout",
          "output_type": "stream",
          "text": [
            "Similarity between food and computer: 0.0009429251658730209\n",
            "Similarity between flight and kitchen: 0.07535284757614136\n",
            "Similarity between school and stone: -0.018425162881612778\n"
          ]
        }
      ],
      "source": [
        "print_similarity(not_pair_words,get_cbow_embedding)"
      ]
    },
    {
      "cell_type": "markdown",
      "metadata": {
        "id": "Y9eHpIcJnU1x"
      },
      "source": [
        "## Related word pairs similarity: CBOW"
      ]
    },
    {
      "cell_type": "code",
      "execution_count": null,
      "metadata": {
        "colab": {
          "base_uri": "https://localhost:8080/"
        },
        "id": "qh1lHFc0KMYK",
        "outputId": "19b25de6-62f3-4ad7-f7b1-06a9b85618e3"
      },
      "outputs": [
        {
          "name": "stdout",
          "output_type": "stream",
          "text": [
            "Similarity between king and queen: 0.31147491931915283\n",
            "Similarity between man and woman: 0.4846438467502594\n",
            "Similarity between prince and princess: 0.53116774559021\n",
            "Similarity between paris and france: 0.43622562289237976\n",
            "Similarity between china and japan: 0.48832011222839355\n",
            "Similarity between italy and rome: 0.40073686838150024\n",
            "Similarity between flight and plane: 0.24015115201473236\n",
            "Similarity between orange and banana: 0.09845422953367233\n",
            "Similarity between computer and keyboard: 0.32266050577163696\n"
          ]
        }
      ],
      "source": [
        "# Print CBOW similarity on selected words\n",
        "print_similarity(selected_word_pairs,get_cbow_embedding)\n"
      ]
    },
    {
      "cell_type": "markdown",
      "metadata": {
        "id": "5SbWj4BMncQB"
      },
      "source": [
        "## Related word pairs similarity: Skip-gram"
      ]
    },
    {
      "cell_type": "code",
      "execution_count": 32,
      "metadata": {
        "colab": {
          "base_uri": "https://localhost:8080/"
        },
        "id": "WhU2_bWkbwEI",
        "outputId": "c67ecfbe-e8a1-4531-f5d6-d05b1f7f7373"
      },
      "outputs": [
        {
          "output_type": "stream",
          "name": "stdout",
          "text": [
            "Similarity between king and queen: 0.3251740038394928\n",
            "Similarity between man and woman: 0.1635817438364029\n",
            "Similarity between prince and princess: 0.33063000440597534\n",
            "Similarity between paris and france: 0.2688509225845337\n",
            "Similarity between china and japan: 0.28059935569763184\n",
            "Similarity between italy and rome: 0.1173832044005394\n",
            "Similarity between flight and plane: 0.08837147057056427\n",
            "Embedding for orange or banana not found.\n",
            "Embedding for computer or keyboard not found.\n"
          ]
        }
      ],
      "source": [
        "# Print Sgram similarity on selected words\n",
        "print_similarity(selected_word_pairs,get_sgram_embedding)\n"
      ]
    },
    {
      "cell_type": "markdown",
      "metadata": {
        "id": "BUvhZKhlnkQE"
      },
      "source": [
        "## Un-related word pairs similarity: Skip-gram"
      ]
    },
    {
      "cell_type": "code",
      "execution_count": 33,
      "metadata": {
        "colab": {
          "base_uri": "https://localhost:8080/"
        },
        "id": "Xd-Wo0ScdHaL",
        "outputId": "bcd22a4e-b02e-4c31-9e95-b13b68d2df66"
      },
      "outputs": [
        {
          "output_type": "stream",
          "name": "stdout",
          "text": [
            "Similarity between food and computer: 0.023624571040272713\n",
            "Embedding for flight or kitchen not found.\n",
            "Similarity between school and stone: 0.08895199000835419\n"
          ]
        }
      ],
      "source": [
        "print_similarity(not_pair_words,get_sgram_embedding)"
      ]
    },
    {
      "cell_type": "code",
      "execution_count": 37,
      "metadata": {
        "colab": {
          "base_uri": "https://localhost:8080/"
        },
        "id": "v3g_-y5XKtld",
        "outputId": "495ad66b-74d3-4654-a7a6-b79fbb5c68b7"
      },
      "outputs": [
        {
          "output_type": "execute_result",
          "data": {
            "text/plain": [
              "['king',\n",
              " 'queen',\n",
              " 'man',\n",
              " 'woman',\n",
              " 'prince',\n",
              " 'princess',\n",
              " 'paris',\n",
              " 'france',\n",
              " 'china',\n",
              " 'japan',\n",
              " 'italy',\n",
              " 'rome',\n",
              " 'flight',\n",
              " 'plane',\n",
              " 'orange',\n",
              " 'banana',\n",
              " 'computer',\n",
              " 'keyboard']"
            ]
          },
          "metadata": {},
          "execution_count": 37
        }
      ],
      "source": [
        "# destruct the word pairs to list of words\n",
        "selected_words = [word for pair in selected_word_pairs for word in pair]\n",
        "\n",
        "selected_words"
      ]
    },
    {
      "cell_type": "code",
      "execution_count": null,
      "metadata": {
        "id": "U9pwbY-nLaaG"
      },
      "outputs": [],
      "source": [
        "#cbow embeddings on selected words\n",
        "selected_cbow_embeddings = [get_cbow_embedding(word) for word in selected_words if get_cbow_embedding(word) is not None]\n"
      ]
    },
    {
      "cell_type": "code",
      "execution_count": 46,
      "metadata": {
        "id": "OkY6wirabzUg"
      },
      "outputs": [],
      "source": [
        "# get skipgram word embeddings on selected words\n",
        "\n",
        "#find corresponding word in pairs\n",
        "def find_pair_word(word, pairs):\n",
        "    for pair in selected_word_pairs:\n",
        "        if word in pair:\n",
        "            return pair[0] if word == pair[1] else pair[1]\n",
        "    return None\n",
        "\n",
        "# for pca visual\n",
        "def prepare_visualization_data(get_embedding_func,word_embeddings,pairs):\n",
        "  skipgram_embeddings = [] # embedding\n",
        "  labels = [] # embedding word labels\n",
        "  skip_words = set() # words in selected pairs but not found in embedding\n",
        "  word_pairs = []\n",
        "\n",
        "  words =[word for pair in pairs for word in pair]\n",
        "\n",
        "  for word in words:\n",
        "    embedding = get_embedding_func(word)\n",
        "    if embedding is None:\n",
        "        skip_words.add(find_pair_word(word, pairs))\n",
        "        skip_words.add(word)\n",
        "    if embedding is not None and word not in skip_words:\n",
        "        skipgram_embeddings.append(embedding)\n",
        "        labels.append(word)\n",
        "        word_pairs.append((word, find_pair_word(word, pairs)))\n",
        "\n",
        "  return skipgram_embeddings, labels, word_pairs\n"
      ]
    },
    {
      "cell_type": "markdown",
      "metadata": {
        "id": "_0HJNJfSK0CZ"
      },
      "source": [
        "## PCA Visualization: CBOW"
      ]
    },
    {
      "cell_type": "code",
      "execution_count": 45,
      "metadata": {
        "id": "wcg-Ad0vFSrR"
      },
      "outputs": [],
      "source": [
        "# Get the word embeddings\n",
        "from sklearn.decomposition import PCA\n",
        "import matplotlib.pyplot as plt\n",
        "\n",
        "def visual_pca(word_embeddings, word_labels, pairs):\n",
        "  # 2 dimention visual\n",
        "  pca = PCA(n_components=2)\n",
        "  reduced_embeddings = pca.fit_transform(word_embeddings)\n",
        "\n",
        "  num_embeddings = reduced_embeddings.shape[0]\n",
        "\n",
        "  # Visualize the embeddings\n",
        "  plt.figure(figsize=(10, 10))\n",
        "\n",
        "  label_coords = {}\n",
        "\n",
        "  for i, label in enumerate(word_labels):\n",
        "    x, y = reduced_embeddings[i]\n",
        "    plt.scatter(x, y)\n",
        "    plt.annotate(label, xy=(x, y), xytext=(5, 2),\n",
        "                 textcoords='offset points',\n",
        "                 ha='right', va='bottom')\n",
        "\n",
        "    label_coords[label] = (x, y) #label coordinates\n",
        "\n",
        "    #draw connected line\n",
        "    for word1, word2 in pairs:\n",
        "      if word1 in label_coords and word2 in label_coords:\n",
        "            x1, y1 = label_coords[word1]\n",
        "            x2, y2 = label_coords[word2]\n",
        "            plt.plot([x1, x2], [y1, y2], color='lightgrey', linestyle='--', linewidth=1)  # Draw a dotted line between the pair\n",
        "\n",
        "  plt.show()"
      ]
    },
    {
      "cell_type": "code",
      "execution_count": null,
      "metadata": {
        "colab": {
          "base_uri": "https://localhost:8080/",
          "height": 724
        },
        "id": "aQ0frlbMLYDv",
        "outputId": "b9ae1b76-6e5a-43c6-f4bb-793c865f5df7"
      },
      "outputs": [
        {
          "data": {
            "image/png": "[encoded data removed]",
            "text/plain": [
              "<Figure size 1000x1000 with 1 Axes>"
            ]
          },
          "metadata": {},
          "output_type": "display_data"
        }
      ],
      "source": [
        "#cbow pca\n",
        "visual_pca(selected_cbow_embeddings, selected_words,selected_word_pairs)\n"
      ]
    },
    {
      "cell_type": "code",
      "execution_count": 47,
      "metadata": {
        "colab": {
          "base_uri": "https://localhost:8080/",
          "height": 783
        },
        "id": "qHkAY0CcLdss",
        "outputId": "b93f635b-dec2-4f37-d8dc-a117bcaf1348"
      },
      "outputs": [
        {
          "output_type": "display_data",
          "data": {
            "text/plain": [
              "<Figure size 1000x1000 with 1 Axes>"
            ],
            "image/png": "[encoded data removed]"
          },
          "metadata": {}
        }
      ],
      "source": [
        "sg_embeddings, sg_labels, sg_word_pairs = prepare_visualization_data(get_sgram_embedding,skipgram_embeddings,selected_word_pairs)\n",
        "#sgram pca\n",
        "visual_pca(sg_embeddings, sg_labels,sg_word_pairs)\n"
      ]
    }
  ],
  "metadata": {
    "accelerator": "GPU",
    "colab": {
      "gpuType": "V100",
      "machine_shape": "hm",
      "provenance": []
    },
    "kernelspec": {
      "display_name": "Python 3",
      "name": "python3"
    },
    "language_info": {
      "name": "python"
    }
  },
  "nbformat": 4,
  "nbformat_minor": 0
}