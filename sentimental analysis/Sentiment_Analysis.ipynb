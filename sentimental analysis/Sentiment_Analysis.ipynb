{
  "nbformat": 4,
  "nbformat_minor": 0,
  "metadata": {
    "colab": {
      "provenance": []
    },
    "kernelspec": {
      "name": "python3",
      "display_name": "Python 3"
    },
    "language_info": {
      "name": "python"
    }
  },
  "cells": [
    {
      "cell_type": "code",
      "execution_count": null,
      "metadata": {
        "colab": {
          "base_uri": "https://localhost:8080/"
        },
        "id": "lQiW7EeZNUKS",
        "outputId": "0ff056f4-ac38-4628-b7f9-51ed0f08ca56"
      },
      "outputs": [
        {
          "output_type": "stream",
          "name": "stderr",
          "text": [
            "[nltk_data] Downloading package movie_reviews to /root/nltk_data...\n",
            "[nltk_data]   Unzipping corpora/movie_reviews.zip.\n",
            "[nltk_data] Downloading package punkt to /root/nltk_data...\n",
            "[nltk_data]   Unzipping tokenizers/punkt.zip.\n",
            "[nltk_data] Downloading package wordnet to /root/nltk_data...\n",
            "[nltk_data] Downloading package stopwords to /root/nltk_data...\n",
            "[nltk_data]   Unzipping corpora/stopwords.zip.\n"
          ]
        },
        {
          "output_type": "execute_result",
          "data": {
            "text/plain": [
              "True"
            ]
          },
          "metadata": {},
          "execution_count": 1
        }
      ],
      "source": [
        "import nltk\n",
        "# Download the IMDb movie reviews dataset\n",
        "nltk.download('movie_reviews')\n",
        "nltk.download('punkt')\n",
        "nltk.download('wordnet')\n",
        "nltk.download('stopwords')"
      ]
    },
    {
      "cell_type": "code",
      "source": [
        "from nltk.corpus import movie_reviews\n",
        "# Access the movie reviews and labels\n",
        "documents = [(list(movie_reviews.words(fileid)), category)\n",
        "              for category in movie_reviews.categories()\n",
        "              for fileid in movie_reviews.fileids(category)]\n",
        "# Shuffle the documents to ensure a balanced distribution of positive and negative reviews\n",
        "import random\n",
        "random.shuffle(documents)\n",
        "\n"
      ],
      "metadata": {
        "id": "IE5WWtqDNwqb"
      },
      "execution_count": null,
      "outputs": []
    },
    {
      "cell_type": "code",
      "source": [
        "# Print the first review and its label\n",
        "print(\"Sample Review:\", documents[0][0][:10]) # Displaying the first 10 words for brevity\n",
        "print(\"Label:\", documents[0][1])\n",
        "\n",
        "print(type(documents))\n",
        "\n",
        "# Print the number of documents\n",
        "print(len(documents))\n",
        "print(\"\\n\")\n",
        "\n",
        "\n",
        "# Print the first few documents\n",
        "for doc in documents[:2]:  # Adjust the number to see more or fewer samples\n",
        "    print(doc)\n",
        "    print(\"Review length:\", len(doc[0]))  # Print the length of the document\n",
        "    print(\"Lable:\", doc[1])  # Print the category of the document\n",
        "    print(\"\\n\")"
      ],
      "metadata": {
        "colab": {
          "base_uri": "https://localhost:8080/"
        },
        "id": "766W8UmtQWoe",
        "outputId": "15b1c587-00b4-489e-9fbd-fa44d2ef31fb"
      },
      "execution_count": null,
      "outputs": [
        {
          "output_type": "stream",
          "name": "stdout",
          "text": [
            "Sample Review: ['in', 'this', 'good', 'natured', ',', 'pleasent', 'and', 'easy', 'going', 'comedy']\n",
            "Label: pos\n",
            "<class 'list'>\n",
            "2000\n",
            "\n",
            "\n",
            "(['in', 'this', 'good', 'natured', ',', 'pleasent', 'and', 'easy', 'going', 'comedy', ',', 'bill', 'murray', '(', 'ghostbusters', ',', '1984', ')', 'plays', 'grumpy', 'weatherman', 'phil', 'conners', ',', 'who', ',', 'every', 'year', ',', 'is', 'sent', 'to', 'punxsutawney', ',', 'p', '.', 'a', ',', 'to', 'report', 'on', 'groundhog', 'day', '.', 'the', 'groundhog', 'day', 'ceremony', 'involves', 'a', 'groundhog', 'being', 'lifted', 'out', 'of', 'a', 'box', ',', 'and', 'if', 'he', 'dosen', \"'\", 't', 'see', 'a', 'shadow', ',', 'it', 'will', 'be', 'an', 'early', 'spring', '.', 'phil', 'really', 'hates', 'the', 'ceremony', ',', 'and', 'not', 'even', 'his', 'producer', 'rita', '(', 'macdowell', ')', 'can', 'change', 'his', 'mind', '.', 'however', ',', 'fate', 'has', 'a', 'cruel', 'trick', 'for', 'phil', ',', 'and', 'he', 'starts', 're', '-', 'living', 'groundhog', 'day', 'over', ',', 'and', 'over', ',', 'and', 'over', ',', 'until', 'he', 'gradually', 'likes', 'it', ',', 'and', 'rita', 'falls', 'in', 'love', 'with', 'him', '.', 'groundhog', 'day', 'is', 'a', 'well', 'written', ',', 'totatly', 'unoffensive', 'and', 'funny', 'comedy', '.', 'the', 'screenwriters', ',', 'director', 'ramis', 'and', 'danny', 'rubin', ',', 'have', 'written', 'a', 'funny', ',', 'warm', ',', 'but', 'never', 'overly', 'senitmental', 'comedy', '.', 'although', 'the', 'idea', 'of', 'a', 'day', 'repeating', 'over', 'and', 'over', 'may', 'sound', 'tedious', ',', 'there', 'are', 'enough', 'good', 'jokes', 'to', 'hold', 'the', 'audiences', 'attention', 'throughout', 'the', 'whole', 'film', '.', 'ramis', \"'\", 's', 'direction', 'also', 'helps', ',', 'and', 'although', 'he', 'dosen', \"'\", 't', 'try', 'any', 'flash', 'director', 'tricks', ',', 'the', 'film', 'is', 'directed', 'well', 'enough', ',', 'and', 'the', 'jokes', 'are', 'set', 'up', 'well', '.', 'and', 'the', 'editing', 'is', 'also', 'good', ',', 'especially', 'when', 'it', 'shows', 'one', 'part', 'of', 'the', 'day', 'over', ',', 'and', 'over', 'again', ',', 'such', 'as', 'when', 'phil', 'tries', 'to', 'have', 'the', 'perfect', 'night', 'with', 'rita', '.', 'the', 'performances', 'are', 'also', 'excellent', '.', 'bill', 'murray', 'is', 'great', 'fun', ',', 'and', 'his', 'transistion', 'from', 'cynical', 'to', 'happy', 'is', 'smooth', ',', 'and', 'delivers', 'his', 'lines', 'in', 'his', 'usual', 'smary', 'style', '.', 'andie', 'macdowell', 'is', 'good', 'as', 'rita', ',', 'although', 'sometimes', 'she', 'is', 'just', 'a', 'little', 'bit', 'too', 'sweet', 'in', 'some', 'parts', 'of', 'the', 'film', '.', 'there', 'is', 'chemistry', 'between', 'the', 'two', 'leads', ',', 'thankfully', ',', 'otherwise', 'the', 'whole', 'film', 'would', 'probably', 'fall', 'part', '.', 'chris', 'elliot', ',', 'as', 'the', 'cameraman', 'larry', ',', 'is', 'also', 'funny', ',', 'although', 'you', 'have', 'to', 'like', 'his', 'goofy', 'style', ',', 'otherwise', 'you', 'are', 'really', 'going', 'to', 'hate', 'him', 'throughout', 'this', 'film', ',', 'and', 'it', 'will', 'lower', 'your', 'enjoyment', 'of', 'the', 'film', 'overall', '.', 'the', 'supporting', 'cast', 'aren', \"'\", 't', 'bad', 'either', ',', 'with', 'stephen', 'tobolowsky', 'hillarous', 'as', 'phils', 'old', 'school', 'mate', 'ned', 'ryanson', ',', 'and', 'even', 'director', 'ramis', 'popping', 'up', 'as', 'a', 'neurologist', '.', 'in', 'fact', ',', 'there', 'is', 'not', 'one', 'dud', 'performance', 'in', 'this', 'film', ',', 'and', 'even', 'the', 'groundhog', 'gets', 'a', 'funny', 'scene', 'involving', 'a', 'car', 'chase', '.', 'overall', ',', 'there', 'is', 'really', 'nothing', 'wrong', 'with', 'groundhog', 'day', 'at', 'all', '.', 'it', 'almost', 'seems', 'perfect', '.', 'however', ',', 'the', 'film', 'can', 'get', 'a', 'bit', 'soppy', 'sometimes', ',', 'and', 'some', 'people', 'may', 'get', 'irritated', 'by', 'the', 'day', 'repeating', 'over', ',', 'and', 'over', ',', 'and', 'over', ',', 'and', 'over', '.', 'also', ',', 'there', \"'\", 's', 'not', 'much', 'of', 'an', 'music', 'score', ',', 'and', 'the', 'music', 'there', 'is', 'is', 'pretty', 'bad', '.', 'but', 'these', 'criticisms', 'hardly', 'affect', 'the', 'audiences', 'enjoyment', 'at', 'all', '.', 'overall', ',', 'then', ',', 'groundhog', 'day', 'is', 'a', 'funny', ',', 'smart', ',', 'and', 'also', 'has', 'some', 'room', 'in', 'there', 'for', 'some', 'heart', '.', 'an', 'excellent', 'comedy', '.', 'overall', 'rating', '=', '('], 'pos')\n",
            "Review length: 557\n",
            "Lable: pos\n",
            "\n",
            "\n",
            "(['niagara', 'niagara', '(', 'r', ')', 'bob', 'gosse', \"'\", 's', 'niagara', 'niagara', 'follows', 'a', 'blueprint', 'not', 'unlike', 'a', 'lot', 'of', 'young', '-', 'lovers', '-', 'on', '-', 'the', '-', 'road', 'movies', '.', 'wild', 'marcy', '(', 'robin', 'tunney', ')', 'and', 'calm', 'seth', '(', 'henry', 'thomas', ')', 'meet', 'cute', ',', 'literally', 'running', 'into', 'each', 'other', 'while', 'shoplifting', 'at', 'a', 'local', 'store', '.', 'a', 'mere', 'couple', 'of', 'scenes', 'later', ',', 'the', 'two', 'embark', 'on', 'a', 'journey', 'to', 'toronto', 'from', 'their', 'small', ',', 'unnamed', 'american', 'town', 'in', 'pursuit', 'of', 'a', 'rare', 'doll', 'that', 'marcy', 'desperately', 'wants', '.', 'along', 'the', 'way', ',', 'true', 'love', 'inevitably', 'blossoms', '.', 'what', 'sets', 'niagara', 'niagara', 'apart', ',', 'though', ',', 'is', 'that', 'marcy', 'is', 'afflicted', 'with', 'tourette', \"'\", 's', 'syndrome', ',', 'a', 'neurological', 'disorder', 'that', 'causes', 'sudden', 'muscle', 'and', 'vocal', 'tics', '.', 'tunney', ',', 'displaying', 'an', 'acting', 'range', 'not', 'hinted', 'at', 'in', 'the', 'teenage', 'witch', 'thriller', 'the', 'craft', ',', 'delivers', 'an', 'astonishing', 'performance', 'that', 'won', 'her', 'the', 'best', 'actress', 'prize', 'at', 'last', 'year', \"'\", 's', 'venice', 'film', 'festival', '.', 'to', 'term', 'her', 'work', 'a', 'tour', '-', 'de', '-', 'force', 'is', 'not', 'to', 'imply', 'that', 'she', 'attacks', 'the', 'scenery', ';', 'tunney', \"'\", 's', 'effectiveness', 'lies', 'in', 'her', 'modulation', 'and', 'vulnerability', ',', 'which', 'makes', 'her', 'depiction', 'of', 'marcy', \"'\", 's', 'illness', '--', 'which', 'often', 'causes', 'her', 'to', 'act', 'violently', '--', 'that', 'much', 'more', 'convincing', 'and', 'tragic', '.', 'she', 'and', 'the', 'nicely', 'subtle', 'thomas', 'develop', 'a', 'sweetly', 'innocent', 'and', 'beguilingly', 'off', '-', 'kilter', 'chemistry', '.', 'their', 'journey', 'hits', 'a', 'few', 'rough', 'spots', 'creatively', 'along', 'the', 'way', ',', 'mostly', 'the', 'fault', 'of', 'writer', 'matthew', 'weiss', '.', 'a', 'detour', 'involving', 'a', 'kindly', 'widower', '(', 'michael', 'parks', ')', 'who', 'takes', 'the', 'couple', 'in', 'brings', 'the', 'story', 'to', 'a', 'screeching', 'halt', ',', 'and', 'the', 'key', 'character', 'of', 'a', 'trigger', '-', 'happy', 'pharmacist', '(', 'stephen', 'lang', ')', 'is', 'highly', 'unbelievable', '.', 'but', 'these', 'missteps', 'do', 'not', 'blunt', 'the', 'power', 'of', 'tunney', \"'\", 's', 'bravura', 'turn', ',', 'which', 'carries', 'niagara', 'niagara', 'to', 'a', 'level', 'of', 'poignance', 'it', 'would', 'not', 'have', 'otherwise', 'achieved', '.', '(', 'opens', 'march', '20', ')', '\"', 'i', 'didn', \"'\", 't', 'know', 'what', 'to', 'expect', '.', 'it', \"'\", 's', 'like', 'something', 'you', 'chase', 'for', 'so', 'long', ',', 'but', 'then', 'you', 'don', \"'\", 't', 'know', 'how', 'to', 'react', 'when', 'you', 'get', 'it', '.', 'i', 'still', 'don', \"'\", 't', 'know', 'how', 'to', 'react', '.', '\"', '--', 'michael', 'jordan', ',', 'on', 'winning', 'his', 'first', 'nba', 'championship', 'in', '1991', '.', '.', '.', 'or', ',', 'my', 'thoughts', 'after', 'meeting', 'him', 'on', 'november', '21', ',', '1997'], 'pos')\n",
            "Review length: 411\n",
            "Lable: pos\n",
            "\n",
            "\n"
          ]
        }
      ]
    },
    {
      "cell_type": "markdown",
      "source": [
        "## 1. Data Preparation (3 marks)"
      ],
      "metadata": {
        "id": "LgPfpv1kStAZ"
      }
    },
    {
      "cell_type": "code",
      "source": [
        "from nltk.corpus import movie_reviews\n",
        "from nltk.tokenize import word_tokenize\n",
        "from nltk.stem import PorterStemmer, WordNetLemmatizer\n",
        "from nltk.corpus import stopwords\n",
        "import random\n",
        "\n",
        "# Initialize stemmer/lemmatizer and stopwords\n",
        "stemmer = PorterStemmer()\n",
        "lemmatizer = WordNetLemmatizer()\n",
        "stop_words = set(stopwords.words('english'))\n",
        "\n",
        "# Function to preprocess the text\n",
        "def preprocess(document):\n",
        "    # Tokenize\n",
        "    tokens = word_tokenize(document)\n",
        "\n",
        "    processed = []\n",
        "    # Stemming/Lemmatization and Stop words removal\n",
        "    for word in tokens:\n",
        "        if word.lower() not in stop_words and word.isalpha():\n",
        "            processed.append(stemmer.stem(word.lower()))\n",
        "\n",
        "    return processed\n",
        "\n",
        "# Preprocess the documents\n",
        "preprocessed_documents = [(preprocess(' '.join(doc)), label) for doc, label in documents]\n",
        "\n"
      ],
      "metadata": {
        "id": "FteyW6jDOaYp"
      },
      "execution_count": null,
      "outputs": []
    },
    {
      "cell_type": "code",
      "source": [
        "#After stemming all reviews in documents\n",
        "\n",
        "for doc in preprocessed_documents[:2]:  # Adjust the number to see more or fewer samples\n",
        "    print(doc)\n",
        "    print(\"Document length:\", len(doc[0]))  # Print the length of the document\n",
        "    print(\"Category:\", doc[1])  # Print the category of the document\n",
        "    print(\"\\n\")"
      ],
      "metadata": {
        "colab": {
          "base_uri": "https://localhost:8080/"
        },
        "id": "jpCE7I2OWoKB",
        "outputId": "a23e997e-362e-43fd-d614-b79d14b7f36e"
      },
      "execution_count": null,
      "outputs": [
        {
          "output_type": "stream",
          "name": "stdout",
          "text": [
            "(['rock', 'actual', 'lot', 'rock', 'fli', 'us', 'us', 'slow', 'fast', 'motion', 'sever', 'point', 'film', 'seem', 'like', 'danger', 'rock', 'kind', 'twirl', 'air', 'instead', 'propel', 'forward', 'land', 'need', 'break', 'space', 'sequenc', 'caus', 'damag', 'enough', 'destroy', 'chrysler', 'build', 'like', 'nari', 'mention', 'apocalypt', 'event', 'made', 'occur', 'also', 'might', 'interest', 'element', 'armageddon', 'steroid', 'user', 'answer', 'deep', 'impact', 'bruce', 'willi', 'star', 'harri', 'stamper', 'fame', 'oil', 'driller', 'commiss', 'white', 'hous', 'nasa', 'stop', 'giant', 'asteroid', 'travel', 'beyond', 'zero', 'barrier', 'destroy', 'planet', 'oil', 'driller', 'requir', 'someon', 'experi', 'deep', 'core', 'mine', 'plant', 'nuclear', 'missil', 'said', 'asteroid', 'one', 'unintent', 'hilari', 'sequenc', 'nasa', 'ask', 'harri', 'inspect', 'deep', 'core', 'driller', 'built', 'base', 'blueprint', 'poorli', 'construct', 'harri', 'critic', 'almost', 'everi', 'aspect', 'trust', 'nasa', 'build', 'space', 'shuttl', 'harri', 'assembl', 'obligatori', 'ragtag', 'bunch', 'cowboy', 'includ', 'blond', 'guy', 'fat', 'guy', 'black', 'guy', 'wiseass', 'man', 'sleep', 'daughter', 'affleck', 'reach', 'space', 'experi', 'sequenc', 'sequenc', 'someth', 'go', 'wrong', 'perhap', 'fact', 'sent', 'bunch', 'nincompoop', 'outer', 'space', 'someth', 'count', 'number', 'time', 'almost', 'fail', 'mission', 'finger', 'toe', 'whether', 'save', 'day', 'reveal', 'care', 'say', 'know', 'troubl', 'deep', 'impact', 'dwarf', 'asteroid', 'movi', 'term', 'emot', 'scope', 'willi', 'bare', 'chanc', 'come', 'aliv', 'ditto', 'affleck', 'big', 'scene', 'mostli', 'reserv', 'third', 'act', 'last', 'minut', 'futil', 'attempt', 'inject', 'warmth', 'materi', 'steve', 'buscemi', 'charact', 'wiseass', 'except', 'problemat', 'rockhound', 'call', 'sarcast', 'foolish', 'tape', 'chair', 'spend', 'film', 'bring', 'begin', 'rather', 'write', 'film', 'give', 'almost', 'witti', 'one', 'liner', 'seriou', 'willi', 'scowl', 'mope', 'demonstr', 'psychot', 'tendenc', 'one', 'point', 'chase', 'affleck', 'shotgun', 'screw', 'daughter', 'fire', 'often', 'caus', 'signific', 'damag', 'oil', 'rig', 'guess', 'qualifi', 'nasa', 'guidelin', 'someon', 'unfit', 'space', 'travel', 'least', 'world', 'sky', 'blue', 'liv', 'tyler', 'pretti', 'humourless', 'alway', 'suspici', 'four', 'father', 'band', 'aerosmith', 'song', 'grace', 'soundtrack', 'director', 'michael', 'bay', 'lay', 'visual', 'sound', 'effect', 'thick', 'like', 'ketchup', 'eventu', 'drown', 'movi', 'screen', 'middl', 'hour', 'non', 'sensic', 'pyrotechn', 'assault', 'averag', 'primat', 'brain', 'whenev', 'someon', 'die', 'movi', 'crew', 'member', 'inevit', 'yell', 'lost', 'insert', 'dead', 'person', 'last', 'name', 'must', 'admit', 'could', 'distinguish', 'dead', 'oil', 'guy', 'cum', 'astronaut', 'live', 'one', 'close', 'up', 'corps', 'face', 'beneath', 'crack', 'helmet', 'provid', 'littl', 'assist', 'skin', 'often', 'cover', 'fake', 'blood', 'armageddon', 'terribl', 'movi', 'godzilla', 'look', 'nicer', 'fewer', 'plot', 'hole', 'within', 'equal', 'ludicr', 'framework', 'vivid', 'soundmix', 'almost', 'two', 'half', 'hour', 'could', 'believ', 'littl', 'actual', 'happen', 'cours', 'stori', 'love', 'stori', 'play', 'ad', 'perhap', 'hope', 'catch', 'peopl', 'recov', 'titan', 'fever', 'bollock', 'lover', 'film', 'mile', 'apart', 'throughout', 'eras', 'thought', 'nude', 'sketch', 'car', 'sex', 'replac', 'obligatori', 'shot', 'liv', 'tyler', 'tear', 'ben', 'affleck', 'dick', 'around', 'moon', 'crawler', 'rememb', 'littl', 'film', 'call', 'jaw', 'film', 'three', 'independ', 'mind', 'men', 'suddenli', 'found', 'fish', 'boat', 'pursuit', 'deadli', 'shark', 'much', 'like', 'first', 'eventu', 'start', 'respect', 'one', 'anoth', 'one', 'jaw', 'great', 'scene', 'involv', 'would', 'ahab', 'drink', 'sing', 'song', 'tell', 'stori', 'sort', 'male', 'bond', 'foreign', 'bay', 'produc', 'jerri', 'bruckheim', 'throw', 'mani', 'charact', 'mix', 'expect', 'care', 'ground', 'world', 'end', 'get', 'feel', 'charact', 'even', 'acquaint', 'surpris', 'actor', 'bother', 'introduc', 'one', 'anoth', 'action', 'call', 'male', 'friend', 'love', 'film', 'suggest', 'perhap', 'relat', 'bunch', 'men', 'bare', 'soul', 'believ', 'die', 'macho', 'concept', 'like', 'heroism', 'kind', 'chest', 'beat', 'braveri', 'respond', 'boy', 'armageddon', 'neither', 'heroic', 'brave', 'smart', 'even', 'team', 'build', 'birdhous', 'get', 'respect', 'dislik', 'movi', 'synthet', 'feel', 'trailer', 'trailer', 'movi', 'written', 'team', 'bodi', 'builder', 'greet', 'card', 'author', 'never', 'prouder', 'wimp', 'whole', 'life'], 'neg')\n",
            "Document length: 503\n",
            "Category: neg\n",
            "\n",
            "\n",
            "(['david', 'cronenberg', 'present', 'us', 'anoth', 'strang', 'tale', 'crawl', 'impress', 'twist', 'head', 'one', 'mani', 'scienc', 'fiction', 'film', 'releas', 'last', 'year', 'millenium', 'tackl', 'issu', 'play', 'import', 'role', 'futur', 'stori', 'unfold', 'near', 'futur', 'line', 'realiti', 'virtual', 'realiti', 'blur', 'world', 'futur', 'unfriendli', 'place', 'scare', 'inhabit', 'hide', 'virtual', 'realiti', 'fantasi', 'game', 'escap', 'uncertainti', 'real', 'world', 'allegra', 'geller', 'jennif', 'jason', 'leigh', 'lead', 'game', 'design', 'world', 'test', 'new', 'virtual', 'realiti', 'game', 'existenz', 'focu', 'group', 'begin', 'attack', 'fanat', 'assassin', 'employ', 'bizarr', 'organ', 'gun', 'flee', 'young', 'market', 'traine', 'ted', 'pikul', 'jude', 'law', 'suddenli', 'assign', 'bodyguard', 'unfortun', 'pod', 'organ', 'game', 'devic', 'contain', 'copi', 'existenz', 'game', 'program', 'damag', 'inspect', 'talk', 'ted', 'accept', 'gameport', 'bodi', 'play', 'game', 'event', 'lead', 'result', 'game', 'lead', 'pair', 'strang', 'adventur', 'world', 'individu', 'exist', 'player', 'forc', 'perform', 'charact', 'unknown', 'plot', 'realiti', 'action', 'imposs', 'determin', 'either', 'game', 'perspect', 'intend', 'reveal', 'film', 'premis', 'structur', 'comput', 'game', 'task', 'charact', 'must', 'complet', 'win', 'game', 'releas', 'matrix', 'dark', 'citi', 'existenz', 'similar', 'parallel', 'connect', 'film', 'howev', 'existenz', 'move', 'differ', 'direct', 'premis', 'combin', 'dazzl', 'special', 'effect', 'brilliantli', 'coordin', 'action', 'sequenc', 'intellig', 'sophist', 'plot', 'made', 'matrix', 'rare', 'entertain', 'scienc', 'fiction', 'experi', 'dark', 'frighten', 'idea', 'hidden', 'sparkl', 'facad', 'existenz', 'complet', 'differ', 'atmospher', 'resembl', 'dark', 'citi', 'darker', 'seriou', 'less', 'entertain', 'existenz', 'opportun', 'potenti', 'enorm', 'possibl', 'never', 'quit', 'explor', 'engag', 'begin', 'start', 'falter', 'watch', 'film', 'mani', 'left', 'theatr', 'first', 'hour', 'inde', 'existenz', 'seem', 'complet', 'failur', 'actor', 'seem', 'unreal', 'plot', 'dialogu', 'silli', 'unfinish', 'relationship', 'unexplain', 'event', 'follow', 'one', 'anoth', 'last', 'fifteen', 'minut', 'lift', 'film', 'complet', 'differ', 'level', 'explain', 'past', 'event', 'silli', 'dialogu', 'unreal', 'perform', 'within', 'scene', 'jet', 'film', 'fail', 'sever', 'issu', 'probabl', 'best', 'written', 'charact', 'stori', 'game', 'design', 'would', 'rather', 'spend', 'rest', 'life', 'virtual', 'world', 'face', 'real', 'life', 'great', 'possibl', 'creat', 'magnific', 'charact', 'jennif', 'jason', 'leigh', 'stretch', 'cronenberg', 'script', 'limit', 'fail', 'advantag', 'virtual', 'realiti', 'comparison', 'real', 'world', 'never', 'shown', 'existenz', 'world', 'might', 'dream', 'fantasi', 'world', 'worth', 'sacrif', 'life', 'cold', 'dark', 'place', 'player', 'forc', 'interrel', 'unreal', 'charact', 'eat', 'mutat', 'creatur', 'even', 'murder', 'look', 'like', 'place', 'worth', 'even', 'think', 'david', 'cronenberg', 'creator', 'fli', 'videodrom', 'dead', 'zone', 'hard', 'guess', 'existenz', 'violent', 'gori', 'film', 'besid', 'regular', 'murder', 'innoc', 'peopl', 'audienc', 'enjoy', 'autopsi', 'two', 'head', 'mutat', 'amfibium', 'scene', 'like', 'becom', 'trademark', 'cronenberg', 'seem', 'make', 'film', 'without', 'flow', 'blood', 'foul', 'creatur', 'way', 'see', 'film', 'crucial', 'failur', 'imposs', 'cronenbergto', 'creat', 'beauti', 'world', 'time', 'space', 'problem', 'everyday', 'life', 'exist', 'place', 'bloom', 'blossom', 'green', 'forest', 'clear', 'water', 'place', 'realli', 'worth', 'sacrif', 'life', 'lack', 'three', 'dimension', 'film', 'loos', 'possibl', 'stay', 'afloat', 'interest', 'scene', 'amus', 'perform', 'especi', 'willem', 'dafo', 'one', 'interest', 'import', 'thought', 'depict', 'mani', 'differ', 'way', 'throughout', 'movi', 'film', 'audienc', 'confus', 'charact', 'detach', 'everyday', 'exist', 'longer', 'abl', 'see', 'differ', 'real', 'world', 'altern', 'realiti', 'creat', 'matrix', 'despit', 'mani', 'dark', 'disturb', 'thought', 'end', 'light', 'end', 'tunnel', 'existenz', 'one', 'time', 'experi', 'end', 'blood', 'gore', 'mad', 'rather', 'frighten', 'forecast', 'tomorrow'], 'pos')\n",
            "Document length: 446\n",
            "Category: pos\n",
            "\n",
            "\n"
          ]
        }
      ]
    },
    {
      "cell_type": "markdown",
      "source": [
        "## 2. Coverage Analysis Insights (2 marks):"
      ],
      "metadata": {
        "id": "PHvuOBrDXBdh"
      }
    },
    {
      "cell_type": "code",
      "source": [
        "\n",
        "from typing import List,Tuple\n",
        "\n",
        "# Initialize stemmer/lemmatizer and stopwords\n",
        "stemmer = PorterStemmer()\n",
        "lemmatizer = WordNetLemmatizer()\n",
        "stop_words = set(stopwords.words('english'))\n",
        "\n",
        "def analysis_coverage_in_preprocess(documents):\n",
        "    \"\"\"\n",
        "    Analyzes the coverage of unique words in documents after preprocessing.\n",
        "\n",
        "    \"\"\"\n",
        "    unique_tokens = set()\n",
        "    processed = set()\n",
        "\n",
        "    num_tokens_considered = [0]\n",
        "    cumulative_coverage = [0]\n",
        "\n",
        "    for words, label in documents:\n",
        "\n",
        "        for i,token in enumerate(words):\n",
        "\n",
        "            lower_token = token.lower()\n",
        "            unique_tokens.add(lower_token)\n",
        "\n",
        "            #Remove stop word, and lematizing\n",
        "            if lower_token not in stop_words and lower_token.isalpha():\n",
        "\n",
        "                # processed.add(lemmatizer.lemmatize(lower_token))\n",
        "                processed.add(lower_token)\n",
        "\n",
        "                #processed coverage\n",
        "                coverage = len(processed) / len(unique_tokens)\n",
        "\n",
        "                cumulative_coverage.append(coverage)\n",
        "                num_tokens_considered.append(len(unique_tokens))\n",
        "\n",
        "\n",
        "\n",
        "    return num_tokens_considered, cumulative_coverage\n",
        "\n",
        "# Recording\n",
        "num_tokens_considered, cumulative_coverage = analysis_coverage_in_preprocess(documents)"
      ],
      "metadata": {
        "id": "pioP9jYeXSFX"
      },
      "execution_count": null,
      "outputs": []
    },
    {
      "cell_type": "code",
      "source": [
        "#preview\n",
        "num_tokens_considered[-1]\n",
        "cumulative_coverage[:5]"
      ],
      "metadata": {
        "colab": {
          "base_uri": "https://localhost:8080/"
        },
        "id": "gZclJobYZcUz",
        "outputId": "846f48d2-4886-457c-a286-5a4aa0508b7b"
      },
      "execution_count": null,
      "outputs": [
        {
          "output_type": "execute_result",
          "data": {
            "text/plain": [
              "[0, 0.3333333333333333, 0.5, 0.5, 0.5]"
            ]
          },
          "metadata": {},
          "execution_count": 55
        }
      ]
    },
    {
      "cell_type": "code",
      "source": [
        "import matplotlib.pyplot as plt\n",
        "\n",
        "# Plotting\n",
        "plt.figure(figsize=(10, 6))\n",
        "plt.plot(num_tokens_considered[::1000], cumulative_coverage[::1000], '-o', markersize=4, label='Coverage Percentage')\n",
        "plt.xlabel('Vocabulary(sorted by frequency)')\n",
        "plt.ylabel('Coverage Percentage')\n",
        "plt.title('Coverage Analysis of Movie Reviews Dataset')\n",
        "plt.legend()\n",
        "plt.grid(False)\n",
        "\n",
        "# plt.xlim(0,35000)\n",
        "# plt.ylim(0,1)\n",
        "\n",
        "plt.show()"
      ],
      "metadata": {
        "colab": {
          "base_uri": "https://localhost:8080/",
          "height": 564
        },
        "id": "5x3pQD4liRwO",
        "outputId": "8b5726e4-59a0-4c39-f03b-990a6f334de9"
      },
      "execution_count": null,
      "outputs": [
        {
          "output_type": "display_data",
          "data": {
            "text/plain": [
              "<Figure size 1000x600 with 1 Axes>"
            ],
            "image/png": "[encoded data removed]"
          },
          "metadata": {}
        }
      ]
    },
    {
      "cell_type": "markdown",
      "source": [
        "### How does the coverage change with the number of tokens considered?\n",
        "\n",
        "`The coverage increases as the number of considered tokens grows, eventually reaching a point of stabilization.`\n",
        "\n",
        "### At what point does the coverage seem to stabilize?\n",
        "` vocab size at 5000, ~97%`\n",
        "\n",
        "### Are there diminishing returns in terms of coverage as the number of tokens increases?\n",
        "`Yes`\n",
        "\n",
        "As more tokens are considered, you start encountering less frequent words. These words add incrementally less to the overall coverage since they are less common or more specialized. Eventually, each new token adds very little to the coverage as you start encountering rare or highly specific words."
      ],
      "metadata": {
        "id": "cChRmpTtfu__"
      }
    },
    {
      "cell_type": "markdown",
      "source": [
        "## Rationalization for Vocabulary Choice:\n",
        "\n",
        "###I. Trade-off Between Larger Vocabulary and Computational Efficiency:\n",
        "\n",
        "A larger vocab can capture more info in the data, improving model's accuracy and process a wider range of sentences. However, increase memory requirement and computational complexity.  \n",
        "\n",
        "</br>\n",
        "\n",
        "###II. Impact of Rare or Very Common Words:\n",
        "Rare words can be very informative or irrelevant noise. Too many rare words leads to overfitting. Very common words are not informative based on zipf's law. Model should focus on more meaningful content.\n",
        "\n",
        "</br>\n",
        "\n",
        "###III. Balancing Informativeness and Model Complexity:\n",
        "The goal is to find a vocabulary size that captures the most informative features without making the model overly complex.\n",
        "\n",
        "</br>\n",
        "\n",
        "`Naive Bayes:` This algorithm can work well with large vocabularies but might be sensitive to the presence of rare words which can skew the probability estimates.\n",
        "\n",
        "`Logistic Regression:` This algorithm can handle sparse data, but a very large vocabulary can lead to long training times and overfitting.\n",
        "\n",
        "`MLP (Multi-Layer Perceptron):` Neural network models like MLPs can require substantial computational resources, especially with large vocabularies. They can benefit from a well-optimized vocabulary to reduce training time and memory usage."
      ],
      "metadata": {
        "id": "BFXoi2vbe7UH"
      }
    },
    {
      "cell_type": "markdown",
      "source": [
        "## 3. Algorithm Implementation (6 marks):"
      ],
      "metadata": {
        "id": "W2g-7Nfm3f2T"
      }
    },
    {
      "cell_type": "code",
      "source": [
        "from sklearn.model_selection import train_test_split\n",
        "\n",
        "# documents preparation\n",
        "# Combining the words back into documents\n",
        "documents = [(\" \".join(words), label) for words, label in preprocessed_documents]\n",
        "\n",
        "# Separate the documents and their labels\n",
        "X, y = zip(*documents)\n",
        "\n",
        "#Split into training and testing\n",
        "X_train, X_test, y_train, y_test = train_test_split(X, y, test_size=0.3, random_state=42)\n"
      ],
      "metadata": {
        "id": "mMplBtVK7RCk"
      },
      "execution_count": null,
      "outputs": []
    },
    {
      "cell_type": "markdown",
      "source": [
        "### a. Naive Bayes"
      ],
      "metadata": {
        "id": "LYmXSwWO3l9E"
      }
    },
    {
      "cell_type": "code",
      "source": [
        "from sklearn.feature_extraction.text import CountVectorizer, TfidfVectorizer\n",
        "from sklearn.naive_bayes import MultinomialNB\n",
        "from sklearn.metrics import accuracy_score\n",
        "from nltk.corpus import movie_reviews\n",
        "\n"
      ],
      "metadata": {
        "id": "g5yBSWuI3yAD"
      },
      "execution_count": null,
      "outputs": []
    },
    {
      "cell_type": "code",
      "source": [
        "# TF representation\n",
        "tf_vectorizer = CountVectorizer()\n",
        "X_train_tf = tf_vectorizer.fit_transform(X_train)\n",
        "X_test_tf = tf_vectorizer.transform(X_test)\n"
      ],
      "metadata": {
        "id": "3tvIRVVI6vph"
      },
      "execution_count": null,
      "outputs": []
    },
    {
      "cell_type": "code",
      "source": [
        "# TF-IDF representation\n",
        "tfidf_vectorizer = TfidfVectorizer()\n",
        "X_train_tfidf = tfidf_vectorizer.fit_transform(X_train)\n",
        "X_test_tfidf = tfidf_vectorizer.transform(X_test)\n"
      ],
      "metadata": {
        "id": "6EPG997z6x7y"
      },
      "execution_count": null,
      "outputs": []
    },
    {
      "cell_type": "code",
      "source": [
        "# Training with TF\n",
        "clf_nb_tf = MultinomialNB()\n",
        "clf_nb_tf.fit(X_train_tf, y_train)\n",
        "\n",
        "# Training with TF-IDF\n",
        "clf_nb_tfidf = MultinomialNB()\n",
        "clf_nb_tfidf.fit(X_train_tfidf, y_train)\n"
      ],
      "metadata": {
        "colab": {
          "base_uri": "https://localhost:8080/",
          "height": 74
        },
        "id": "NICT-7-Z604g",
        "outputId": "c932a947-dda8-41c2-be43-5e7f8a2cfc69"
      },
      "execution_count": null,
      "outputs": [
        {
          "output_type": "execute_result",
          "data": {
            "text/plain": [
              "MultinomialNB()"
            ],
            "text/html": [
              "<style>#sk-container-id-1 {color: black;background-color: white;}#sk-container-id-1 pre{padding: 0;}#sk-container-id-1 div.sk-toggleable {background-color: white;}#sk-container-id-1 label.sk-toggleable__label {cursor: pointer;display: block;width: 100%;margin-bottom: 0;padding: 0.3em;box-sizing: border-box;text-align: center;}#sk-container-id-1 label.sk-toggleable__label-arrow:before {content: \"▸\";float: left;margin-right: 0.25em;color: #696969;}#sk-container-id-1 label.sk-toggleable__label-arrow:hover:before {color: black;}#sk-container-id-1 div.sk-estimator:hover label.sk-toggleable__label-arrow:before {color: black;}#sk-container-id-1 div.sk-toggleable__content {max-height: 0;max-width: 0;overflow: hidden;text-align: left;background-color: #f0f8ff;}#sk-container-id-1 div.sk-toggleable__content pre {margin: 0.2em;color: black;border-radius: 0.25em;background-color: #f0f8ff;}#sk-container-id-1 input.sk-toggleable__control:checked~div.sk-toggleable__content {max-height: 200px;max-width: 100%;overflow: auto;}#sk-container-id-1 input.sk-toggleable__control:checked~label.sk-toggleable__label-arrow:before {content: \"▾\";}#sk-container-id-1 div.sk-estimator input.sk-toggleable__control:checked~label.sk-toggleable__label {background-color: #d4ebff;}#sk-container-id-1 div.sk-label input.sk-toggleable__control:checked~label.sk-toggleable__label {background-color: #d4ebff;}#sk-container-id-1 input.sk-hidden--visually {border: 0;clip: rect(1px 1px 1px 1px);clip: rect(1px, 1px, 1px, 1px);height: 1px;margin: -1px;overflow: hidden;padding: 0;position: absolute;width: 1px;}#sk-container-id-1 div.sk-estimator {font-family: monospace;background-color: #f0f8ff;border: 1px dotted black;border-radius: 0.25em;box-sizing: border-box;margin-bottom: 0.5em;}#sk-container-id-1 div.sk-estimator:hover {background-color: #d4ebff;}#sk-container-id-1 div.sk-parallel-item::after {content: \"\";width: 100%;border-bottom: 1px solid gray;flex-grow: 1;}#sk-container-id-1 div.sk-label:hover label.sk-toggleable__label {background-color: #d4ebff;}#sk-container-id-1 div.sk-serial::before {content: \"\";position: absolute;border-left: 1px solid gray;box-sizing: border-box;top: 0;bottom: 0;left: 50%;z-index: 0;}#sk-container-id-1 div.sk-serial {display: flex;flex-direction: column;align-items: center;background-color: white;padding-right: 0.2em;padding-left: 0.2em;position: relative;}#sk-container-id-1 div.sk-item {position: relative;z-index: 1;}#sk-container-id-1 div.sk-parallel {display: flex;align-items: stretch;justify-content: center;background-color: white;position: relative;}#sk-container-id-1 div.sk-item::before, #sk-container-id-1 div.sk-parallel-item::before {content: \"\";position: absolute;border-left: 1px solid gray;box-sizing: border-box;top: 0;bottom: 0;left: 50%;z-index: -1;}#sk-container-id-1 div.sk-parallel-item {display: flex;flex-direction: column;z-index: 1;position: relative;background-color: white;}#sk-container-id-1 div.sk-parallel-item:first-child::after {align-self: flex-end;width: 50%;}#sk-container-id-1 div.sk-parallel-item:last-child::after {align-self: flex-start;width: 50%;}#sk-container-id-1 div.sk-parallel-item:only-child::after {width: 0;}#sk-container-id-1 div.sk-dashed-wrapped {border: 1px dashed gray;margin: 0 0.4em 0.5em 0.4em;box-sizing: border-box;padding-bottom: 0.4em;background-color: white;}#sk-container-id-1 div.sk-label label {font-family: monospace;font-weight: bold;display: inline-block;line-height: 1.2em;}#sk-container-id-1 div.sk-label-container {text-align: center;}#sk-container-id-1 div.sk-container {/* jupyter's `normalize.less` sets `[hidden] { display: none; }` but bootstrap.min.css set `[hidden] { display: none !important; }` so we also need the `!important` here to be able to override the default hidden behavior on the sphinx rendered scikit-learn.org. See: https://github.com/scikit-learn/scikit-learn/issues/21755 */display: inline-block !important;position: relative;}#sk-container-id-1 div.sk-text-repr-fallback {display: none;}</style><div id=\"sk-container-id-1\" class=\"sk-top-container\"><div class=\"sk-text-repr-fallback\"><pre>MultinomialNB()</pre><b>In a Jupyter environment, please rerun this cell to show the HTML representation or trust the notebook. <br />On GitHub, the HTML representation is unable to render, please try loading this page with nbviewer.org.</b></div><div class=\"sk-container\" hidden><div class=\"sk-item\"><div class=\"sk-estimator sk-toggleable\"><input class=\"sk-toggleable__control sk-hidden--visually\" id=\"sk-estimator-id-1\" type=\"checkbox\" checked><label for=\"sk-estimator-id-1\" class=\"sk-toggleable__label sk-toggleable__label-arrow\">MultinomialNB</label><div class=\"sk-toggleable__content\"><pre>MultinomialNB()</pre></div></div></div></div></div>"
            ]
          },
          "metadata": {},
          "execution_count": 63
        }
      ]
    },
    {
      "cell_type": "code",
      "source": [
        "# Evaluating the TF model\n",
        "y_pred_tf = clf_nb_tf.predict(X_test_tf)\n",
        "accuracy_tf = accuracy_score(y_test, y_pred_tf)\n",
        "\n",
        "# Evaluating the TF-IDF model\n",
        "y_pred_tfidf = clf_nb_tfidf.predict(X_test_tfidf)\n",
        "accuracy_tfidf = accuracy_score(y_test, y_pred_tfidf)\n",
        "\n",
        "print(f\"Naive Bayes Accuracy with TF: {accuracy_tf}\")\n",
        "print(f\"Naive Bayes Accuracy with TF-IDF: {accuracy_tfidf}\")\n"
      ],
      "metadata": {
        "colab": {
          "base_uri": "https://localhost:8080/"
        },
        "id": "ME5XmyvL63eG",
        "outputId": "200cc3d5-f93b-485b-e75e-74d91b54695a"
      },
      "execution_count": null,
      "outputs": [
        {
          "output_type": "stream",
          "name": "stdout",
          "text": [
            "Naive Bayes Accuracy with TF: 0.7966666666666666\n",
            "Naive Bayes Accuracy with TF-IDF: 0.785\n"
          ]
        }
      ]
    },
    {
      "cell_type": "markdown",
      "source": [
        "###b. Logistic Regression:"
      ],
      "metadata": {
        "id": "FzLQHqSp3rv9"
      }
    },
    {
      "cell_type": "code",
      "source": [
        "from sklearn.linear_model import LogisticRegression\n",
        "\n",
        "# Training with TF\n",
        "clf_lr_tf = LogisticRegression(max_iter=1000)\n",
        "clf_lr_tf.fit(X_train_tf, y_train)\n",
        "\n",
        "# Training with TF-IDF\n",
        "clf_lr_tfidf = LogisticRegression(max_iter=1000)\n",
        "clf_lr_tfidf.fit(X_train_tfidf, y_train)\n"
      ],
      "metadata": {
        "colab": {
          "base_uri": "https://localhost:8080/",
          "height": 74
        },
        "id": "j9E_kThC3yk_",
        "outputId": "2f9b8866-cf5b-4b9e-94c8-9c6eefc3022c"
      },
      "execution_count": null,
      "outputs": [
        {
          "output_type": "execute_result",
          "data": {
            "text/plain": [
              "LogisticRegression(max_iter=1000)"
            ],
            "text/html": [
              "<style>#sk-container-id-2 {color: black;background-color: white;}#sk-container-id-2 pre{padding: 0;}#sk-container-id-2 div.sk-toggleable {background-color: white;}#sk-container-id-2 label.sk-toggleable__label {cursor: pointer;display: block;width: 100%;margin-bottom: 0;padding: 0.3em;box-sizing: border-box;text-align: center;}#sk-container-id-2 label.sk-toggleable__label-arrow:before {content: \"▸\";float: left;margin-right: 0.25em;color: #696969;}#sk-container-id-2 label.sk-toggleable__label-arrow:hover:before {color: black;}#sk-container-id-2 div.sk-estimator:hover label.sk-toggleable__label-arrow:before {color: black;}#sk-container-id-2 div.sk-toggleable__content {max-height: 0;max-width: 0;overflow: hidden;text-align: left;background-color: #f0f8ff;}#sk-container-id-2 div.sk-toggleable__content pre {margin: 0.2em;color: black;border-radius: 0.25em;background-color: #f0f8ff;}#sk-container-id-2 input.sk-toggleable__control:checked~div.sk-toggleable__content {max-height: 200px;max-width: 100%;overflow: auto;}#sk-container-id-2 input.sk-toggleable__control:checked~label.sk-toggleable__label-arrow:before {content: \"▾\";}#sk-container-id-2 div.sk-estimator input.sk-toggleable__control:checked~label.sk-toggleable__label {background-color: #d4ebff;}#sk-container-id-2 div.sk-label input.sk-toggleable__control:checked~label.sk-toggleable__label {background-color: #d4ebff;}#sk-container-id-2 input.sk-hidden--visually {border: 0;clip: rect(1px 1px 1px 1px);clip: rect(1px, 1px, 1px, 1px);height: 1px;margin: -1px;overflow: hidden;padding: 0;position: absolute;width: 1px;}#sk-container-id-2 div.sk-estimator {font-family: monospace;background-color: #f0f8ff;border: 1px dotted black;border-radius: 0.25em;box-sizing: border-box;margin-bottom: 0.5em;}#sk-container-id-2 div.sk-estimator:hover {background-color: #d4ebff;}#sk-container-id-2 div.sk-parallel-item::after {content: \"\";width: 100%;border-bottom: 1px solid gray;flex-grow: 1;}#sk-container-id-2 div.sk-label:hover label.sk-toggleable__label {background-color: #d4ebff;}#sk-container-id-2 div.sk-serial::before {content: \"\";position: absolute;border-left: 1px solid gray;box-sizing: border-box;top: 0;bottom: 0;left: 50%;z-index: 0;}#sk-container-id-2 div.sk-serial {display: flex;flex-direction: column;align-items: center;background-color: white;padding-right: 0.2em;padding-left: 0.2em;position: relative;}#sk-container-id-2 div.sk-item {position: relative;z-index: 1;}#sk-container-id-2 div.sk-parallel {display: flex;align-items: stretch;justify-content: center;background-color: white;position: relative;}#sk-container-id-2 div.sk-item::before, #sk-container-id-2 div.sk-parallel-item::before {content: \"\";position: absolute;border-left: 1px solid gray;box-sizing: border-box;top: 0;bottom: 0;left: 50%;z-index: -1;}#sk-container-id-2 div.sk-parallel-item {display: flex;flex-direction: column;z-index: 1;position: relative;background-color: white;}#sk-container-id-2 div.sk-parallel-item:first-child::after {align-self: flex-end;width: 50%;}#sk-container-id-2 div.sk-parallel-item:last-child::after {align-self: flex-start;width: 50%;}#sk-container-id-2 div.sk-parallel-item:only-child::after {width: 0;}#sk-container-id-2 div.sk-dashed-wrapped {border: 1px dashed gray;margin: 0 0.4em 0.5em 0.4em;box-sizing: border-box;padding-bottom: 0.4em;background-color: white;}#sk-container-id-2 div.sk-label label {font-family: monospace;font-weight: bold;display: inline-block;line-height: 1.2em;}#sk-container-id-2 div.sk-label-container {text-align: center;}#sk-container-id-2 div.sk-container {/* jupyter's `normalize.less` sets `[hidden] { display: none; }` but bootstrap.min.css set `[hidden] { display: none !important; }` so we also need the `!important` here to be able to override the default hidden behavior on the sphinx rendered scikit-learn.org. See: https://github.com/scikit-learn/scikit-learn/issues/21755 */display: inline-block !important;position: relative;}#sk-container-id-2 div.sk-text-repr-fallback {display: none;}</style><div id=\"sk-container-id-2\" class=\"sk-top-container\"><div class=\"sk-text-repr-fallback\"><pre>LogisticRegression(max_iter=1000)</pre><b>In a Jupyter environment, please rerun this cell to show the HTML representation or trust the notebook. <br />On GitHub, the HTML representation is unable to render, please try loading this page with nbviewer.org.</b></div><div class=\"sk-container\" hidden><div class=\"sk-item\"><div class=\"sk-estimator sk-toggleable\"><input class=\"sk-toggleable__control sk-hidden--visually\" id=\"sk-estimator-id-2\" type=\"checkbox\" checked><label for=\"sk-estimator-id-2\" class=\"sk-toggleable__label sk-toggleable__label-arrow\">LogisticRegression</label><div class=\"sk-toggleable__content\"><pre>LogisticRegression(max_iter=1000)</pre></div></div></div></div></div>"
            ]
          },
          "metadata": {},
          "execution_count": 65
        }
      ]
    },
    {
      "cell_type": "code",
      "source": [
        "# Evaluating the TF model\n",
        "y_pred_tf = clf_lr_tf.predict(X_test_tf)\n",
        "accuracy_tf = accuracy_score(y_test, y_pred_tf)\n",
        "\n",
        "# Evaluating the TF-IDF model\n",
        "y_pred_tfidf = clf_lr_tfidf.predict(X_test_tfidf)\n",
        "accuracy_tfidf = accuracy_score(y_test, y_pred_tfidf)\n",
        "\n",
        "print(f\"Logistic Regression Accuracy with TF: {accuracy_tf}\")\n",
        "print(f\"Logistic Regression Accuracy with TF-IDF: {accuracy_tfidf}\")\n"
      ],
      "metadata": {
        "colab": {
          "base_uri": "https://localhost:8080/"
        },
        "id": "N4RGlHq08BAg",
        "outputId": "76665ecc-428c-4672-afec-0f02c982355e"
      },
      "execution_count": null,
      "outputs": [
        {
          "output_type": "stream",
          "name": "stdout",
          "text": [
            "Logistic Regression Accuracy with TF: 0.84\n",
            "Logistic Regression Accuracy with TF-IDF: 0.8283333333333334\n"
          ]
        }
      ]
    },
    {
      "cell_type": "markdown",
      "source": [
        "### c. Multilayer Perceptron (MLP):"
      ],
      "metadata": {
        "id": "5TsngYE83y1L"
      }
    },
    {
      "cell_type": "code",
      "source": [
        "from sklearn.neural_network import MLPClassifier\n",
        "\n",
        "# Define the MLP classifier with a specific architecture, e.g., one hidden layer with 100 neurons\n",
        "mlp = MLPClassifier(hidden_layer_sizes=(100,), max_iter=1000)\n",
        "\n",
        "# Train with TF\n",
        "mlp.fit(X_train_tf, y_train)\n",
        "y_pred_tf = mlp.predict(X_test_tf)\n",
        "accuracy_tf = accuracy_score(y_test, y_pred_tf)\n",
        "\n",
        "# Train with TF-IDF\n",
        "mlp.fit(X_train_tfidf, y_train)\n",
        "y_pred_tfidf = mlp.predict(X_test_tfidf)\n",
        "accuracy_tfidf = accuracy_score(y_test, y_pred_tfidf)\n",
        "\n",
        "print(f\"MLP Accuracy with TF (100 neurons): {accuracy_tf}\")\n",
        "print(f\"MLP Accuracy with TF-IDF (100 neurons): {accuracy_tfidf}\")\n",
        "\n"
      ],
      "metadata": {
        "colab": {
          "base_uri": "https://localhost:8080/"
        },
        "id": "ZrqG2-ae348k",
        "outputId": "2106ed0f-9927-4b95-db66-32e10daade8c"
      },
      "execution_count": null,
      "outputs": [
        {
          "output_type": "stream",
          "name": "stdout",
          "text": [
            "MLP Accuracy with TF (100 neurons): 0.84\n",
            "MLP Accuracy with TF-IDF (100 neurons): 0.8133333333333334\n"
          ]
        }
      ]
    },
    {
      "cell_type": "markdown",
      "source": [
        "## 4. Training and Evaluation (4 marks):"
      ],
      "metadata": {
        "id": "RhNoJ49V8vit"
      }
    },
    {
      "cell_type": "code",
      "source": [
        "from sklearn.metrics import confusion_matrix\n",
        "\n",
        "def calculate_performance_metrics(y_true, y_pred):\n",
        "    # Calculate confusion matrix\n",
        "    tn, fp, fn, tp = confusion_matrix(y_true, y_pred).ravel()\n",
        "\n",
        "    # Calculate metrics\n",
        "    accuracy = (tp + tn) / (tp + tn + fp + fn)\n",
        "    tpr = tp / (tp + fn)  # True Positive Rate (Sensitivity)\n",
        "    fpr = fp / (fp + tn)  # False Positive Rate\n",
        "\n",
        "    return accuracy, tpr, fpr\n",
        "\n",
        "# NB Predict on the test set\n",
        "y_pred_nb_tf = clf_nb_tf.predict(X_test_tf)\n",
        "\n",
        "# Calculate performance metrics\n",
        "accuracy_nb_tf, tpr_nb_tf, fpr_nb_tf = calculate_performance_metrics(y_test, y_pred_nb_tf)\n",
        "\n",
        "print(f\"Multinomial Naive Bayes (TF) - Accuracy: {accuracy_nb_tf}, TPR: {tpr_nb_tf}, FPR: {fpr_nb_tf}\")\n",
        "\n"
      ],
      "metadata": {
        "colab": {
          "base_uri": "https://localhost:8080/"
        },
        "id": "6_8gnEiv80VL",
        "outputId": "9d51894a-5030-4bb3-e966-89be9523114e"
      },
      "execution_count": null,
      "outputs": [
        {
          "output_type": "stream",
          "name": "stdout",
          "text": [
            "Multinomial Naive Bayes (TF) - Accuracy: 0.7966666666666666, TPR: 0.7945205479452054, FPR: 0.2012987012987013\n"
          ]
        }
      ]
    },
    {
      "cell_type": "code",
      "source": [
        "# LR Predict on the test set\n",
        "y_pred_lr_tf = clf_lr_tf.predict(X_test_tf)\n",
        "\n",
        "# Calculate performance metrics\n",
        "accuracy_lr_tf, tpr_lr_tf, fpr_lr_tf = calculate_performance_metrics(y_test, y_pred_lr_tf)\n",
        "\n",
        "print(f\"Logistic Regression (TF) - Accuracy: {accuracy_lr_tf}, TPR: {tpr_lr_tf}, FPR: {fpr_lr_tf}\")\n"
      ],
      "metadata": {
        "colab": {
          "base_uri": "https://localhost:8080/"
        },
        "id": "IwaTsq4-HH4o",
        "outputId": "c8a784f5-9106-4aee-b351-1969917f1a61"
      },
      "execution_count": null,
      "outputs": [
        {
          "output_type": "stream",
          "name": "stdout",
          "text": [
            "Logistic Regression (TF) - Accuracy: 0.84, TPR: 0.8253424657534246, FPR: 0.1461038961038961\n"
          ]
        }
      ]
    },
    {
      "cell_type": "code",
      "source": [
        "# LR Predict on the test set\n",
        "y_pred_mlp_tf = mlp.predict(X_test_tf)\n",
        "\n",
        "# Calculate performance metrics\n",
        "accuracy_mlp_tf, tpr_mlp_tf, fpr_mlp_tf = calculate_performance_metrics(y_test, y_pred_mlp_tf)\n",
        "\n",
        "print(f\"MLP-based Classifier (TF) - Accuracy: {accuracy_mlp_tf}, TPR: {tpr_mlp_tf}, FPR: {fpr_mlp_tf}\")\n"
      ],
      "metadata": {
        "colab": {
          "base_uri": "https://localhost:8080/"
        },
        "id": "7gvqhhSJHlM4",
        "outputId": "c24a99c0-8e20-4b99-a5bf-11b63fc23fb3"
      },
      "execution_count": null,
      "outputs": [
        {
          "output_type": "stream",
          "name": "stdout",
          "text": [
            "MLP-based Classifier (TF) - Accuracy: 0.8416666666666667, TPR: 0.9006849315068494, FPR: 0.21428571428571427\n"
          ]
        }
      ]
    },
    {
      "cell_type": "markdown",
      "source": [
        "## 5. Visualization and Analysis (2 marks):"
      ],
      "metadata": {
        "id": "fZ6pYKjvLYvD"
      }
    },
    {
      "cell_type": "code",
      "source": [
        "# Accuracy\n",
        "\n",
        "import matplotlib.pyplot as plt\n",
        "\n",
        "# Sample data\n",
        "clfs = [\"MNB\", \"LR\", \"MLP\"]\n",
        "values = [accuracy_nb_tf, accuracy_lr_tf, accuracy_mlp_tf]\n",
        "\n",
        "# Creating the bar chart\n",
        "plt.bar(clfs, values)\n",
        "\n",
        "# Adding titles and labels\n",
        "plt.title(\"MNB, LR, MLP Accuracy comparision\")\n",
        "plt.xlabel(\"Classifier\")\n",
        "plt.ylabel(\"Score\")\n",
        "\n",
        "# Display the chart\n",
        "plt.show()\n",
        "\n"
      ],
      "metadata": {
        "colab": {
          "base_uri": "https://localhost:8080/",
          "height": 472
        },
        "id": "tgsr9Qq-Lb-V",
        "outputId": "d92f410b-fb41-4635-8c16-4e8148d4ec33"
      },
      "execution_count": null,
      "outputs": [
        {
          "output_type": "display_data",
          "data": {
            "text/plain": [
              "<Figure size 640x480 with 1 Axes>"
            ],
            "image/png": "[encoded data removed]"
          },
          "metadata": {}
        }
      ]
    },
    {
      "cell_type": "code",
      "source": [
        "# TPR\n",
        "\n",
        "import matplotlib.pyplot as plt\n",
        "\n",
        "# Sample data\n",
        "clfs = [\"MNB\", \"LR\", \"MLP\"]\n",
        "values = [tpr_nb_tf, tpr_lr_tf, tpr_mlp_tf]\n",
        "\n",
        "# Creating the bar chart\n",
        "plt.bar(clfs, values)\n",
        "\n",
        "# Adding titles and labels\n",
        "plt.title(\"MNB, LR, MLP TPR comparision\")\n",
        "plt.xlabel(\"Classifier\")\n",
        "plt.ylabel(\"Score\")\n",
        "\n",
        "# Display the chart\n",
        "plt.show()\n",
        "\n"
      ],
      "metadata": {
        "colab": {
          "base_uri": "https://localhost:8080/",
          "height": 472
        },
        "id": "1MXTNEySM9vK",
        "outputId": "2a43423f-5fc7-43b1-c1b5-47634be1da4a"
      },
      "execution_count": null,
      "outputs": [
        {
          "output_type": "display_data",
          "data": {
            "text/plain": [
              "<Figure size 640x480 with 1 Axes>"
            ],
            "image/png": "[encoded data removed]"
          },
          "metadata": {}
        }
      ]
    },
    {
      "cell_type": "code",
      "source": [
        "# FPR\n",
        "\n",
        "import matplotlib.pyplot as plt\n",
        "\n",
        "# Sample data\n",
        "clfs = [\"MNB\", \"LR\", \"MLP\"]\n",
        "values = [fpr_nb_tf, fpr_lr_tf, fpr_mlp_tf]\n",
        "\n",
        "# Creating the bar chart\n",
        "plt.bar(clfs, values)\n",
        "\n",
        "# Adding titles and labels\n",
        "plt.title(\"MNB, LR, MLP FPR comparision\")\n",
        "plt.xlabel(\"Classifier\")\n",
        "plt.ylabel(\"Score\")\n",
        "\n",
        "# Display the chart\n",
        "plt.show()\n",
        "\n"
      ],
      "metadata": {
        "colab": {
          "base_uri": "https://localhost:8080/",
          "height": 472
        },
        "id": "xVvo9P32NZmu",
        "outputId": "6cda09aa-b786-4819-bd8b-3e81e3b48277"
      },
      "execution_count": null,
      "outputs": [
        {
          "output_type": "display_data",
          "data": {
            "text/plain": [
              "<Figure size 640x480 with 1 Axes>"
            ],
            "image/png": "[encoded data removed]"
          },
          "metadata": {}
        }
      ]
    },
    {
      "cell_type": "markdown",
      "source": [
        "## 6. Discussion (3 marks):\n"
      ],
      "metadata": {
        "id": "_vOl5b8qcNV_"
      }
    },
    {
      "cell_type": "markdown",
      "source": [
        "For accuracy, three classifier achieve almost the same result. For TPR, MLP > LR > MNB. For FPR, LR>MNB = MLP\n",
        "\n",
        "\n",
        "For accuracy, all three classifiers (Multinomial Naive Bayes (MNB), Logistic Regression (LR), and Multi-Layer Perceptron (MLP)) achieving similar accuracy suggests that they are equally effective overall in classifying the dataset.\n",
        "\n",
        "For TPR:\n",
        "MLP > LR > MNB: This ranking indicates that the MLP is best at identifying positive cases. The MLP's complex architecture allows it to capture nuanced patterns in the data, leading to better identification of true positives.\n",
        "\n",
        "For FPR:\n",
        "LR > MNB = MLP: Logistic Regression having a higher FPR suggests that while it's good at identifying positive cases, it also misclassifies more negative cases as positive. This could be due to LR's linear decision boundary being less nuanced in certain scenarios.\n",
        "\n",
        "The ideal model achieves a high TPR with a low FPR."
      ],
      "metadata": {
        "id": "1I7S0yfDe33E"
      }
    },
    {
      "cell_type": "markdown",
      "source": [
        "## Discuss the impact of using TF vs. TF-IDF on classification performance."
      ],
      "metadata": {
        "id": "Zcj8CfR3iE3j"
      }
    },
    {
      "cell_type": "markdown",
      "source": [
        "Term Frequency(TF) emphasizes on commonly words that occur frequently in a specific document, under the assumption that frequent words are more relevant to the document's topic.\n",
        "\n",
        "However, common words might be less informative and potentially dilute the classifier's ability to focus on more meaningful terms.\n",
        "\n",
        "TF-IDF reduces noise by identifying unique words that are crucial for classifying a movie review. It could enable classifiers to focus more on distinctive words. MLP and LR could be benifited from it."
      ],
      "metadata": {
        "id": "q3zxB8HMiI_J"
      }
    }
  ]
}